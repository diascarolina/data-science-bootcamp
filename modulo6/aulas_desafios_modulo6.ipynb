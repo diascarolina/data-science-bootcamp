{
  "nbformat": 4,
  "nbformat_minor": 0,
  "metadata": {
    "colab": {
      "name": "aulas_desafios_modulo6.ipynb",
      "provenance": [],
      "toc_visible": true,
      "authorship_tag": "ABX9TyOn0yEUws72Ep+QGVGTzTpZ",
      "include_colab_link": true
    },
    "kernelspec": {
      "name": "python3",
      "display_name": "Python 3"
    },
    "language_info": {
      "name": "python"
    }
  },
  "cells": [
    {
      "cell_type": "markdown",
      "metadata": {
        "id": "view-in-github",
        "colab_type": "text"
      },
      "source": [
        "<a href=\"https://colab.research.google.com/github/diascarolina/data-science-bootcamp/blob/main/modulo6/aulas_desafios_modulo6.ipynb\" target=\"_parent\"><img src=\"https://colab.research.google.com/assets/colab-badge.svg\" alt=\"Open In Colab\"/></a>"
      ]
    },
    {
      "cell_type": "markdown",
      "metadata": {
        "id": "KGDDAk20SmUI"
      },
      "source": [
        "# Applied Data Science Bootcamp"
      ]
    },
    {
      "cell_type": "markdown",
      "metadata": {
        "id": "7rSkPTS7SqcS"
      },
      "source": [
        "# Module 06 - Data Science in Finance"
      ]
    },
    {
      "cell_type": "markdown",
      "metadata": {
        "id": "dGJjOLqyTAee"
      },
      "source": [
        "Notebook for the lessons and proposed challenges."
      ]
    },
    {
      "cell_type": "markdown",
      "metadata": {
        "id": "5FGiFum0TBRH"
      },
      "source": [
        "# Import Libraries"
      ]
    },
    {
      "cell_type": "code",
      "metadata": {
        "id": "o0Xe0A-0St-7"
      },
      "source": [
        "import pandas as pd\n",
        "import matplotlib.pyplot as plt\n",
        "import seaborn as sns\n",
        "\n",
        "sns.set()"
      ],
      "execution_count": 1,
      "outputs": []
    },
    {
      "cell_type": "markdown",
      "metadata": {
        "id": "zGDbYWk9nYEk"
      },
      "source": [
        "# Lesson 01"
      ]
    },
    {
      "cell_type": "code",
      "metadata": {
        "id": "z64PE0JWS-7c"
      },
      "source": [
        "approved_clients_raw = pd.read_csv('https://github.com/diascarolina/data-science-bootcamp/blob/main/data/approved_clients.csv?raw=true')\n",
        "client_records_raw = pd.read_csv('https://github.com/diascarolina/data-science-bootcamp/blob/main/data/client_record.csv?raw=true')"
      ],
      "execution_count": 2,
      "outputs": []
    },
    {
      "cell_type": "code",
      "metadata": {
        "colab": {
          "base_uri": "https://localhost:8080/",
          "height": 225
        },
        "id": "3whlZxKvNam3",
        "outputId": "d87744ab-cd12-49ad-ce36-0c06c37bb24e"
      },
      "source": [
        "client_records_raw.head()"
      ],
      "execution_count": 3,
      "outputs": [
        {
          "output_type": "execute_result",
          "data": {
            "text/html": [
              "<div>\n",
              "<style scoped>\n",
              "    .dataframe tbody tr th:only-of-type {\n",
              "        vertical-align: middle;\n",
              "    }\n",
              "\n",
              "    .dataframe tbody tr th {\n",
              "        vertical-align: top;\n",
              "    }\n",
              "\n",
              "    .dataframe thead th {\n",
              "        text-align: right;\n",
              "    }\n",
              "</style>\n",
              "<table border=\"1\" class=\"dataframe\">\n",
              "  <thead>\n",
              "    <tr style=\"text-align: right;\">\n",
              "      <th></th>\n",
              "      <th>id</th>\n",
              "      <th>gender</th>\n",
              "      <th>own_car</th>\n",
              "      <th>own_property</th>\n",
              "      <th>children_count</th>\n",
              "      <th>annual_income</th>\n",
              "      <th>income_type</th>\n",
              "      <th>education_type</th>\n",
              "      <th>marital_status</th>\n",
              "      <th>housing_type</th>\n",
              "      <th>age</th>\n",
              "      <th>own_cellphone</th>\n",
              "      <th>own_workphone</th>\n",
              "      <th>own_phone</th>\n",
              "      <th>own_email</th>\n",
              "      <th>occupation_type</th>\n",
              "      <th>family_size</th>\n",
              "      <th>years_working</th>\n",
              "    </tr>\n",
              "  </thead>\n",
              "  <tbody>\n",
              "    <tr>\n",
              "      <th>0</th>\n",
              "      <td>5008804</td>\n",
              "      <td>m</td>\n",
              "      <td>1</td>\n",
              "      <td>1</td>\n",
              "      <td>0</td>\n",
              "      <td>427500.0</td>\n",
              "      <td>working</td>\n",
              "      <td>higher_education</td>\n",
              "      <td>civil_marriage</td>\n",
              "      <td>rented_apartment</td>\n",
              "      <td>33.0</td>\n",
              "      <td>1</td>\n",
              "      <td>1</td>\n",
              "      <td>0</td>\n",
              "      <td>0</td>\n",
              "      <td>others</td>\n",
              "      <td>2.0</td>\n",
              "      <td>12.4</td>\n",
              "    </tr>\n",
              "    <tr>\n",
              "      <th>1</th>\n",
              "      <td>5008805</td>\n",
              "      <td>m</td>\n",
              "      <td>1</td>\n",
              "      <td>1</td>\n",
              "      <td>0</td>\n",
              "      <td>427500.0</td>\n",
              "      <td>working</td>\n",
              "      <td>higher_education</td>\n",
              "      <td>civil_marriage</td>\n",
              "      <td>rented_apartment</td>\n",
              "      <td>33.0</td>\n",
              "      <td>1</td>\n",
              "      <td>1</td>\n",
              "      <td>0</td>\n",
              "      <td>0</td>\n",
              "      <td>others</td>\n",
              "      <td>2.0</td>\n",
              "      <td>12.4</td>\n",
              "    </tr>\n",
              "    <tr>\n",
              "      <th>2</th>\n",
              "      <td>5008806</td>\n",
              "      <td>m</td>\n",
              "      <td>1</td>\n",
              "      <td>1</td>\n",
              "      <td>0</td>\n",
              "      <td>112500.0</td>\n",
              "      <td>working</td>\n",
              "      <td>secondary</td>\n",
              "      <td>married</td>\n",
              "      <td>house_apartment</td>\n",
              "      <td>59.0</td>\n",
              "      <td>1</td>\n",
              "      <td>0</td>\n",
              "      <td>0</td>\n",
              "      <td>0</td>\n",
              "      <td>security</td>\n",
              "      <td>2.0</td>\n",
              "      <td>3.1</td>\n",
              "    </tr>\n",
              "    <tr>\n",
              "      <th>3</th>\n",
              "      <td>5008808</td>\n",
              "      <td>f</td>\n",
              "      <td>0</td>\n",
              "      <td>1</td>\n",
              "      <td>0</td>\n",
              "      <td>270000.0</td>\n",
              "      <td>commercial_associate</td>\n",
              "      <td>secondary</td>\n",
              "      <td>single</td>\n",
              "      <td>house_apartment</td>\n",
              "      <td>52.0</td>\n",
              "      <td>1</td>\n",
              "      <td>0</td>\n",
              "      <td>1</td>\n",
              "      <td>1</td>\n",
              "      <td>sales</td>\n",
              "      <td>1.0</td>\n",
              "      <td>8.4</td>\n",
              "    </tr>\n",
              "    <tr>\n",
              "      <th>4</th>\n",
              "      <td>5008809</td>\n",
              "      <td>f</td>\n",
              "      <td>0</td>\n",
              "      <td>1</td>\n",
              "      <td>0</td>\n",
              "      <td>270000.0</td>\n",
              "      <td>commercial_associate</td>\n",
              "      <td>secondary</td>\n",
              "      <td>single</td>\n",
              "      <td>house_apartment</td>\n",
              "      <td>52.0</td>\n",
              "      <td>1</td>\n",
              "      <td>0</td>\n",
              "      <td>1</td>\n",
              "      <td>1</td>\n",
              "      <td>sales</td>\n",
              "      <td>1.0</td>\n",
              "      <td>8.4</td>\n",
              "    </tr>\n",
              "  </tbody>\n",
              "</table>\n",
              "</div>"
            ],
            "text/plain": [
              "        id gender  own_car  ...  occupation_type  family_size  years_working\n",
              "0  5008804      m        1  ...           others          2.0           12.4\n",
              "1  5008805      m        1  ...           others          2.0           12.4\n",
              "2  5008806      m        1  ...         security          2.0            3.1\n",
              "3  5008808      f        0  ...            sales          1.0            8.4\n",
              "4  5008809      f        0  ...            sales          1.0            8.4\n",
              "\n",
              "[5 rows x 18 columns]"
            ]
          },
          "metadata": {},
          "execution_count": 3
        }
      ]
    },
    {
      "cell_type": "code",
      "metadata": {
        "colab": {
          "base_uri": "https://localhost:8080/"
        },
        "id": "bbTKtx1PNnPJ",
        "outputId": "eb79fbfb-bff3-40ee-db31-0198901309d6"
      },
      "source": [
        "client_records_raw.shape"
      ],
      "execution_count": 4,
      "outputs": [
        {
          "output_type": "execute_result",
          "data": {
            "text/plain": [
              "(438557, 18)"
            ]
          },
          "metadata": {},
          "execution_count": 4
        }
      ]
    },
    {
      "cell_type": "code",
      "metadata": {
        "colab": {
          "base_uri": "https://localhost:8080/"
        },
        "id": "yxE2F3D-N1O9",
        "outputId": "45e09912-f186-44ce-9adb-a4363b94a7f5"
      },
      "source": [
        "client_records_raw.id.value_counts()"
      ],
      "execution_count": 5,
      "outputs": [
        {
          "output_type": "execute_result",
          "data": {
            "text/plain": [
              "7603224    2\n",
              "7742853    2\n",
              "7836711    2\n",
              "7091721    2\n",
              "7022327    2\n",
              "          ..\n",
              "5372264    1\n",
              "6412652    1\n",
              "6410605    1\n",
              "6367602    1\n",
              "6291456    1\n",
              "Name: id, Length: 438510, dtype: int64"
            ]
          },
          "metadata": {},
          "execution_count": 5
        }
      ]
    },
    {
      "cell_type": "markdown",
      "metadata": {
        "id": "g8rmYpOiPUvh"
      },
      "source": [
        "We can see that we have some repeated IDs."
      ]
    },
    {
      "cell_type": "code",
      "metadata": {
        "colab": {
          "base_uri": "https://localhost:8080/"
        },
        "id": "Wsrc1jrMON4c",
        "outputId": "ca9efe21-7417-4a86-8169-81ebe2c79ffb"
      },
      "source": [
        "client_records_raw.duplicated().sum()"
      ],
      "execution_count": 6,
      "outputs": [
        {
          "output_type": "execute_result",
          "data": {
            "text/plain": [
              "0"
            ]
          },
          "metadata": {},
          "execution_count": 6
        }
      ]
    },
    {
      "cell_type": "markdown",
      "metadata": {
        "id": "4D0PbCz-QEnZ"
      },
      "source": [
        "This means that we don't have whole rows duplicated."
      ]
    },
    {
      "cell_type": "code",
      "metadata": {
        "colab": {
          "base_uri": "https://localhost:8080/"
        },
        "id": "7_VScT17P9AI",
        "outputId": "a4f27002-d21a-40a0-ffdb-83b2fc1af88f"
      },
      "source": [
        "client_records_raw[client_records_raw.id.duplicated(keep = False)].shape"
      ],
      "execution_count": 7,
      "outputs": [
        {
          "output_type": "execute_result",
          "data": {
            "text/plain": [
              "(94, 18)"
            ]
          },
          "metadata": {},
          "execution_count": 7
        }
      ]
    },
    {
      "cell_type": "markdown",
      "metadata": {
        "id": "e1mqEMRdRLbS"
      },
      "source": [
        "So we have 94 problematic values (47 repeated ones). Let's save them."
      ]
    },
    {
      "cell_type": "code",
      "metadata": {
        "id": "gyoYiBMxQm7V"
      },
      "source": [
        "repeated_ids = client_records_raw[client_records_raw.id.duplicated(keep = False)].id"
      ],
      "execution_count": 8,
      "outputs": []
    },
    {
      "cell_type": "code",
      "metadata": {
        "id": "mcK5yfdaSEkm"
      },
      "source": [
        "client_records = client_records_raw.copy()\n",
        "client_records = client_records.drop(repeated_ids.index)"
      ],
      "execution_count": 9,
      "outputs": []
    },
    {
      "cell_type": "code",
      "metadata": {
        "colab": {
          "base_uri": "https://localhost:8080/"
        },
        "id": "IRl8_GiqTv3x",
        "outputId": "fd532263-7734-445f-8ce5-c35521d8e022"
      },
      "source": [
        "client_records.shape"
      ],
      "execution_count": 10,
      "outputs": [
        {
          "output_type": "execute_result",
          "data": {
            "text/plain": [
              "(438463, 18)"
            ]
          },
          "metadata": {},
          "execution_count": 10
        }
      ]
    },
    {
      "cell_type": "code",
      "metadata": {
        "colab": {
          "base_uri": "https://localhost:8080/"
        },
        "id": "f8nJIL5oS3S_",
        "outputId": "f3afa555-21d7-493d-b98b-583c394df1db"
      },
      "source": [
        "client_records.id.value_counts()"
      ],
      "execution_count": 11,
      "outputs": [
        {
          "output_type": "execute_result",
          "data": {
            "text/plain": [
              "6293503    1\n",
              "5166449    1\n",
              "6210931    1\n",
              "5174645    1\n",
              "5170551    1\n",
              "          ..\n",
              "7410037    1\n",
              "6357367    1\n",
              "6375806    1\n",
              "5683584    1\n",
              "6291456    1\n",
              "Name: id, Length: 438463, dtype: int64"
            ]
          },
          "metadata": {},
          "execution_count": 11
        }
      ]
    },
    {
      "cell_type": "markdown",
      "metadata": {
        "id": "lwwFrBSOTzZe"
      },
      "source": [
        "Now we have only one ID per row."
      ]
    },
    {
      "cell_type": "markdown",
      "metadata": {
        "id": "-psn8YECV_B5"
      },
      "source": [
        "Do we have null data?"
      ]
    },
    {
      "cell_type": "code",
      "metadata": {
        "colab": {
          "base_uri": "https://localhost:8080/"
        },
        "id": "VgfVWISDTuBd",
        "outputId": "393e7f13-6be8-4426-bb38-04f985d7e9e0"
      },
      "source": [
        "print(f'Number of null values in client_records: {client_records.isnull().sum().sum()}')"
      ],
      "execution_count": 12,
      "outputs": [
        {
          "output_type": "stream",
          "name": "stdout",
          "text": [
            "Number of null values in client_records: 0\n"
          ]
        }
      ]
    },
    {
      "cell_type": "code",
      "metadata": {
        "colab": {
          "base_uri": "https://localhost:8080/"
        },
        "id": "NSKYl7tRT9w_",
        "outputId": "bc29e438-99f4-419a-c6e4-3dfebd2a1ddc"
      },
      "source": [
        "client_records.info()"
      ],
      "execution_count": 13,
      "outputs": [
        {
          "output_type": "stream",
          "name": "stdout",
          "text": [
            "<class 'pandas.core.frame.DataFrame'>\n",
            "Int64Index: 438463 entries, 0 to 438556\n",
            "Data columns (total 18 columns):\n",
            " #   Column           Non-Null Count   Dtype  \n",
            "---  ------           --------------   -----  \n",
            " 0   id               438463 non-null  int64  \n",
            " 1   gender           438463 non-null  object \n",
            " 2   own_car          438463 non-null  int64  \n",
            " 3   own_property     438463 non-null  int64  \n",
            " 4   children_count   438463 non-null  int64  \n",
            " 5   annual_income    438463 non-null  float64\n",
            " 6   income_type      438463 non-null  object \n",
            " 7   education_type   438463 non-null  object \n",
            " 8   marital_status   438463 non-null  object \n",
            " 9   housing_type     438463 non-null  object \n",
            " 10  age              438463 non-null  float64\n",
            " 11  own_cellphone    438463 non-null  int64  \n",
            " 12  own_workphone    438463 non-null  int64  \n",
            " 13  own_phone        438463 non-null  int64  \n",
            " 14  own_email        438463 non-null  int64  \n",
            " 15  occupation_type  438463 non-null  object \n",
            " 16  family_size      438463 non-null  float64\n",
            " 17  years_working    438463 non-null  float64\n",
            "dtypes: float64(4), int64(8), object(6)\n",
            "memory usage: 63.6+ MB\n"
          ]
        }
      ]
    },
    {
      "cell_type": "markdown",
      "metadata": {
        "id": "TdlXJBJEWObc"
      },
      "source": [
        "# Lesson 02"
      ]
    },
    {
      "cell_type": "code",
      "metadata": {
        "id": "fIx15gqnXMak"
      },
      "source": [
        "quantitative_variables = ['age', 'children_count', 'annual_income', 'years_working', 'family_size']"
      ],
      "execution_count": 14,
      "outputs": []
    },
    {
      "cell_type": "code",
      "metadata": {
        "colab": {
          "base_uri": "https://localhost:8080/",
          "height": 299
        },
        "id": "E7ZnRNlUYBJS",
        "outputId": "dcd98a5a-6180-40cb-9d04-f3712309fd31"
      },
      "source": [
        "client_records[quantitative_variables].describe()"
      ],
      "execution_count": 15,
      "outputs": [
        {
          "output_type": "execute_result",
          "data": {
            "text/html": [
              "<div>\n",
              "<style scoped>\n",
              "    .dataframe tbody tr th:only-of-type {\n",
              "        vertical-align: middle;\n",
              "    }\n",
              "\n",
              "    .dataframe tbody tr th {\n",
              "        vertical-align: top;\n",
              "    }\n",
              "\n",
              "    .dataframe thead th {\n",
              "        text-align: right;\n",
              "    }\n",
              "</style>\n",
              "<table border=\"1\" class=\"dataframe\">\n",
              "  <thead>\n",
              "    <tr style=\"text-align: right;\">\n",
              "      <th></th>\n",
              "      <th>age</th>\n",
              "      <th>children_count</th>\n",
              "      <th>annual_income</th>\n",
              "      <th>years_working</th>\n",
              "      <th>family_size</th>\n",
              "    </tr>\n",
              "  </thead>\n",
              "  <tbody>\n",
              "    <tr>\n",
              "      <th>count</th>\n",
              "      <td>438463.000000</td>\n",
              "      <td>438463.000000</td>\n",
              "      <td>4.384630e+05</td>\n",
              "      <td>438463.000000</td>\n",
              "      <td>438463.000000</td>\n",
              "    </tr>\n",
              "    <tr>\n",
              "      <th>mean</th>\n",
              "      <td>43.834032</td>\n",
              "      <td>0.427384</td>\n",
              "      <td>1.875220e+05</td>\n",
              "      <td>-165.936036</td>\n",
              "      <td>2.194461</td>\n",
              "    </tr>\n",
              "    <tr>\n",
              "      <th>std</th>\n",
              "      <td>11.472815</td>\n",
              "      <td>0.724879</td>\n",
              "      <td>1.100832e+05</td>\n",
              "      <td>380.201131</td>\n",
              "      <td>0.897194</td>\n",
              "    </tr>\n",
              "    <tr>\n",
              "      <th>min</th>\n",
              "      <td>21.000000</td>\n",
              "      <td>0.000000</td>\n",
              "      <td>2.610000e+04</td>\n",
              "      <td>-1000.700000</td>\n",
              "      <td>1.000000</td>\n",
              "    </tr>\n",
              "    <tr>\n",
              "      <th>25%</th>\n",
              "      <td>34.000000</td>\n",
              "      <td>0.000000</td>\n",
              "      <td>1.215000e+05</td>\n",
              "      <td>1.000000</td>\n",
              "      <td>2.000000</td>\n",
              "    </tr>\n",
              "    <tr>\n",
              "      <th>50%</th>\n",
              "      <td>43.000000</td>\n",
              "      <td>0.000000</td>\n",
              "      <td>1.611000e+05</td>\n",
              "      <td>4.000000</td>\n",
              "      <td>2.000000</td>\n",
              "    </tr>\n",
              "    <tr>\n",
              "      <th>75%</th>\n",
              "      <td>53.000000</td>\n",
              "      <td>1.000000</td>\n",
              "      <td>2.250000e+05</td>\n",
              "      <td>8.500000</td>\n",
              "      <td>3.000000</td>\n",
              "    </tr>\n",
              "    <tr>\n",
              "      <th>max</th>\n",
              "      <td>69.000000</td>\n",
              "      <td>19.000000</td>\n",
              "      <td>6.750000e+06</td>\n",
              "      <td>48.000000</td>\n",
              "      <td>20.000000</td>\n",
              "    </tr>\n",
              "  </tbody>\n",
              "</table>\n",
              "</div>"
            ],
            "text/plain": [
              "                 age  children_count  ...  years_working    family_size\n",
              "count  438463.000000   438463.000000  ...  438463.000000  438463.000000\n",
              "mean       43.834032        0.427384  ...    -165.936036       2.194461\n",
              "std        11.472815        0.724879  ...     380.201131       0.897194\n",
              "min        21.000000        0.000000  ...   -1000.700000       1.000000\n",
              "25%        34.000000        0.000000  ...       1.000000       2.000000\n",
              "50%        43.000000        0.000000  ...       4.000000       2.000000\n",
              "75%        53.000000        1.000000  ...       8.500000       3.000000\n",
              "max        69.000000       19.000000  ...      48.000000      20.000000\n",
              "\n",
              "[8 rows x 5 columns]"
            ]
          },
          "metadata": {},
          "execution_count": 15
        }
      ]
    },
    {
      "cell_type": "markdown",
      "metadata": {
        "id": "Uw7XJtkEYbwf"
      },
      "source": [
        "Taking a look at the table above, how can someone have ```years_working``` equal to -1000.7?"
      ]
    },
    {
      "cell_type": "code",
      "metadata": {
        "colab": {
          "base_uri": "https://localhost:8080/"
        },
        "id": "-AjJvnifYJzA",
        "outputId": "1962bac9-314e-451c-fdc8-b589140204f0"
      },
      "source": [
        "client_records.query(\"years_working <= 0\")[['years_working', 'income_type']].value_counts()"
      ],
      "execution_count": 16,
      "outputs": [
        {
          "output_type": "execute_result",
          "data": {
            "text/plain": [
              "years_working  income_type         \n",
              "-1000.7        pensioner               75314\n",
              " 0.0           working                    26\n",
              "               state_servant              11\n",
              "               commercial_associate        7\n",
              "dtype: int64"
            ]
          },
          "metadata": {},
          "execution_count": 16
        }
      ]
    },
    {
      "cell_type": "markdown",
      "metadata": {
        "id": "uMLW_dqQaNV9"
      },
      "source": [
        "We see that all ```years_working == -1000.7``` are pensioners."
      ]
    },
    {
      "cell_type": "code",
      "metadata": {
        "colab": {
          "base_uri": "https://localhost:8080/"
        },
        "id": "G04a8HWxZ9pf",
        "outputId": "9102df8d-9f21-49db-9991-578b0dfc28f4"
      },
      "source": [
        "client_records.query(\"income_type == 'pensioner'\")['income_type'].value_counts()"
      ],
      "execution_count": 17,
      "outputs": [
        {
          "output_type": "execute_result",
          "data": {
            "text/plain": [
              "pensioner    75478\n",
              "Name: income_type, dtype: int64"
            ]
          },
          "metadata": {},
          "execution_count": 17
        }
      ]
    },
    {
      "cell_type": "markdown",
      "metadata": {
        "id": "h_paiyZkauw4"
      },
      "source": [
        "Almost all pensioners have ```years_working == -1000.7```."
      ]
    },
    {
      "cell_type": "code",
      "metadata": {
        "id": "JdqD0eWAbDbJ"
      },
      "source": [
        "client_records['years_working'] = client_records['years_working'].replace(-1000.7, -1)"
      ],
      "execution_count": 18,
      "outputs": []
    },
    {
      "cell_type": "code",
      "metadata": {
        "colab": {
          "base_uri": "https://localhost:8080/",
          "height": 299
        },
        "id": "95H98x-cbOwS",
        "outputId": "b2a1940c-0b45-41f9-bcdc-741635fd96f6"
      },
      "source": [
        "client_records[quantitative_variables].describe()"
      ],
      "execution_count": 19,
      "outputs": [
        {
          "output_type": "execute_result",
          "data": {
            "text/html": [
              "<div>\n",
              "<style scoped>\n",
              "    .dataframe tbody tr th:only-of-type {\n",
              "        vertical-align: middle;\n",
              "    }\n",
              "\n",
              "    .dataframe tbody tr th {\n",
              "        vertical-align: top;\n",
              "    }\n",
              "\n",
              "    .dataframe thead th {\n",
              "        text-align: right;\n",
              "    }\n",
              "</style>\n",
              "<table border=\"1\" class=\"dataframe\">\n",
              "  <thead>\n",
              "    <tr style=\"text-align: right;\">\n",
              "      <th></th>\n",
              "      <th>age</th>\n",
              "      <th>children_count</th>\n",
              "      <th>annual_income</th>\n",
              "      <th>years_working</th>\n",
              "      <th>family_size</th>\n",
              "    </tr>\n",
              "  </thead>\n",
              "  <tbody>\n",
              "    <tr>\n",
              "      <th>count</th>\n",
              "      <td>438463.000000</td>\n",
              "      <td>438463.000000</td>\n",
              "      <td>4.384630e+05</td>\n",
              "      <td>438463.000000</td>\n",
              "      <td>438463.000000</td>\n",
              "    </tr>\n",
              "    <tr>\n",
              "      <th>mean</th>\n",
              "      <td>43.834032</td>\n",
              "      <td>0.427384</td>\n",
              "      <td>1.875220e+05</td>\n",
              "      <td>5.780633</td>\n",
              "      <td>2.194461</td>\n",
              "    </tr>\n",
              "    <tr>\n",
              "      <th>std</th>\n",
              "      <td>11.472815</td>\n",
              "      <td>0.724879</td>\n",
              "      <td>1.100832e+05</td>\n",
              "      <td>6.733151</td>\n",
              "      <td>0.897194</td>\n",
              "    </tr>\n",
              "    <tr>\n",
              "      <th>min</th>\n",
              "      <td>21.000000</td>\n",
              "      <td>0.000000</td>\n",
              "      <td>2.610000e+04</td>\n",
              "      <td>-1.000000</td>\n",
              "      <td>1.000000</td>\n",
              "    </tr>\n",
              "    <tr>\n",
              "      <th>25%</th>\n",
              "      <td>34.000000</td>\n",
              "      <td>0.000000</td>\n",
              "      <td>1.215000e+05</td>\n",
              "      <td>1.000000</td>\n",
              "      <td>2.000000</td>\n",
              "    </tr>\n",
              "    <tr>\n",
              "      <th>50%</th>\n",
              "      <td>43.000000</td>\n",
              "      <td>0.000000</td>\n",
              "      <td>1.611000e+05</td>\n",
              "      <td>4.000000</td>\n",
              "      <td>2.000000</td>\n",
              "    </tr>\n",
              "    <tr>\n",
              "      <th>75%</th>\n",
              "      <td>53.000000</td>\n",
              "      <td>1.000000</td>\n",
              "      <td>2.250000e+05</td>\n",
              "      <td>8.500000</td>\n",
              "      <td>3.000000</td>\n",
              "    </tr>\n",
              "    <tr>\n",
              "      <th>max</th>\n",
              "      <td>69.000000</td>\n",
              "      <td>19.000000</td>\n",
              "      <td>6.750000e+06</td>\n",
              "      <td>48.000000</td>\n",
              "      <td>20.000000</td>\n",
              "    </tr>\n",
              "  </tbody>\n",
              "</table>\n",
              "</div>"
            ],
            "text/plain": [
              "                 age  children_count  ...  years_working    family_size\n",
              "count  438463.000000   438463.000000  ...  438463.000000  438463.000000\n",
              "mean       43.834032        0.427384  ...       5.780633       2.194461\n",
              "std        11.472815        0.724879  ...       6.733151       0.897194\n",
              "min        21.000000        0.000000  ...      -1.000000       1.000000\n",
              "25%        34.000000        0.000000  ...       1.000000       2.000000\n",
              "50%        43.000000        0.000000  ...       4.000000       2.000000\n",
              "75%        53.000000        1.000000  ...       8.500000       3.000000\n",
              "max        69.000000       19.000000  ...      48.000000      20.000000\n",
              "\n",
              "[8 rows x 5 columns]"
            ]
          },
          "metadata": {},
          "execution_count": 19
        }
      ]
    },
    {
      "cell_type": "code",
      "metadata": {
        "colab": {
          "base_uri": "https://localhost:8080/",
          "height": 285
        },
        "id": "dTOcIqm4bSfn",
        "outputId": "1cf0d900-0f94-417a-afd9-ab02155502cd"
      },
      "source": [
        "sns.histplot(data = client_records, x = 'annual_income', bins = 10)\n",
        "plt.show()"
      ],
      "execution_count": 20,
      "outputs": [
        {
          "output_type": "display_data",
          "data": {
            "image/png": "[encoded data removed]",
            "text/plain": [
              "<Figure size 432x288 with 1 Axes>"
            ]
          },
          "metadata": {
            "needs_background": "light"
          }
        }
      ]
    },
    {
      "cell_type": "markdown",
      "metadata": {
        "id": "N0VG65kjcitN"
      },
      "source": [
        "Let's remove tha outliers."
      ]
    },
    {
      "cell_type": "code",
      "metadata": {
        "colab": {
          "base_uri": "https://localhost:8080/"
        },
        "id": "6SE2l080cU_1",
        "outputId": "af04ac3e-5fc2-48d4-f604-799fa701d203"
      },
      "source": [
        "annual_income_column = client_records['annual_income']\n",
        "avg_annual_income = annual_income_column.mean()\n",
        "std_annual_income = annual_income_column.std()\n",
        "\n",
        "upper_limit = avg_annual_income + (2 * std_annual_income)\n",
        "lower_limit = avg_annual_income - (2 * std_annual_income)\n",
        "\n",
        "outlier_index = []\n",
        "for index, value in annual_income_column.items():\n",
        "    if value > upper_limit or value < lower_limit:\n",
        "        outlier_index.append(index)\n",
        "\n",
        "print(f'We have {len(outlier_index)} outliers in the annual income column.')"
      ],
      "execution_count": 21,
      "outputs": [
        {
          "output_type": "stream",
          "name": "stdout",
          "text": [
            "We have 12641 outliers in the annual income column.\n"
          ]
        }
      ]
    },
    {
      "cell_type": "code",
      "metadata": {
        "colab": {
          "base_uri": "https://localhost:8080/"
        },
        "id": "MfJoVIq6dNa6",
        "outputId": "96b087d4-baab-4747-bc18-99233ec60dff"
      },
      "source": [
        "client_records = client_records.drop(outlier_index)\n",
        "client_records.shape"
      ],
      "execution_count": 22,
      "outputs": [
        {
          "output_type": "execute_result",
          "data": {
            "text/plain": [
              "(425822, 18)"
            ]
          },
          "metadata": {},
          "execution_count": 22
        }
      ]
    },
    {
      "cell_type": "code",
      "metadata": {
        "colab": {
          "base_uri": "https://localhost:8080/",
          "height": 299
        },
        "id": "KCp2UvjJeyQ_",
        "outputId": "b611decb-fb65-49fb-c1d8-f244785f7e70"
      },
      "source": [
        "client_records[quantitative_variables].describe()"
      ],
      "execution_count": 23,
      "outputs": [
        {
          "output_type": "execute_result",
          "data": {
            "text/html": [
              "<div>\n",
              "<style scoped>\n",
              "    .dataframe tbody tr th:only-of-type {\n",
              "        vertical-align: middle;\n",
              "    }\n",
              "\n",
              "    .dataframe tbody tr th {\n",
              "        vertical-align: top;\n",
              "    }\n",
              "\n",
              "    .dataframe thead th {\n",
              "        text-align: right;\n",
              "    }\n",
              "</style>\n",
              "<table border=\"1\" class=\"dataframe\">\n",
              "  <thead>\n",
              "    <tr style=\"text-align: right;\">\n",
              "      <th></th>\n",
              "      <th>age</th>\n",
              "      <th>children_count</th>\n",
              "      <th>annual_income</th>\n",
              "      <th>years_working</th>\n",
              "      <th>family_size</th>\n",
              "    </tr>\n",
              "  </thead>\n",
              "  <tbody>\n",
              "    <tr>\n",
              "      <th>count</th>\n",
              "      <td>425822.000000</td>\n",
              "      <td>425822.000000</td>\n",
              "      <td>425822.000000</td>\n",
              "      <td>425822.000000</td>\n",
              "      <td>425822.000000</td>\n",
              "    </tr>\n",
              "    <tr>\n",
              "      <th>mean</th>\n",
              "      <td>43.838707</td>\n",
              "      <td>0.425314</td>\n",
              "      <td>176384.728083</td>\n",
              "      <td>5.744956</td>\n",
              "      <td>2.191683</td>\n",
              "    </tr>\n",
              "    <tr>\n",
              "      <th>std</th>\n",
              "      <td>11.525400</td>\n",
              "      <td>0.723577</td>\n",
              "      <td>75033.530551</td>\n",
              "      <td>6.736649</td>\n",
              "      <td>0.896300</td>\n",
              "    </tr>\n",
              "    <tr>\n",
              "      <th>min</th>\n",
              "      <td>21.000000</td>\n",
              "      <td>0.000000</td>\n",
              "      <td>26100.000000</td>\n",
              "      <td>-1.000000</td>\n",
              "      <td>1.000000</td>\n",
              "    </tr>\n",
              "    <tr>\n",
              "      <th>25%</th>\n",
              "      <td>34.000000</td>\n",
              "      <td>0.000000</td>\n",
              "      <td>117000.000000</td>\n",
              "      <td>1.000000</td>\n",
              "      <td>2.000000</td>\n",
              "    </tr>\n",
              "    <tr>\n",
              "      <th>50%</th>\n",
              "      <td>43.000000</td>\n",
              "      <td>0.000000</td>\n",
              "      <td>157500.000000</td>\n",
              "      <td>4.000000</td>\n",
              "      <td>2.000000</td>\n",
              "    </tr>\n",
              "    <tr>\n",
              "      <th>75%</th>\n",
              "      <td>53.000000</td>\n",
              "      <td>1.000000</td>\n",
              "      <td>225000.000000</td>\n",
              "      <td>8.500000</td>\n",
              "      <td>3.000000</td>\n",
              "    </tr>\n",
              "    <tr>\n",
              "      <th>max</th>\n",
              "      <td>69.000000</td>\n",
              "      <td>19.000000</td>\n",
              "      <td>405000.000000</td>\n",
              "      <td>48.000000</td>\n",
              "      <td>20.000000</td>\n",
              "    </tr>\n",
              "  </tbody>\n",
              "</table>\n",
              "</div>"
            ],
            "text/plain": [
              "                 age  children_count  ...  years_working    family_size\n",
              "count  425822.000000   425822.000000  ...  425822.000000  425822.000000\n",
              "mean       43.838707        0.425314  ...       5.744956       2.191683\n",
              "std        11.525400        0.723577  ...       6.736649       0.896300\n",
              "min        21.000000        0.000000  ...      -1.000000       1.000000\n",
              "25%        34.000000        0.000000  ...       1.000000       2.000000\n",
              "50%        43.000000        0.000000  ...       4.000000       2.000000\n",
              "75%        53.000000        1.000000  ...       8.500000       3.000000\n",
              "max        69.000000       19.000000  ...      48.000000      20.000000\n",
              "\n",
              "[8 rows x 5 columns]"
            ]
          },
          "metadata": {},
          "execution_count": 23
        }
      ]
    },
    {
      "cell_type": "code",
      "metadata": {
        "colab": {
          "base_uri": "https://localhost:8080/",
          "height": 299
        },
        "id": "Y-3q8_4yfBib",
        "outputId": "a491dde5-90b1-42bc-b0c6-e03239b232fc"
      },
      "source": [
        "sns.histplot(data = client_records, x = 'annual_income', bins = 10)\n",
        "plt.xticks(rotation = 20)\n",
        "plt.show()"
      ],
      "execution_count": 24,
      "outputs": [
        {
          "output_type": "display_data",
          "data": {
            "image/png": "[encoded data removed]",
            "text/plain": [
              "<Figure size 432x288 with 1 Axes>"
            ]
          },
          "metadata": {
            "needs_background": "light"
          }
        }
      ]
    },
    {
      "cell_type": "code",
      "metadata": {
        "colab": {
          "base_uri": "https://localhost:8080/",
          "height": 289
        },
        "id": "2hP6quLefJTO",
        "outputId": "898b0828-2940-45fd-d160-123169a3fc50"
      },
      "source": [
        "sns.histplot(data = client_records, x = 'age', bins = 10)\n",
        "plt.xticks(rotation = 20)\n",
        "plt.show()"
      ],
      "execution_count": 25,
      "outputs": [
        {
          "output_type": "display_data",
          "data": {
            "image/png": "[encoded data removed]",
            "text/plain": [
              "<Figure size 432x288 with 1 Axes>"
            ]
          },
          "metadata": {
            "needs_background": "light"
          }
        }
      ]
    },
    {
      "cell_type": "code",
      "metadata": {
        "colab": {
          "base_uri": "https://localhost:8080/",
          "height": 289
        },
        "id": "xJ65n6PmfbCn",
        "outputId": "5f1fe4e0-3093-4afc-e0df-2061e57d517d"
      },
      "source": [
        "sns.histplot(data = client_records.query(\"years_working > 0\"), x = 'years_working')\n",
        "plt.xticks(rotation = 20)\n",
        "plt.show()"
      ],
      "execution_count": 26,
      "outputs": [
        {
          "output_type": "display_data",
          "data": {
            "image/png": "[encoded data removed]",
            "text/plain": [
              "<Figure size 432x288 with 1 Axes>"
            ]
          },
          "metadata": {
            "needs_background": "light"
          }
        }
      ]
    },
    {
      "cell_type": "code",
      "metadata": {
        "colab": {
          "base_uri": "https://localhost:8080/"
        },
        "id": "Z-phygmChu7t",
        "outputId": "9d26dcc1-d574-4621-ed89-fdd3be5421f5"
      },
      "source": [
        "client_records.info()"
      ],
      "execution_count": 27,
      "outputs": [
        {
          "output_type": "stream",
          "name": "stdout",
          "text": [
            "<class 'pandas.core.frame.DataFrame'>\n",
            "Int64Index: 425822 entries, 2 to 438556\n",
            "Data columns (total 18 columns):\n",
            " #   Column           Non-Null Count   Dtype  \n",
            "---  ------           --------------   -----  \n",
            " 0   id               425822 non-null  int64  \n",
            " 1   gender           425822 non-null  object \n",
            " 2   own_car          425822 non-null  int64  \n",
            " 3   own_property     425822 non-null  int64  \n",
            " 4   children_count   425822 non-null  int64  \n",
            " 5   annual_income    425822 non-null  float64\n",
            " 6   income_type      425822 non-null  object \n",
            " 7   education_type   425822 non-null  object \n",
            " 8   marital_status   425822 non-null  object \n",
            " 9   housing_type     425822 non-null  object \n",
            " 10  age              425822 non-null  float64\n",
            " 11  own_cellphone    425822 non-null  int64  \n",
            " 12  own_workphone    425822 non-null  int64  \n",
            " 13  own_phone        425822 non-null  int64  \n",
            " 14  own_email        425822 non-null  int64  \n",
            " 15  occupation_type  425822 non-null  object \n",
            " 16  family_size      425822 non-null  float64\n",
            " 17  years_working    425822 non-null  float64\n",
            "dtypes: float64(4), int64(8), object(6)\n",
            "memory usage: 61.7+ MB\n"
          ]
        }
      ]
    },
    {
      "cell_type": "code",
      "metadata": {
        "id": "RwFIhdPufoB7"
      },
      "source": [
        "categorical_variables = ['gender', 'own_car', 'own_property', 'income_type',\n",
        "                         'education_type', 'marital_status', 'housing_type',\n",
        "                         'own_cellphone', 'own_workphone', 'own_phone', 'own_email',\n",
        "                         'occupation_type']"
      ],
      "execution_count": 28,
      "outputs": []
    },
    {
      "cell_type": "code",
      "metadata": {
        "colab": {
          "base_uri": "https://localhost:8080/",
          "height": 338
        },
        "id": "Lu-p3fISirAc",
        "outputId": "b510a5cf-9dfd-481e-9e0f-80adfce2c630"
      },
      "source": [
        "sns.countplot(data = client_records, x = 'marital_status')\n",
        "plt.xticks(rotation = 45, ha = 'right')\n",
        "plt.show()"
      ],
      "execution_count": 29,
      "outputs": [
        {
          "output_type": "display_data",
          "data": {
            "image/png": "[encoded data removed]",
            "text/plain": [
              "<Figure size 432x288 with 1 Axes>"
            ]
          },
          "metadata": {
            "needs_background": "light"
          }
        }
      ]
    },
    {
      "cell_type": "code",
      "metadata": {
        "colab": {
          "base_uri": "https://localhost:8080/",
          "height": 285
        },
        "id": "roBzhLW_kQs3",
        "outputId": "a219335a-3562-487e-875f-0e2d56fe402b"
      },
      "source": [
        "sns.countplot(data = client_records, x = 'own_cellphone')\n",
        "plt.xticks(ha = 'right')\n",
        "plt.show()"
      ],
      "execution_count": 30,
      "outputs": [
        {
          "output_type": "display_data",
          "data": {
            "image/png": "[encoded data removed]",
            "text/plain": [
              "<Figure size 432x288 with 1 Axes>"
            ]
          },
          "metadata": {
            "needs_background": "light"
          }
        }
      ]
    },
    {
      "cell_type": "code",
      "metadata": {
        "colab": {
          "base_uri": "https://localhost:8080/",
          "height": 351
        },
        "id": "oS_nmD5-kfOS",
        "outputId": "40291eb0-92a1-4985-8880-dac9d4334dbe"
      },
      "source": [
        "sns.countplot(data = client_records, x = 'occupation_type')\n",
        "plt.xticks(rotation = 45, ha = 'right')\n",
        "plt.show()"
      ],
      "execution_count": 31,
      "outputs": [
        {
          "output_type": "display_data",
          "data": {
            "image/png": "[encoded data removed]",
            "text/plain": [
              "<Figure size 432x288 with 1 Axes>"
            ]
          },
          "metadata": {
            "needs_background": "light"
          }
        }
      ]
    },
    {
      "cell_type": "code",
      "metadata": {
        "colab": {
          "base_uri": "https://localhost:8080/",
          "height": 312
        },
        "id": "Zsw9h70Akluv",
        "outputId": "ec2a98a1-030c-4c18-ce65-61b0015505b3"
      },
      "source": [
        "sns.histplot(data = client_records.query(\"occupation_type == 'others'\"), x = 'annual_income', bins = 10)\n",
        "plt.xticks(rotation = 45)\n",
        "plt.show()"
      ],
      "execution_count": 32,
      "outputs": [
        {
          "output_type": "display_data",
          "data": {
            "image/png": "[encoded data removed]",
            "text/plain": [
              "<Figure size 432x288 with 1 Axes>"
            ]
          },
          "metadata": {
            "needs_background": "light"
          }
        }
      ]
    },
    {
      "cell_type": "markdown",
      "metadata": {
        "id": "meIpxB25m_Q8"
      },
      "source": [
        "We have seen that the variable ``own_cellphone``` has only one alue, so it is not relevant for our future machine learning model.\n",
        "\n",
        "Also, we will drop the gender variable in order to avoid a bias."
      ]
    },
    {
      "cell_type": "code",
      "metadata": {
        "id": "xN3WW15KlazX"
      },
      "source": [
        "client_records = client_records.drop(['gender', 'own_cellphone'], axis = 1)"
      ],
      "execution_count": 33,
      "outputs": []
    },
    {
      "cell_type": "code",
      "metadata": {
        "colab": {
          "base_uri": "https://localhost:8080/"
        },
        "id": "1KO0ytCSnqGh",
        "outputId": "89714186-c0a7-42ee-ead8-391fe3609af4"
      },
      "source": [
        "client_records.shape"
      ],
      "execution_count": 34,
      "outputs": [
        {
          "output_type": "execute_result",
          "data": {
            "text/plain": [
              "(425822, 16)"
            ]
          },
          "metadata": {},
          "execution_count": 34
        }
      ]
    },
    {
      "cell_type": "markdown",
      "metadata": {
        "id": "OSg9yh2nn3X4"
      },
      "source": [
        "Let's update our categorical variables."
      ]
    },
    {
      "cell_type": "code",
      "metadata": {
        "id": "N5up-uLJntao"
      },
      "source": [
        "categorical_variables.remove('gender')\n",
        "categorical_variables.remove('own_cellphone')"
      ],
      "execution_count": 35,
      "outputs": []
    },
    {
      "cell_type": "markdown",
      "metadata": {
        "id": "Z-j_8x_SoQw2"
      },
      "source": [
        "# Lesson 03"
      ]
    },
    {
      "cell_type": "markdown",
      "metadata": {
        "id": "f2x-AqWnyTD2"
      },
      "source": [
        "Let's now take a look at the approved clients."
      ]
    },
    {
      "cell_type": "code",
      "metadata": {
        "id": "sI90Yo-wn1ZF"
      },
      "source": [
        "approved_clients = approved_clients_raw.copy()"
      ],
      "execution_count": 36,
      "outputs": []
    },
    {
      "cell_type": "code",
      "metadata": {
        "colab": {
          "base_uri": "https://localhost:8080/",
          "height": 205
        },
        "id": "j2G-ehKwpw5N",
        "outputId": "f4ccea6b-0f8c-4ed7-e751-dccf9c1c47c3"
      },
      "source": [
        "approved_clients.head()"
      ],
      "execution_count": 37,
      "outputs": [
        {
          "output_type": "execute_result",
          "data": {
            "text/html": [
              "<div>\n",
              "<style scoped>\n",
              "    .dataframe tbody tr th:only-of-type {\n",
              "        vertical-align: middle;\n",
              "    }\n",
              "\n",
              "    .dataframe tbody tr th {\n",
              "        vertical-align: top;\n",
              "    }\n",
              "\n",
              "    .dataframe thead th {\n",
              "        text-align: right;\n",
              "    }\n",
              "</style>\n",
              "<table border=\"1\" class=\"dataframe\">\n",
              "  <thead>\n",
              "    <tr style=\"text-align: right;\">\n",
              "      <th></th>\n",
              "      <th>id</th>\n",
              "      <th>month</th>\n",
              "      <th>status</th>\n",
              "    </tr>\n",
              "  </thead>\n",
              "  <tbody>\n",
              "    <tr>\n",
              "      <th>0</th>\n",
              "      <td>5001711</td>\n",
              "      <td>0</td>\n",
              "      <td>no_loan</td>\n",
              "    </tr>\n",
              "    <tr>\n",
              "      <th>1</th>\n",
              "      <td>5001711</td>\n",
              "      <td>-1</td>\n",
              "      <td>1-29days</td>\n",
              "    </tr>\n",
              "    <tr>\n",
              "      <th>2</th>\n",
              "      <td>5001711</td>\n",
              "      <td>-2</td>\n",
              "      <td>1-29days</td>\n",
              "    </tr>\n",
              "    <tr>\n",
              "      <th>3</th>\n",
              "      <td>5001711</td>\n",
              "      <td>-3</td>\n",
              "      <td>1-29days</td>\n",
              "    </tr>\n",
              "    <tr>\n",
              "      <th>4</th>\n",
              "      <td>5001712</td>\n",
              "      <td>0</td>\n",
              "      <td>paid_loan</td>\n",
              "    </tr>\n",
              "  </tbody>\n",
              "</table>\n",
              "</div>"
            ],
            "text/plain": [
              "        id  month     status\n",
              "0  5001711      0    no_loan\n",
              "1  5001711     -1   1-29days\n",
              "2  5001711     -2   1-29days\n",
              "3  5001711     -3   1-29days\n",
              "4  5001712      0  paid_loan"
            ]
          },
          "metadata": {},
          "execution_count": 37
        }
      ]
    },
    {
      "cell_type": "code",
      "metadata": {
        "colab": {
          "base_uri": "https://localhost:8080/"
        },
        "id": "yaJmlzRmp1mL",
        "outputId": "19bd32cb-7948-41df-b0d7-b8b8853235cd"
      },
      "source": [
        "approved_clients.info()"
      ],
      "execution_count": 38,
      "outputs": [
        {
          "output_type": "stream",
          "name": "stdout",
          "text": [
            "<class 'pandas.core.frame.DataFrame'>\n",
            "RangeIndex: 1048575 entries, 0 to 1048574\n",
            "Data columns (total 3 columns):\n",
            " #   Column  Non-Null Count    Dtype \n",
            "---  ------  --------------    ----- \n",
            " 0   id      1048575 non-null  int64 \n",
            " 1   month   1048575 non-null  int64 \n",
            " 2   status  1048575 non-null  object\n",
            "dtypes: int64(2), object(1)\n",
            "memory usage: 24.0+ MB\n"
          ]
        }
      ]
    },
    {
      "cell_type": "code",
      "metadata": {
        "colab": {
          "base_uri": "https://localhost:8080/"
        },
        "id": "PEKX11a_p50z",
        "outputId": "7cf7b900-c994-4984-8fdf-ce5c4f1df9d5"
      },
      "source": [
        "approved_clients.id.value_counts().shape"
      ],
      "execution_count": 40,
      "outputs": [
        {
          "output_type": "execute_result",
          "data": {
            "text/plain": [
              "(45985,)"
            ]
          },
          "metadata": {},
          "execution_count": 40
        }
      ]
    },
    {
      "cell_type": "code",
      "metadata": {
        "id": "th_CL6TZyfi-"
      },
      "source": [
        ""
      ],
      "execution_count": null,
      "outputs": []
    }
  ]
}