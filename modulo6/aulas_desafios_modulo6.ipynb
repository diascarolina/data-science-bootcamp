{
  "nbformat": 4,
  "nbformat_minor": 0,
  "metadata": {
    "colab": {
      "name": "aulas_desafios_modulo6.ipynb",
      "provenance": [],
      "authorship_tag": "ABX9TyOMtx4DvPM+D45Fe9DPZMOB",
      "include_colab_link": true
    },
    "kernelspec": {
      "name": "python3",
      "display_name": "Python 3"
    },
    "language_info": {
      "name": "python"
    }
  },
  "cells": [
    {
      "cell_type": "markdown",
      "metadata": {
        "id": "view-in-github",
        "colab_type": "text"
      },
      "source": [
        "<a href=\"https://colab.research.google.com/github/diascarolina/data-science-bootcamp/blob/main/modulo6/aulas_desafios_modulo6.ipynb\" target=\"_parent\"><img src=\"https://colab.research.google.com/assets/colab-badge.svg\" alt=\"Open In Colab\"/></a>"
      ]
    },
    {
      "cell_type": "markdown",
      "metadata": {
        "id": "KGDDAk20SmUI"
      },
      "source": [
        "# Bootcamp Data Science Aplicada"
      ]
    },
    {
      "cell_type": "markdown",
      "metadata": {
        "id": "7rSkPTS7SqcS"
      },
      "source": [
        "# Módulo 06 - Data Science Aplicado em Finanças"
      ]
    },
    {
      "cell_type": "markdown",
      "metadata": {
        "id": "dGJjOLqyTAee"
      },
      "source": [
        "Notebook para o acompanhamento das aulas e resoluções dos desafios propostos."
      ]
    },
    {
      "cell_type": "markdown",
      "metadata": {
        "id": "5FGiFum0TBRH"
      },
      "source": [
        "# Importação das Bibliotecas"
      ]
    },
    {
      "cell_type": "code",
      "metadata": {
        "id": "o0Xe0A-0St-7"
      },
      "source": [
        "import pandas as pd"
      ],
      "execution_count": null,
      "outputs": []
    },
    {
      "cell_type": "code",
      "metadata": {
        "id": "z64PE0JWS-7c"
      },
      "source": [
        "aprovados = pd.read_csv('https://github.com/alura-cursos/Avaliacao_Credito/blob/main/dados/clientes_aprovados.csv?raw=true')\n",
        "cadastrados = pd.read_csv('https://github.com/alura-cursos/Avaliacao_Credito/blob/main/dados/clientes_cadastrados.csv?raw=true')"
      ],
      "execution_count": null,
      "outputs": []
    },
    {
      "cell_type": "code",
      "metadata": {
        "colab": {
          "base_uri": "https://localhost:8080/"
        },
        "id": "F0ct1zy0TGUj",
        "outputId": "c43751e6-6608-40de-a4e4-6ee05fbbd360"
      },
      "source": [
        "len(aprovados.ID_Cliente.unique())"
      ],
      "execution_count": null,
      "outputs": [
        {
          "output_type": "execute_result",
          "data": {
            "text/plain": [
              "45985"
            ]
          },
          "metadata": {
            "tags": []
          },
          "execution_count": 9
        }
      ]
    },
    {
      "cell_type": "code",
      "metadata": {
        "colab": {
          "base_uri": "https://localhost:8080/"
        },
        "id": "62C8HIydTIqq",
        "outputId": "900324e7-d067-4a97-b17b-0aa3e66dbaf9"
      },
      "source": [
        "len(cadastrados.ID_Cliente.unique())"
      ],
      "execution_count": null,
      "outputs": [
        {
          "output_type": "execute_result",
          "data": {
            "text/plain": [
              "438510"
            ]
          },
          "metadata": {
            "tags": []
          },
          "execution_count": 10
        }
      ]
    }
  ]
}