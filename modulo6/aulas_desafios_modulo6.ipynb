{
  "nbformat": 4,
  "nbformat_minor": 0,
  "metadata": {
    "colab": {
      "name": "aulas_desafios_modulo6.ipynb",
      "provenance": [],
      "toc_visible": true,
      "authorship_tag": "ABX9TyMVkmdqudHtFQfmHOfvfQFh",
      "include_colab_link": true
    },
    "kernelspec": {
      "name": "python3",
      "display_name": "Python 3"
    },
    "language_info": {
      "name": "python"
    }
  },
  "cells": [
    {
      "cell_type": "markdown",
      "metadata": {
        "id": "view-in-github",
        "colab_type": "text"
      },
      "source": [
        "<a href=\"https://colab.research.google.com/github/diascarolina/data-science-bootcamp/blob/main/modulo6/aulas_desafios_modulo6.ipynb\" target=\"_parent\"><img src=\"https://colab.research.google.com/assets/colab-badge.svg\" alt=\"Open In Colab\"/></a>"
      ]
    },
    {
      "cell_type": "markdown",
      "metadata": {
        "id": "KGDDAk20SmUI"
      },
      "source": [
        "# Applied Data Science Bootcamp"
      ]
    },
    {
      "cell_type": "markdown",
      "metadata": {
        "id": "7rSkPTS7SqcS"
      },
      "source": [
        "# Module 06 - Data Science in Finance"
      ]
    },
    {
      "cell_type": "markdown",
      "metadata": {
        "id": "dGJjOLqyTAee"
      },
      "source": [
        "Notebook for the lessons and proposed challenges."
      ]
    },
    {
      "cell_type": "markdown",
      "metadata": {
        "id": "5FGiFum0TBRH"
      },
      "source": [
        "# Import Libraries"
      ]
    },
    {
      "cell_type": "code",
      "metadata": {
        "id": "o0Xe0A-0St-7"
      },
      "source": [
        "import pandas as pd\n",
        "import numpy as np\n",
        "import matplotlib.pyplot as plt\n",
        "import seaborn as sns\n",
        "from scipy import stats\n",
        "\n",
        "from sklearn.linear_model import LogisticRegression\n",
        "from sklearn.ensemble import RandomForestClassifier\n",
        "from sklearn.dummy import DummyClassifier\n",
        "from sklearn.model_selection import train_test_split\n",
        "from sklearn.metrics import roc_auc_score, classification_report, plot_confusion_matrix\n",
        "from sklearn.preprocessing import OneHotEncoder\n",
        "from sklearn.preprocessing import MinMaxScaler\n",
        "from sklearn.base import BaseEstimator, TransformerMixin\n",
        "from sklearn.pipeline import Pipeline\n",
        "\n",
        "from imblearn.over_sampling import SMOTE\n",
        "from imblearn.pipeline import Pipeline\n",
        "\n",
        "sns.set()"
      ],
      "execution_count": 86,
      "outputs": []
    },
    {
      "cell_type": "markdown",
      "metadata": {
        "id": "zGDbYWk9nYEk"
      },
      "source": [
        "# Lesson 01"
      ]
    },
    {
      "cell_type": "code",
      "metadata": {
        "id": "z64PE0JWS-7c"
      },
      "source": [
        "approved_clients_raw = pd.read_csv('https://github.com/diascarolina/data-science-bootcamp/blob/main/data/approved_clients.csv?raw=true')\n",
        "client_records_raw = pd.read_csv('https://github.com/diascarolina/data-science-bootcamp/blob/main/data/client_record.csv?raw=true')"
      ],
      "execution_count": 2,
      "outputs": []
    },
    {
      "cell_type": "code",
      "metadata": {
        "colab": {
          "base_uri": "https://localhost:8080/",
          "height": 225
        },
        "id": "3whlZxKvNam3",
        "outputId": "98acbdf4-617b-410a-8165-36900328fc9a"
      },
      "source": [
        "client_records_raw.head()"
      ],
      "execution_count": 3,
      "outputs": [
        {
          "output_type": "execute_result",
          "data": {
            "text/html": [
              "<div>\n",
              "<style scoped>\n",
              "    .dataframe tbody tr th:only-of-type {\n",
              "        vertical-align: middle;\n",
              "    }\n",
              "\n",
              "    .dataframe tbody tr th {\n",
              "        vertical-align: top;\n",
              "    }\n",
              "\n",
              "    .dataframe thead th {\n",
              "        text-align: right;\n",
              "    }\n",
              "</style>\n",
              "<table border=\"1\" class=\"dataframe\">\n",
              "  <thead>\n",
              "    <tr style=\"text-align: right;\">\n",
              "      <th></th>\n",
              "      <th>id</th>\n",
              "      <th>gender</th>\n",
              "      <th>own_car</th>\n",
              "      <th>own_property</th>\n",
              "      <th>children_count</th>\n",
              "      <th>annual_income</th>\n",
              "      <th>income_type</th>\n",
              "      <th>education_type</th>\n",
              "      <th>marital_status</th>\n",
              "      <th>housing_type</th>\n",
              "      <th>age</th>\n",
              "      <th>own_cellphone</th>\n",
              "      <th>own_workphone</th>\n",
              "      <th>own_phone</th>\n",
              "      <th>own_email</th>\n",
              "      <th>occupation_type</th>\n",
              "      <th>family_size</th>\n",
              "      <th>years_working</th>\n",
              "    </tr>\n",
              "  </thead>\n",
              "  <tbody>\n",
              "    <tr>\n",
              "      <th>0</th>\n",
              "      <td>5008804</td>\n",
              "      <td>m</td>\n",
              "      <td>1</td>\n",
              "      <td>1</td>\n",
              "      <td>0</td>\n",
              "      <td>427500.0</td>\n",
              "      <td>working</td>\n",
              "      <td>higher_education</td>\n",
              "      <td>civil_marriage</td>\n",
              "      <td>rented_apartment</td>\n",
              "      <td>33.0</td>\n",
              "      <td>1</td>\n",
              "      <td>1</td>\n",
              "      <td>0</td>\n",
              "      <td>0</td>\n",
              "      <td>others</td>\n",
              "      <td>2.0</td>\n",
              "      <td>12.4</td>\n",
              "    </tr>\n",
              "    <tr>\n",
              "      <th>1</th>\n",
              "      <td>5008805</td>\n",
              "      <td>m</td>\n",
              "      <td>1</td>\n",
              "      <td>1</td>\n",
              "      <td>0</td>\n",
              "      <td>427500.0</td>\n",
              "      <td>working</td>\n",
              "      <td>higher_education</td>\n",
              "      <td>civil_marriage</td>\n",
              "      <td>rented_apartment</td>\n",
              "      <td>33.0</td>\n",
              "      <td>1</td>\n",
              "      <td>1</td>\n",
              "      <td>0</td>\n",
              "      <td>0</td>\n",
              "      <td>others</td>\n",
              "      <td>2.0</td>\n",
              "      <td>12.4</td>\n",
              "    </tr>\n",
              "    <tr>\n",
              "      <th>2</th>\n",
              "      <td>5008806</td>\n",
              "      <td>m</td>\n",
              "      <td>1</td>\n",
              "      <td>1</td>\n",
              "      <td>0</td>\n",
              "      <td>112500.0</td>\n",
              "      <td>working</td>\n",
              "      <td>secondary</td>\n",
              "      <td>married</td>\n",
              "      <td>house_apartment</td>\n",
              "      <td>59.0</td>\n",
              "      <td>1</td>\n",
              "      <td>0</td>\n",
              "      <td>0</td>\n",
              "      <td>0</td>\n",
              "      <td>security</td>\n",
              "      <td>2.0</td>\n",
              "      <td>3.1</td>\n",
              "    </tr>\n",
              "    <tr>\n",
              "      <th>3</th>\n",
              "      <td>5008808</td>\n",
              "      <td>f</td>\n",
              "      <td>0</td>\n",
              "      <td>1</td>\n",
              "      <td>0</td>\n",
              "      <td>270000.0</td>\n",
              "      <td>commercial_associate</td>\n",
              "      <td>secondary</td>\n",
              "      <td>single</td>\n",
              "      <td>house_apartment</td>\n",
              "      <td>52.0</td>\n",
              "      <td>1</td>\n",
              "      <td>0</td>\n",
              "      <td>1</td>\n",
              "      <td>1</td>\n",
              "      <td>sales</td>\n",
              "      <td>1.0</td>\n",
              "      <td>8.4</td>\n",
              "    </tr>\n",
              "    <tr>\n",
              "      <th>4</th>\n",
              "      <td>5008809</td>\n",
              "      <td>f</td>\n",
              "      <td>0</td>\n",
              "      <td>1</td>\n",
              "      <td>0</td>\n",
              "      <td>270000.0</td>\n",
              "      <td>commercial_associate</td>\n",
              "      <td>secondary</td>\n",
              "      <td>single</td>\n",
              "      <td>house_apartment</td>\n",
              "      <td>52.0</td>\n",
              "      <td>1</td>\n",
              "      <td>0</td>\n",
              "      <td>1</td>\n",
              "      <td>1</td>\n",
              "      <td>sales</td>\n",
              "      <td>1.0</td>\n",
              "      <td>8.4</td>\n",
              "    </tr>\n",
              "  </tbody>\n",
              "</table>\n",
              "</div>"
            ],
            "text/plain": [
              "        id gender  own_car  ...  occupation_type  family_size  years_working\n",
              "0  5008804      m        1  ...           others          2.0           12.4\n",
              "1  5008805      m        1  ...           others          2.0           12.4\n",
              "2  5008806      m        1  ...         security          2.0            3.1\n",
              "3  5008808      f        0  ...            sales          1.0            8.4\n",
              "4  5008809      f        0  ...            sales          1.0            8.4\n",
              "\n",
              "[5 rows x 18 columns]"
            ]
          },
          "metadata": {},
          "execution_count": 3
        }
      ]
    },
    {
      "cell_type": "code",
      "metadata": {
        "colab": {
          "base_uri": "https://localhost:8080/"
        },
        "id": "bbTKtx1PNnPJ",
        "outputId": "e930bbdd-b7b2-451c-d3fc-a5891e5897e4"
      },
      "source": [
        "client_records_raw.shape"
      ],
      "execution_count": 4,
      "outputs": [
        {
          "output_type": "execute_result",
          "data": {
            "text/plain": [
              "(438557, 18)"
            ]
          },
          "metadata": {},
          "execution_count": 4
        }
      ]
    },
    {
      "cell_type": "code",
      "metadata": {
        "colab": {
          "base_uri": "https://localhost:8080/"
        },
        "id": "yxE2F3D-N1O9",
        "outputId": "d5729ba4-419a-4404-cca1-856a70dc4dcb"
      },
      "source": [
        "client_records_raw.id.value_counts()"
      ],
      "execution_count": 5,
      "outputs": [
        {
          "output_type": "execute_result",
          "data": {
            "text/plain": [
              "7603224    2\n",
              "7742853    2\n",
              "7836711    2\n",
              "7091721    2\n",
              "7022327    2\n",
              "          ..\n",
              "5372264    1\n",
              "6412652    1\n",
              "6410605    1\n",
              "6367602    1\n",
              "6291456    1\n",
              "Name: id, Length: 438510, dtype: int64"
            ]
          },
          "metadata": {},
          "execution_count": 5
        }
      ]
    },
    {
      "cell_type": "markdown",
      "metadata": {
        "id": "g8rmYpOiPUvh"
      },
      "source": [
        "We can see that we have some repeated IDs."
      ]
    },
    {
      "cell_type": "code",
      "metadata": {
        "colab": {
          "base_uri": "https://localhost:8080/"
        },
        "id": "Wsrc1jrMON4c",
        "outputId": "d3a858d3-452a-40ac-bd98-d80182dab679"
      },
      "source": [
        "client_records_raw.duplicated().sum()"
      ],
      "execution_count": 6,
      "outputs": [
        {
          "output_type": "execute_result",
          "data": {
            "text/plain": [
              "0"
            ]
          },
          "metadata": {},
          "execution_count": 6
        }
      ]
    },
    {
      "cell_type": "markdown",
      "metadata": {
        "id": "4D0PbCz-QEnZ"
      },
      "source": [
        "This means that we don't have whole rows duplicated."
      ]
    },
    {
      "cell_type": "code",
      "metadata": {
        "colab": {
          "base_uri": "https://localhost:8080/"
        },
        "id": "7_VScT17P9AI",
        "outputId": "3bb9305c-6ff3-4e59-9270-ad9c1cc8b73c"
      },
      "source": [
        "client_records_raw[client_records_raw.id.duplicated(keep = False)].shape"
      ],
      "execution_count": 7,
      "outputs": [
        {
          "output_type": "execute_result",
          "data": {
            "text/plain": [
              "(94, 18)"
            ]
          },
          "metadata": {},
          "execution_count": 7
        }
      ]
    },
    {
      "cell_type": "markdown",
      "metadata": {
        "id": "e1mqEMRdRLbS"
      },
      "source": [
        "So we have 94 problematic values (47 repeated ones). Let's save them."
      ]
    },
    {
      "cell_type": "code",
      "metadata": {
        "id": "gyoYiBMxQm7V"
      },
      "source": [
        "repeated_ids = client_records_raw[client_records_raw.id.duplicated(keep = False)].id"
      ],
      "execution_count": 8,
      "outputs": []
    },
    {
      "cell_type": "code",
      "metadata": {
        "id": "mcK5yfdaSEkm"
      },
      "source": [
        "client_records = client_records_raw.copy()\n",
        "client_records = client_records.drop(repeated_ids.index)"
      ],
      "execution_count": 9,
      "outputs": []
    },
    {
      "cell_type": "code",
      "metadata": {
        "colab": {
          "base_uri": "https://localhost:8080/"
        },
        "id": "IRl8_GiqTv3x",
        "outputId": "30bf7583-c7b8-46ec-eefb-bb375845bad6"
      },
      "source": [
        "client_records.shape"
      ],
      "execution_count": 10,
      "outputs": [
        {
          "output_type": "execute_result",
          "data": {
            "text/plain": [
              "(438463, 18)"
            ]
          },
          "metadata": {},
          "execution_count": 10
        }
      ]
    },
    {
      "cell_type": "code",
      "metadata": {
        "colab": {
          "base_uri": "https://localhost:8080/"
        },
        "id": "f8nJIL5oS3S_",
        "outputId": "561cfca4-e9a4-482e-82c5-83aa6e606dff"
      },
      "source": [
        "client_records.id.value_counts()"
      ],
      "execution_count": 11,
      "outputs": [
        {
          "output_type": "execute_result",
          "data": {
            "text/plain": [
              "6293503    1\n",
              "5166449    1\n",
              "6210931    1\n",
              "5174645    1\n",
              "5170551    1\n",
              "          ..\n",
              "7410037    1\n",
              "6357367    1\n",
              "6375806    1\n",
              "5683584    1\n",
              "6291456    1\n",
              "Name: id, Length: 438463, dtype: int64"
            ]
          },
          "metadata": {},
          "execution_count": 11
        }
      ]
    },
    {
      "cell_type": "markdown",
      "metadata": {
        "id": "lwwFrBSOTzZe"
      },
      "source": [
        "Now we have only one ID per row."
      ]
    },
    {
      "cell_type": "markdown",
      "metadata": {
        "id": "-psn8YECV_B5"
      },
      "source": [
        "Do we have null data?"
      ]
    },
    {
      "cell_type": "code",
      "metadata": {
        "colab": {
          "base_uri": "https://localhost:8080/"
        },
        "id": "VgfVWISDTuBd",
        "outputId": "038f7fca-aa44-4083-b232-96a571f69d20"
      },
      "source": [
        "print(f'Number of null values in client_records: {client_records.isnull().sum().sum()}')"
      ],
      "execution_count": 12,
      "outputs": [
        {
          "output_type": "stream",
          "name": "stdout",
          "text": [
            "Number of null values in client_records: 0\n"
          ]
        }
      ]
    },
    {
      "cell_type": "code",
      "metadata": {
        "colab": {
          "base_uri": "https://localhost:8080/"
        },
        "id": "NSKYl7tRT9w_",
        "outputId": "ade0ff42-efcf-469a-f2df-04ddbebd23d1"
      },
      "source": [
        "client_records.info()"
      ],
      "execution_count": 13,
      "outputs": [
        {
          "output_type": "stream",
          "name": "stdout",
          "text": [
            "<class 'pandas.core.frame.DataFrame'>\n",
            "Int64Index: 438463 entries, 0 to 438556\n",
            "Data columns (total 18 columns):\n",
            " #   Column           Non-Null Count   Dtype  \n",
            "---  ------           --------------   -----  \n",
            " 0   id               438463 non-null  int64  \n",
            " 1   gender           438463 non-null  object \n",
            " 2   own_car          438463 non-null  int64  \n",
            " 3   own_property     438463 non-null  int64  \n",
            " 4   children_count   438463 non-null  int64  \n",
            " 5   annual_income    438463 non-null  float64\n",
            " 6   income_type      438463 non-null  object \n",
            " 7   education_type   438463 non-null  object \n",
            " 8   marital_status   438463 non-null  object \n",
            " 9   housing_type     438463 non-null  object \n",
            " 10  age              438463 non-null  float64\n",
            " 11  own_cellphone    438463 non-null  int64  \n",
            " 12  own_workphone    438463 non-null  int64  \n",
            " 13  own_phone        438463 non-null  int64  \n",
            " 14  own_email        438463 non-null  int64  \n",
            " 15  occupation_type  438463 non-null  object \n",
            " 16  family_size      438463 non-null  float64\n",
            " 17  years_working    438463 non-null  float64\n",
            "dtypes: float64(4), int64(8), object(6)\n",
            "memory usage: 63.6+ MB\n"
          ]
        }
      ]
    },
    {
      "cell_type": "markdown",
      "metadata": {
        "id": "TdlXJBJEWObc"
      },
      "source": [
        "# Lesson 02"
      ]
    },
    {
      "cell_type": "code",
      "metadata": {
        "id": "fIx15gqnXMak"
      },
      "source": [
        "quantitative_variables = ['age', 'children_count', 'annual_income', 'years_working', 'family_size']"
      ],
      "execution_count": 14,
      "outputs": []
    },
    {
      "cell_type": "code",
      "metadata": {
        "colab": {
          "base_uri": "https://localhost:8080/",
          "height": 0
        },
        "id": "E7ZnRNlUYBJS",
        "outputId": "bfa7f2a2-ef16-49fe-d5df-891a08375d0d"
      },
      "source": [
        "client_records[quantitative_variables].describe()"
      ],
      "execution_count": 15,
      "outputs": [
        {
          "output_type": "execute_result",
          "data": {
            "text/html": [
              "<div>\n",
              "<style scoped>\n",
              "    .dataframe tbody tr th:only-of-type {\n",
              "        vertical-align: middle;\n",
              "    }\n",
              "\n",
              "    .dataframe tbody tr th {\n",
              "        vertical-align: top;\n",
              "    }\n",
              "\n",
              "    .dataframe thead th {\n",
              "        text-align: right;\n",
              "    }\n",
              "</style>\n",
              "<table border=\"1\" class=\"dataframe\">\n",
              "  <thead>\n",
              "    <tr style=\"text-align: right;\">\n",
              "      <th></th>\n",
              "      <th>age</th>\n",
              "      <th>children_count</th>\n",
              "      <th>annual_income</th>\n",
              "      <th>years_working</th>\n",
              "      <th>family_size</th>\n",
              "    </tr>\n",
              "  </thead>\n",
              "  <tbody>\n",
              "    <tr>\n",
              "      <th>count</th>\n",
              "      <td>438463.000000</td>\n",
              "      <td>438463.000000</td>\n",
              "      <td>4.384630e+05</td>\n",
              "      <td>438463.000000</td>\n",
              "      <td>438463.000000</td>\n",
              "    </tr>\n",
              "    <tr>\n",
              "      <th>mean</th>\n",
              "      <td>43.834032</td>\n",
              "      <td>0.427384</td>\n",
              "      <td>1.875220e+05</td>\n",
              "      <td>-165.936036</td>\n",
              "      <td>2.194461</td>\n",
              "    </tr>\n",
              "    <tr>\n",
              "      <th>std</th>\n",
              "      <td>11.472815</td>\n",
              "      <td>0.724879</td>\n",
              "      <td>1.100832e+05</td>\n",
              "      <td>380.201131</td>\n",
              "      <td>0.897194</td>\n",
              "    </tr>\n",
              "    <tr>\n",
              "      <th>min</th>\n",
              "      <td>21.000000</td>\n",
              "      <td>0.000000</td>\n",
              "      <td>2.610000e+04</td>\n",
              "      <td>-1000.700000</td>\n",
              "      <td>1.000000</td>\n",
              "    </tr>\n",
              "    <tr>\n",
              "      <th>25%</th>\n",
              "      <td>34.000000</td>\n",
              "      <td>0.000000</td>\n",
              "      <td>1.215000e+05</td>\n",
              "      <td>1.000000</td>\n",
              "      <td>2.000000</td>\n",
              "    </tr>\n",
              "    <tr>\n",
              "      <th>50%</th>\n",
              "      <td>43.000000</td>\n",
              "      <td>0.000000</td>\n",
              "      <td>1.611000e+05</td>\n",
              "      <td>4.000000</td>\n",
              "      <td>2.000000</td>\n",
              "    </tr>\n",
              "    <tr>\n",
              "      <th>75%</th>\n",
              "      <td>53.000000</td>\n",
              "      <td>1.000000</td>\n",
              "      <td>2.250000e+05</td>\n",
              "      <td>8.500000</td>\n",
              "      <td>3.000000</td>\n",
              "    </tr>\n",
              "    <tr>\n",
              "      <th>max</th>\n",
              "      <td>69.000000</td>\n",
              "      <td>19.000000</td>\n",
              "      <td>6.750000e+06</td>\n",
              "      <td>48.000000</td>\n",
              "      <td>20.000000</td>\n",
              "    </tr>\n",
              "  </tbody>\n",
              "</table>\n",
              "</div>"
            ],
            "text/plain": [
              "                 age  children_count  ...  years_working    family_size\n",
              "count  438463.000000   438463.000000  ...  438463.000000  438463.000000\n",
              "mean       43.834032        0.427384  ...    -165.936036       2.194461\n",
              "std        11.472815        0.724879  ...     380.201131       0.897194\n",
              "min        21.000000        0.000000  ...   -1000.700000       1.000000\n",
              "25%        34.000000        0.000000  ...       1.000000       2.000000\n",
              "50%        43.000000        0.000000  ...       4.000000       2.000000\n",
              "75%        53.000000        1.000000  ...       8.500000       3.000000\n",
              "max        69.000000       19.000000  ...      48.000000      20.000000\n",
              "\n",
              "[8 rows x 5 columns]"
            ]
          },
          "metadata": {},
          "execution_count": 15
        }
      ]
    },
    {
      "cell_type": "markdown",
      "metadata": {
        "id": "Uw7XJtkEYbwf"
      },
      "source": [
        "Taking a look at the table above, how can someone have ```years_working``` equal to -1000.7?"
      ]
    },
    {
      "cell_type": "code",
      "metadata": {
        "colab": {
          "base_uri": "https://localhost:8080/"
        },
        "id": "-AjJvnifYJzA",
        "outputId": "109ba629-7532-4579-88e2-00ca735abff7"
      },
      "source": [
        "client_records.query(\"years_working <= 0\")[['years_working', 'income_type']].value_counts()"
      ],
      "execution_count": 16,
      "outputs": [
        {
          "output_type": "execute_result",
          "data": {
            "text/plain": [
              "years_working  income_type         \n",
              "-1000.7        pensioner               75314\n",
              " 0.0           working                    26\n",
              "               state_servant              11\n",
              "               commercial_associate        7\n",
              "dtype: int64"
            ]
          },
          "metadata": {},
          "execution_count": 16
        }
      ]
    },
    {
      "cell_type": "markdown",
      "metadata": {
        "id": "uMLW_dqQaNV9"
      },
      "source": [
        "We see that all ```years_working == -1000.7``` are pensioners."
      ]
    },
    {
      "cell_type": "code",
      "metadata": {
        "colab": {
          "base_uri": "https://localhost:8080/"
        },
        "id": "G04a8HWxZ9pf",
        "outputId": "7ad25c57-99c8-4885-ed4b-9699b387fd14"
      },
      "source": [
        "client_records.query(\"income_type == 'pensioner'\")['income_type'].value_counts()"
      ],
      "execution_count": 17,
      "outputs": [
        {
          "output_type": "execute_result",
          "data": {
            "text/plain": [
              "pensioner    75478\n",
              "Name: income_type, dtype: int64"
            ]
          },
          "metadata": {},
          "execution_count": 17
        }
      ]
    },
    {
      "cell_type": "markdown",
      "metadata": {
        "id": "h_paiyZkauw4"
      },
      "source": [
        "Almost all pensioners have ```years_working == -1000.7```."
      ]
    },
    {
      "cell_type": "code",
      "metadata": {
        "id": "JdqD0eWAbDbJ"
      },
      "source": [
        "client_records['years_working'] = client_records['years_working'].replace(-1000.7, -1)"
      ],
      "execution_count": 18,
      "outputs": []
    },
    {
      "cell_type": "code",
      "metadata": {
        "colab": {
          "base_uri": "https://localhost:8080/",
          "height": 0
        },
        "id": "95H98x-cbOwS",
        "outputId": "9812b3a4-e67e-4728-b47b-122151392e46"
      },
      "source": [
        "client_records[quantitative_variables].describe()"
      ],
      "execution_count": 19,
      "outputs": [
        {
          "output_type": "execute_result",
          "data": {
            "text/html": [
              "<div>\n",
              "<style scoped>\n",
              "    .dataframe tbody tr th:only-of-type {\n",
              "        vertical-align: middle;\n",
              "    }\n",
              "\n",
              "    .dataframe tbody tr th {\n",
              "        vertical-align: top;\n",
              "    }\n",
              "\n",
              "    .dataframe thead th {\n",
              "        text-align: right;\n",
              "    }\n",
              "</style>\n",
              "<table border=\"1\" class=\"dataframe\">\n",
              "  <thead>\n",
              "    <tr style=\"text-align: right;\">\n",
              "      <th></th>\n",
              "      <th>age</th>\n",
              "      <th>children_count</th>\n",
              "      <th>annual_income</th>\n",
              "      <th>years_working</th>\n",
              "      <th>family_size</th>\n",
              "    </tr>\n",
              "  </thead>\n",
              "  <tbody>\n",
              "    <tr>\n",
              "      <th>count</th>\n",
              "      <td>438463.000000</td>\n",
              "      <td>438463.000000</td>\n",
              "      <td>4.384630e+05</td>\n",
              "      <td>438463.000000</td>\n",
              "      <td>438463.000000</td>\n",
              "    </tr>\n",
              "    <tr>\n",
              "      <th>mean</th>\n",
              "      <td>43.834032</td>\n",
              "      <td>0.427384</td>\n",
              "      <td>1.875220e+05</td>\n",
              "      <td>5.780633</td>\n",
              "      <td>2.194461</td>\n",
              "    </tr>\n",
              "    <tr>\n",
              "      <th>std</th>\n",
              "      <td>11.472815</td>\n",
              "      <td>0.724879</td>\n",
              "      <td>1.100832e+05</td>\n",
              "      <td>6.733151</td>\n",
              "      <td>0.897194</td>\n",
              "    </tr>\n",
              "    <tr>\n",
              "      <th>min</th>\n",
              "      <td>21.000000</td>\n",
              "      <td>0.000000</td>\n",
              "      <td>2.610000e+04</td>\n",
              "      <td>-1.000000</td>\n",
              "      <td>1.000000</td>\n",
              "    </tr>\n",
              "    <tr>\n",
              "      <th>25%</th>\n",
              "      <td>34.000000</td>\n",
              "      <td>0.000000</td>\n",
              "      <td>1.215000e+05</td>\n",
              "      <td>1.000000</td>\n",
              "      <td>2.000000</td>\n",
              "    </tr>\n",
              "    <tr>\n",
              "      <th>50%</th>\n",
              "      <td>43.000000</td>\n",
              "      <td>0.000000</td>\n",
              "      <td>1.611000e+05</td>\n",
              "      <td>4.000000</td>\n",
              "      <td>2.000000</td>\n",
              "    </tr>\n",
              "    <tr>\n",
              "      <th>75%</th>\n",
              "      <td>53.000000</td>\n",
              "      <td>1.000000</td>\n",
              "      <td>2.250000e+05</td>\n",
              "      <td>8.500000</td>\n",
              "      <td>3.000000</td>\n",
              "    </tr>\n",
              "    <tr>\n",
              "      <th>max</th>\n",
              "      <td>69.000000</td>\n",
              "      <td>19.000000</td>\n",
              "      <td>6.750000e+06</td>\n",
              "      <td>48.000000</td>\n",
              "      <td>20.000000</td>\n",
              "    </tr>\n",
              "  </tbody>\n",
              "</table>\n",
              "</div>"
            ],
            "text/plain": [
              "                 age  children_count  ...  years_working    family_size\n",
              "count  438463.000000   438463.000000  ...  438463.000000  438463.000000\n",
              "mean       43.834032        0.427384  ...       5.780633       2.194461\n",
              "std        11.472815        0.724879  ...       6.733151       0.897194\n",
              "min        21.000000        0.000000  ...      -1.000000       1.000000\n",
              "25%        34.000000        0.000000  ...       1.000000       2.000000\n",
              "50%        43.000000        0.000000  ...       4.000000       2.000000\n",
              "75%        53.000000        1.000000  ...       8.500000       3.000000\n",
              "max        69.000000       19.000000  ...      48.000000      20.000000\n",
              "\n",
              "[8 rows x 5 columns]"
            ]
          },
          "metadata": {},
          "execution_count": 19
        }
      ]
    },
    {
      "cell_type": "code",
      "metadata": {
        "colab": {
          "base_uri": "https://localhost:8080/",
          "height": 0
        },
        "id": "dTOcIqm4bSfn",
        "outputId": "d44325e4-b33c-4548-ad35-7a15f0428c2d"
      },
      "source": [
        "sns.histplot(data = client_records, x = 'annual_income', bins = 10)\n",
        "plt.show()"
      ],
      "execution_count": 20,
      "outputs": [
        {
          "output_type": "display_data",
          "data": {
            "image/png": "[encoded data removed]",
            "text/plain": [
              "<Figure size 432x288 with 1 Axes>"
            ]
          },
          "metadata": {
            "needs_background": "light"
          }
        }
      ]
    },
    {
      "cell_type": "markdown",
      "metadata": {
        "id": "N0VG65kjcitN"
      },
      "source": [
        "Let's remove tha outliers."
      ]
    },
    {
      "cell_type": "code",
      "metadata": {
        "colab": {
          "base_uri": "https://localhost:8080/"
        },
        "id": "6SE2l080cU_1",
        "outputId": "f678d205-07d2-42d5-fbdc-eaaa30b38660"
      },
      "source": [
        "annual_income_column = client_records['annual_income']\n",
        "avg_annual_income = annual_income_column.mean()\n",
        "std_annual_income = annual_income_column.std()\n",
        "\n",
        "upper_limit = avg_annual_income + (2 * std_annual_income)\n",
        "lower_limit = avg_annual_income - (2 * std_annual_income)\n",
        "\n",
        "outlier_index = []\n",
        "for index, value in annual_income_column.items():\n",
        "    if value > upper_limit or value < lower_limit:\n",
        "        outlier_index.append(index)\n",
        "\n",
        "print(f'We have {len(outlier_index)} outliers in the annual income column.')"
      ],
      "execution_count": 21,
      "outputs": [
        {
          "output_type": "stream",
          "name": "stdout",
          "text": [
            "We have 12641 outliers in the annual income column.\n"
          ]
        }
      ]
    },
    {
      "cell_type": "code",
      "metadata": {
        "colab": {
          "base_uri": "https://localhost:8080/"
        },
        "id": "MfJoVIq6dNa6",
        "outputId": "e70353b8-5381-4715-8679-9fae05ce4379"
      },
      "source": [
        "client_records = client_records.drop(outlier_index)\n",
        "client_records.shape"
      ],
      "execution_count": 22,
      "outputs": [
        {
          "output_type": "execute_result",
          "data": {
            "text/plain": [
              "(425822, 18)"
            ]
          },
          "metadata": {},
          "execution_count": 22
        }
      ]
    },
    {
      "cell_type": "code",
      "metadata": {
        "colab": {
          "base_uri": "https://localhost:8080/",
          "height": 0
        },
        "id": "KCp2UvjJeyQ_",
        "outputId": "112c189e-91e8-46ae-d874-f31b970318cf"
      },
      "source": [
        "client_records[quantitative_variables].describe()"
      ],
      "execution_count": 23,
      "outputs": [
        {
          "output_type": "execute_result",
          "data": {
            "text/html": [
              "<div>\n",
              "<style scoped>\n",
              "    .dataframe tbody tr th:only-of-type {\n",
              "        vertical-align: middle;\n",
              "    }\n",
              "\n",
              "    .dataframe tbody tr th {\n",
              "        vertical-align: top;\n",
              "    }\n",
              "\n",
              "    .dataframe thead th {\n",
              "        text-align: right;\n",
              "    }\n",
              "</style>\n",
              "<table border=\"1\" class=\"dataframe\">\n",
              "  <thead>\n",
              "    <tr style=\"text-align: right;\">\n",
              "      <th></th>\n",
              "      <th>age</th>\n",
              "      <th>children_count</th>\n",
              "      <th>annual_income</th>\n",
              "      <th>years_working</th>\n",
              "      <th>family_size</th>\n",
              "    </tr>\n",
              "  </thead>\n",
              "  <tbody>\n",
              "    <tr>\n",
              "      <th>count</th>\n",
              "      <td>425822.000000</td>\n",
              "      <td>425822.000000</td>\n",
              "      <td>425822.000000</td>\n",
              "      <td>425822.000000</td>\n",
              "      <td>425822.000000</td>\n",
              "    </tr>\n",
              "    <tr>\n",
              "      <th>mean</th>\n",
              "      <td>43.838707</td>\n",
              "      <td>0.425314</td>\n",
              "      <td>176384.728083</td>\n",
              "      <td>5.744956</td>\n",
              "      <td>2.191683</td>\n",
              "    </tr>\n",
              "    <tr>\n",
              "      <th>std</th>\n",
              "      <td>11.525400</td>\n",
              "      <td>0.723577</td>\n",
              "      <td>75033.530551</td>\n",
              "      <td>6.736649</td>\n",
              "      <td>0.896300</td>\n",
              "    </tr>\n",
              "    <tr>\n",
              "      <th>min</th>\n",
              "      <td>21.000000</td>\n",
              "      <td>0.000000</td>\n",
              "      <td>26100.000000</td>\n",
              "      <td>-1.000000</td>\n",
              "      <td>1.000000</td>\n",
              "    </tr>\n",
              "    <tr>\n",
              "      <th>25%</th>\n",
              "      <td>34.000000</td>\n",
              "      <td>0.000000</td>\n",
              "      <td>117000.000000</td>\n",
              "      <td>1.000000</td>\n",
              "      <td>2.000000</td>\n",
              "    </tr>\n",
              "    <tr>\n",
              "      <th>50%</th>\n",
              "      <td>43.000000</td>\n",
              "      <td>0.000000</td>\n",
              "      <td>157500.000000</td>\n",
              "      <td>4.000000</td>\n",
              "      <td>2.000000</td>\n",
              "    </tr>\n",
              "    <tr>\n",
              "      <th>75%</th>\n",
              "      <td>53.000000</td>\n",
              "      <td>1.000000</td>\n",
              "      <td>225000.000000</td>\n",
              "      <td>8.500000</td>\n",
              "      <td>3.000000</td>\n",
              "    </tr>\n",
              "    <tr>\n",
              "      <th>max</th>\n",
              "      <td>69.000000</td>\n",
              "      <td>19.000000</td>\n",
              "      <td>405000.000000</td>\n",
              "      <td>48.000000</td>\n",
              "      <td>20.000000</td>\n",
              "    </tr>\n",
              "  </tbody>\n",
              "</table>\n",
              "</div>"
            ],
            "text/plain": [
              "                 age  children_count  ...  years_working    family_size\n",
              "count  425822.000000   425822.000000  ...  425822.000000  425822.000000\n",
              "mean       43.838707        0.425314  ...       5.744956       2.191683\n",
              "std        11.525400        0.723577  ...       6.736649       0.896300\n",
              "min        21.000000        0.000000  ...      -1.000000       1.000000\n",
              "25%        34.000000        0.000000  ...       1.000000       2.000000\n",
              "50%        43.000000        0.000000  ...       4.000000       2.000000\n",
              "75%        53.000000        1.000000  ...       8.500000       3.000000\n",
              "max        69.000000       19.000000  ...      48.000000      20.000000\n",
              "\n",
              "[8 rows x 5 columns]"
            ]
          },
          "metadata": {},
          "execution_count": 23
        }
      ]
    },
    {
      "cell_type": "code",
      "metadata": {
        "colab": {
          "base_uri": "https://localhost:8080/",
          "height": 0
        },
        "id": "Y-3q8_4yfBib",
        "outputId": "6d3df9f8-532c-4adb-dba7-d7a80c6ceaf3"
      },
      "source": [
        "sns.histplot(data = client_records, x = 'annual_income', bins = 10)\n",
        "plt.xticks(rotation = 20)\n",
        "plt.show()"
      ],
      "execution_count": 24,
      "outputs": [
        {
          "output_type": "display_data",
          "data": {
            "image/png": "[encoded data removed]",
            "text/plain": [
              "<Figure size 432x288 with 1 Axes>"
            ]
          },
          "metadata": {
            "needs_background": "light"
          }
        }
      ]
    },
    {
      "cell_type": "code",
      "metadata": {
        "colab": {
          "base_uri": "https://localhost:8080/",
          "height": 0
        },
        "id": "2hP6quLefJTO",
        "outputId": "b5c5e781-b328-4f3d-dcf7-21b64566cbcf"
      },
      "source": [
        "sns.histplot(data = client_records, x = 'age', bins = 10)\n",
        "plt.xticks(rotation = 20)\n",
        "plt.show()"
      ],
      "execution_count": 25,
      "outputs": [
        {
          "output_type": "display_data",
          "data": {
            "image/png": "[encoded data removed]",
            "text/plain": [
              "<Figure size 432x288 with 1 Axes>"
            ]
          },
          "metadata": {
            "needs_background": "light"
          }
        }
      ]
    },
    {
      "cell_type": "code",
      "metadata": {
        "colab": {
          "base_uri": "https://localhost:8080/",
          "height": 0
        },
        "id": "xJ65n6PmfbCn",
        "outputId": "16a0bc2f-2957-4d5a-bfa5-d822ee6abe65"
      },
      "source": [
        "sns.histplot(data = client_records.query(\"years_working > 0\"), x = 'years_working')\n",
        "plt.xticks(rotation = 20)\n",
        "plt.show()"
      ],
      "execution_count": 26,
      "outputs": [
        {
          "output_type": "display_data",
          "data": {
            "image/png": "[encoded data removed]",
            "text/plain": [
              "<Figure size 432x288 with 1 Axes>"
            ]
          },
          "metadata": {
            "needs_background": "light"
          }
        }
      ]
    },
    {
      "cell_type": "code",
      "metadata": {
        "colab": {
          "base_uri": "https://localhost:8080/"
        },
        "id": "Z-phygmChu7t",
        "outputId": "24a0908c-5f0e-4a83-c60e-13803017d348"
      },
      "source": [
        "client_records.info()"
      ],
      "execution_count": 27,
      "outputs": [
        {
          "output_type": "stream",
          "name": "stdout",
          "text": [
            "<class 'pandas.core.frame.DataFrame'>\n",
            "Int64Index: 425822 entries, 2 to 438556\n",
            "Data columns (total 18 columns):\n",
            " #   Column           Non-Null Count   Dtype  \n",
            "---  ------           --------------   -----  \n",
            " 0   id               425822 non-null  int64  \n",
            " 1   gender           425822 non-null  object \n",
            " 2   own_car          425822 non-null  int64  \n",
            " 3   own_property     425822 non-null  int64  \n",
            " 4   children_count   425822 non-null  int64  \n",
            " 5   annual_income    425822 non-null  float64\n",
            " 6   income_type      425822 non-null  object \n",
            " 7   education_type   425822 non-null  object \n",
            " 8   marital_status   425822 non-null  object \n",
            " 9   housing_type     425822 non-null  object \n",
            " 10  age              425822 non-null  float64\n",
            " 11  own_cellphone    425822 non-null  int64  \n",
            " 12  own_workphone    425822 non-null  int64  \n",
            " 13  own_phone        425822 non-null  int64  \n",
            " 14  own_email        425822 non-null  int64  \n",
            " 15  occupation_type  425822 non-null  object \n",
            " 16  family_size      425822 non-null  float64\n",
            " 17  years_working    425822 non-null  float64\n",
            "dtypes: float64(4), int64(8), object(6)\n",
            "memory usage: 61.7+ MB\n"
          ]
        }
      ]
    },
    {
      "cell_type": "code",
      "metadata": {
        "id": "RwFIhdPufoB7"
      },
      "source": [
        "categorical_variables = ['gender', 'own_car', 'own_property', 'income_type',\n",
        "                         'education_type', 'marital_status', 'housing_type',\n",
        "                         'own_cellphone', 'own_workphone', 'own_phone', 'own_email',\n",
        "                         'occupation_type']"
      ],
      "execution_count": 28,
      "outputs": []
    },
    {
      "cell_type": "code",
      "metadata": {
        "colab": {
          "base_uri": "https://localhost:8080/",
          "height": 0
        },
        "id": "Lu-p3fISirAc",
        "outputId": "40f8f3d5-24c2-4b7d-9a6a-3d74456029a9"
      },
      "source": [
        "sns.countplot(data = client_records, x = 'marital_status')\n",
        "plt.xticks(rotation = 45, ha = 'right')\n",
        "plt.show()"
      ],
      "execution_count": 29,
      "outputs": [
        {
          "output_type": "display_data",
          "data": {
            "image/png": "[encoded data removed]",
            "text/plain": [
              "<Figure size 432x288 with 1 Axes>"
            ]
          },
          "metadata": {
            "needs_background": "light"
          }
        }
      ]
    },
    {
      "cell_type": "code",
      "metadata": {
        "colab": {
          "base_uri": "https://localhost:8080/",
          "height": 0
        },
        "id": "roBzhLW_kQs3",
        "outputId": "80547372-a20f-4d92-889d-89f910c40542"
      },
      "source": [
        "sns.countplot(data = client_records, x = 'own_cellphone')\n",
        "plt.xticks(ha = 'right')\n",
        "plt.show()"
      ],
      "execution_count": 30,
      "outputs": [
        {
          "output_type": "display_data",
          "data": {
            "image/png": "[encoded data removed]",
            "text/plain": [
              "<Figure size 432x288 with 1 Axes>"
            ]
          },
          "metadata": {
            "needs_background": "light"
          }
        }
      ]
    },
    {
      "cell_type": "code",
      "metadata": {
        "colab": {
          "base_uri": "https://localhost:8080/",
          "height": 0
        },
        "id": "oS_nmD5-kfOS",
        "outputId": "7babcdea-6846-4416-c068-e9e122929d6a"
      },
      "source": [
        "sns.countplot(data = client_records, x = 'occupation_type')\n",
        "plt.xticks(rotation = 45, ha = 'right')\n",
        "plt.show()"
      ],
      "execution_count": 31,
      "outputs": [
        {
          "output_type": "display_data",
          "data": {
            "image/png": "[encoded data removed]",
            "text/plain": [
              "<Figure size 432x288 with 1 Axes>"
            ]
          },
          "metadata": {
            "needs_background": "light"
          }
        }
      ]
    },
    {
      "cell_type": "code",
      "metadata": {
        "colab": {
          "base_uri": "https://localhost:8080/",
          "height": 0
        },
        "id": "Zsw9h70Akluv",
        "outputId": "0990d9af-3776-4455-959f-1394b96e297f"
      },
      "source": [
        "sns.histplot(data = client_records.query(\"occupation_type == 'others'\"), x = 'annual_income', bins = 10)\n",
        "plt.xticks(rotation = 45)\n",
        "plt.show()"
      ],
      "execution_count": 32,
      "outputs": [
        {
          "output_type": "display_data",
          "data": {
            "image/png": "[encoded data removed]",
            "text/plain": [
              "<Figure size 432x288 with 1 Axes>"
            ]
          },
          "metadata": {
            "needs_background": "light"
          }
        }
      ]
    },
    {
      "cell_type": "markdown",
      "metadata": {
        "id": "meIpxB25m_Q8"
      },
      "source": [
        "We have seen that the variable ``own_cellphone``` has only one alue, so it is not relevant for our future machine learning model.\n",
        "\n",
        "Also, we will drop the gender variable in order to avoid a bias."
      ]
    },
    {
      "cell_type": "code",
      "metadata": {
        "id": "xN3WW15KlazX"
      },
      "source": [
        "client_records_treatment1 = client_records.drop(['gender', 'own_cellphone'], axis = 1)"
      ],
      "execution_count": 33,
      "outputs": []
    },
    {
      "cell_type": "code",
      "metadata": {
        "colab": {
          "base_uri": "https://localhost:8080/"
        },
        "id": "1KO0ytCSnqGh",
        "outputId": "42229f99-5018-479b-ec31-d2a2e7650dec"
      },
      "source": [
        "client_records_treatment1.shape"
      ],
      "execution_count": 34,
      "outputs": [
        {
          "output_type": "execute_result",
          "data": {
            "text/plain": [
              "(425822, 16)"
            ]
          },
          "metadata": {},
          "execution_count": 34
        }
      ]
    },
    {
      "cell_type": "markdown",
      "metadata": {
        "id": "OSg9yh2nn3X4"
      },
      "source": [
        "Let's update our categorical variables."
      ]
    },
    {
      "cell_type": "code",
      "metadata": {
        "id": "N5up-uLJntao"
      },
      "source": [
        "categorical_variables.remove('gender')\n",
        "categorical_variables.remove('own_cellphone')"
      ],
      "execution_count": 35,
      "outputs": []
    },
    {
      "cell_type": "markdown",
      "metadata": {
        "id": "Z-j_8x_SoQw2"
      },
      "source": [
        "# Lesson 03"
      ]
    },
    {
      "cell_type": "markdown",
      "metadata": {
        "id": "f2x-AqWnyTD2"
      },
      "source": [
        "Let's now take a look at the approved clients."
      ]
    },
    {
      "cell_type": "code",
      "metadata": {
        "id": "sI90Yo-wn1ZF"
      },
      "source": [
        "approved_clients = approved_clients_raw.copy()"
      ],
      "execution_count": 36,
      "outputs": []
    },
    {
      "cell_type": "code",
      "metadata": {
        "colab": {
          "base_uri": "https://localhost:8080/",
          "height": 205
        },
        "id": "j2G-ehKwpw5N",
        "outputId": "86ca1d7b-0ffa-4aec-89cd-284d5e1fb07f"
      },
      "source": [
        "approved_clients.head()"
      ],
      "execution_count": 37,
      "outputs": [
        {
          "output_type": "execute_result",
          "data": {
            "text/html": [
              "<div>\n",
              "<style scoped>\n",
              "    .dataframe tbody tr th:only-of-type {\n",
              "        vertical-align: middle;\n",
              "    }\n",
              "\n",
              "    .dataframe tbody tr th {\n",
              "        vertical-align: top;\n",
              "    }\n",
              "\n",
              "    .dataframe thead th {\n",
              "        text-align: right;\n",
              "    }\n",
              "</style>\n",
              "<table border=\"1\" class=\"dataframe\">\n",
              "  <thead>\n",
              "    <tr style=\"text-align: right;\">\n",
              "      <th></th>\n",
              "      <th>id</th>\n",
              "      <th>month</th>\n",
              "      <th>status</th>\n",
              "    </tr>\n",
              "  </thead>\n",
              "  <tbody>\n",
              "    <tr>\n",
              "      <th>0</th>\n",
              "      <td>5001711</td>\n",
              "      <td>0</td>\n",
              "      <td>no_loan</td>\n",
              "    </tr>\n",
              "    <tr>\n",
              "      <th>1</th>\n",
              "      <td>5001711</td>\n",
              "      <td>-1</td>\n",
              "      <td>1-29days</td>\n",
              "    </tr>\n",
              "    <tr>\n",
              "      <th>2</th>\n",
              "      <td>5001711</td>\n",
              "      <td>-2</td>\n",
              "      <td>1-29days</td>\n",
              "    </tr>\n",
              "    <tr>\n",
              "      <th>3</th>\n",
              "      <td>5001711</td>\n",
              "      <td>-3</td>\n",
              "      <td>1-29days</td>\n",
              "    </tr>\n",
              "    <tr>\n",
              "      <th>4</th>\n",
              "      <td>5001712</td>\n",
              "      <td>0</td>\n",
              "      <td>paid_loan</td>\n",
              "    </tr>\n",
              "  </tbody>\n",
              "</table>\n",
              "</div>"
            ],
            "text/plain": [
              "        id  month     status\n",
              "0  5001711      0    no_loan\n",
              "1  5001711     -1   1-29days\n",
              "2  5001711     -2   1-29days\n",
              "3  5001711     -3   1-29days\n",
              "4  5001712      0  paid_loan"
            ]
          },
          "metadata": {},
          "execution_count": 37
        }
      ]
    },
    {
      "cell_type": "code",
      "metadata": {
        "colab": {
          "base_uri": "https://localhost:8080/"
        },
        "id": "yaJmlzRmp1mL",
        "outputId": "8c6e47b4-e7ea-4565-85b1-f65721fb5ec0"
      },
      "source": [
        "approved_clients.info()"
      ],
      "execution_count": 38,
      "outputs": [
        {
          "output_type": "stream",
          "name": "stdout",
          "text": [
            "<class 'pandas.core.frame.DataFrame'>\n",
            "RangeIndex: 1048575 entries, 0 to 1048574\n",
            "Data columns (total 3 columns):\n",
            " #   Column  Non-Null Count    Dtype \n",
            "---  ------  --------------    ----- \n",
            " 0   id      1048575 non-null  int64 \n",
            " 1   month   1048575 non-null  int64 \n",
            " 2   status  1048575 non-null  object\n",
            "dtypes: int64(2), object(1)\n",
            "memory usage: 24.0+ MB\n"
          ]
        }
      ]
    },
    {
      "cell_type": "code",
      "metadata": {
        "colab": {
          "base_uri": "https://localhost:8080/"
        },
        "id": "PEKX11a_p50z",
        "outputId": "e54edbd5-9ec0-41d6-891e-fbe199a7ecca"
      },
      "source": [
        "approved_clients.id.value_counts().shape"
      ],
      "execution_count": 39,
      "outputs": [
        {
          "output_type": "execute_result",
          "data": {
            "text/plain": [
              "(45985,)"
            ]
          },
          "metadata": {},
          "execution_count": 39
        }
      ]
    },
    {
      "cell_type": "code",
      "metadata": {
        "colab": {
          "base_uri": "https://localhost:8080/"
        },
        "id": "th_CL6TZyfi-",
        "outputId": "e93a13c9-8a39-436b-9964-fbe72c9daf08"
      },
      "source": [
        "client_records_treatment1.shape"
      ],
      "execution_count": 40,
      "outputs": [
        {
          "output_type": "execute_result",
          "data": {
            "text/plain": [
              "(425822, 16)"
            ]
          },
          "metadata": {},
          "execution_count": 40
        }
      ]
    },
    {
      "cell_type": "code",
      "metadata": {
        "colab": {
          "base_uri": "https://localhost:8080/",
          "height": 643
        },
        "id": "Aq4UtAn0zCi1",
        "outputId": "f267077f-17d1-499c-987b-9a8a673908cb"
      },
      "source": [
        "# example of a client\n",
        "approved_clients.query(\"id == 5001712\")"
      ],
      "execution_count": 41,
      "outputs": [
        {
          "output_type": "execute_result",
          "data": {
            "text/html": [
              "<div>\n",
              "<style scoped>\n",
              "    .dataframe tbody tr th:only-of-type {\n",
              "        vertical-align: middle;\n",
              "    }\n",
              "\n",
              "    .dataframe tbody tr th {\n",
              "        vertical-align: top;\n",
              "    }\n",
              "\n",
              "    .dataframe thead th {\n",
              "        text-align: right;\n",
              "    }\n",
              "</style>\n",
              "<table border=\"1\" class=\"dataframe\">\n",
              "  <thead>\n",
              "    <tr style=\"text-align: right;\">\n",
              "      <th></th>\n",
              "      <th>id</th>\n",
              "      <th>month</th>\n",
              "      <th>status</th>\n",
              "    </tr>\n",
              "  </thead>\n",
              "  <tbody>\n",
              "    <tr>\n",
              "      <th>4</th>\n",
              "      <td>5001712</td>\n",
              "      <td>0</td>\n",
              "      <td>paid_loan</td>\n",
              "    </tr>\n",
              "    <tr>\n",
              "      <th>5</th>\n",
              "      <td>5001712</td>\n",
              "      <td>-1</td>\n",
              "      <td>paid_loan</td>\n",
              "    </tr>\n",
              "    <tr>\n",
              "      <th>6</th>\n",
              "      <td>5001712</td>\n",
              "      <td>-2</td>\n",
              "      <td>paid_loan</td>\n",
              "    </tr>\n",
              "    <tr>\n",
              "      <th>7</th>\n",
              "      <td>5001712</td>\n",
              "      <td>-3</td>\n",
              "      <td>paid_loan</td>\n",
              "    </tr>\n",
              "    <tr>\n",
              "      <th>8</th>\n",
              "      <td>5001712</td>\n",
              "      <td>-4</td>\n",
              "      <td>paid_loan</td>\n",
              "    </tr>\n",
              "    <tr>\n",
              "      <th>9</th>\n",
              "      <td>5001712</td>\n",
              "      <td>-5</td>\n",
              "      <td>paid_loan</td>\n",
              "    </tr>\n",
              "    <tr>\n",
              "      <th>10</th>\n",
              "      <td>5001712</td>\n",
              "      <td>-6</td>\n",
              "      <td>paid_loan</td>\n",
              "    </tr>\n",
              "    <tr>\n",
              "      <th>11</th>\n",
              "      <td>5001712</td>\n",
              "      <td>-7</td>\n",
              "      <td>paid_loan</td>\n",
              "    </tr>\n",
              "    <tr>\n",
              "      <th>12</th>\n",
              "      <td>5001712</td>\n",
              "      <td>-8</td>\n",
              "      <td>paid_loan</td>\n",
              "    </tr>\n",
              "    <tr>\n",
              "      <th>13</th>\n",
              "      <td>5001712</td>\n",
              "      <td>-9</td>\n",
              "      <td>1-29days</td>\n",
              "    </tr>\n",
              "    <tr>\n",
              "      <th>14</th>\n",
              "      <td>5001712</td>\n",
              "      <td>-10</td>\n",
              "      <td>1-29days</td>\n",
              "    </tr>\n",
              "    <tr>\n",
              "      <th>15</th>\n",
              "      <td>5001712</td>\n",
              "      <td>-11</td>\n",
              "      <td>1-29days</td>\n",
              "    </tr>\n",
              "    <tr>\n",
              "      <th>16</th>\n",
              "      <td>5001712</td>\n",
              "      <td>-12</td>\n",
              "      <td>1-29days</td>\n",
              "    </tr>\n",
              "    <tr>\n",
              "      <th>17</th>\n",
              "      <td>5001712</td>\n",
              "      <td>-13</td>\n",
              "      <td>1-29days</td>\n",
              "    </tr>\n",
              "    <tr>\n",
              "      <th>18</th>\n",
              "      <td>5001712</td>\n",
              "      <td>-14</td>\n",
              "      <td>1-29days</td>\n",
              "    </tr>\n",
              "    <tr>\n",
              "      <th>19</th>\n",
              "      <td>5001712</td>\n",
              "      <td>-15</td>\n",
              "      <td>1-29days</td>\n",
              "    </tr>\n",
              "    <tr>\n",
              "      <th>20</th>\n",
              "      <td>5001712</td>\n",
              "      <td>-16</td>\n",
              "      <td>1-29days</td>\n",
              "    </tr>\n",
              "    <tr>\n",
              "      <th>21</th>\n",
              "      <td>5001712</td>\n",
              "      <td>-17</td>\n",
              "      <td>1-29days</td>\n",
              "    </tr>\n",
              "    <tr>\n",
              "      <th>22</th>\n",
              "      <td>5001712</td>\n",
              "      <td>-18</td>\n",
              "      <td>1-29days</td>\n",
              "    </tr>\n",
              "  </tbody>\n",
              "</table>\n",
              "</div>"
            ],
            "text/plain": [
              "         id  month     status\n",
              "4   5001712      0  paid_loan\n",
              "5   5001712     -1  paid_loan\n",
              "6   5001712     -2  paid_loan\n",
              "7   5001712     -3  paid_loan\n",
              "8   5001712     -4  paid_loan\n",
              "9   5001712     -5  paid_loan\n",
              "10  5001712     -6  paid_loan\n",
              "11  5001712     -7  paid_loan\n",
              "12  5001712     -8  paid_loan\n",
              "13  5001712     -9   1-29days\n",
              "14  5001712    -10   1-29days\n",
              "15  5001712    -11   1-29days\n",
              "16  5001712    -12   1-29days\n",
              "17  5001712    -13   1-29days\n",
              "18  5001712    -14   1-29days\n",
              "19  5001712    -15   1-29days\n",
              "20  5001712    -16   1-29days\n",
              "21  5001712    -17   1-29days\n",
              "22  5001712    -18   1-29days"
            ]
          },
          "metadata": {},
          "execution_count": 41
        }
      ]
    },
    {
      "cell_type": "code",
      "metadata": {
        "colab": {
          "base_uri": "https://localhost:8080/",
          "height": 175
        },
        "id": "b4svxy1LzNas",
        "outputId": "0161ab50-31fa-422b-b132-d91c02055a52"
      },
      "source": [
        "approved_clients.query(\"id == 5001711\")"
      ],
      "execution_count": 42,
      "outputs": [
        {
          "output_type": "execute_result",
          "data": {
            "text/html": [
              "<div>\n",
              "<style scoped>\n",
              "    .dataframe tbody tr th:only-of-type {\n",
              "        vertical-align: middle;\n",
              "    }\n",
              "\n",
              "    .dataframe tbody tr th {\n",
              "        vertical-align: top;\n",
              "    }\n",
              "\n",
              "    .dataframe thead th {\n",
              "        text-align: right;\n",
              "    }\n",
              "</style>\n",
              "<table border=\"1\" class=\"dataframe\">\n",
              "  <thead>\n",
              "    <tr style=\"text-align: right;\">\n",
              "      <th></th>\n",
              "      <th>id</th>\n",
              "      <th>month</th>\n",
              "      <th>status</th>\n",
              "    </tr>\n",
              "  </thead>\n",
              "  <tbody>\n",
              "    <tr>\n",
              "      <th>0</th>\n",
              "      <td>5001711</td>\n",
              "      <td>0</td>\n",
              "      <td>no_loan</td>\n",
              "    </tr>\n",
              "    <tr>\n",
              "      <th>1</th>\n",
              "      <td>5001711</td>\n",
              "      <td>-1</td>\n",
              "      <td>1-29days</td>\n",
              "    </tr>\n",
              "    <tr>\n",
              "      <th>2</th>\n",
              "      <td>5001711</td>\n",
              "      <td>-2</td>\n",
              "      <td>1-29days</td>\n",
              "    </tr>\n",
              "    <tr>\n",
              "      <th>3</th>\n",
              "      <td>5001711</td>\n",
              "      <td>-3</td>\n",
              "      <td>1-29days</td>\n",
              "    </tr>\n",
              "  </tbody>\n",
              "</table>\n",
              "</div>"
            ],
            "text/plain": [
              "        id  month    status\n",
              "0  5001711      0   no_loan\n",
              "1  5001711     -1  1-29days\n",
              "2  5001711     -2  1-29days\n",
              "3  5001711     -3  1-29days"
            ]
          },
          "metadata": {},
          "execution_count": 42
        }
      ]
    },
    {
      "cell_type": "code",
      "metadata": {
        "colab": {
          "base_uri": "https://localhost:8080/"
        },
        "id": "7Se9JnpTzcT6",
        "outputId": "9128519b-64ad-4f92-8603-c237810c99bc"
      },
      "source": [
        "approved_clients.status.value_counts().index.to_list()"
      ],
      "execution_count": 43,
      "outputs": [
        {
          "output_type": "execute_result",
          "data": {
            "text/plain": [
              "['paid_loan',\n",
              " '1-29days',\n",
              " 'no_loan',\n",
              " '30-59days',\n",
              " '>150days',\n",
              " '60-89days',\n",
              " '90-119days',\n",
              " '120-149days']"
            ]
          },
          "metadata": {},
          "execution_count": 43
        }
      ]
    },
    {
      "cell_type": "markdown",
      "metadata": {
        "id": "BFvhAw470Vol"
      },
      "source": [
        "## Creating Auxiliary Variables"
      ]
    },
    {
      "cell_type": "code",
      "metadata": {
        "colab": {
          "base_uri": "https://localhost:8080/"
        },
        "id": "k3xMLXIxzlKK",
        "outputId": "bdbb2f76-9d43-4184-c805-cf66a1135e5c"
      },
      "source": [
        "# month in which the client's account was opened\n",
        "approved_clients_by_id = approved_clients.copy()\n",
        "approved_clients_by_id = approved_clients_by_id.groupby('id')\n",
        "opening_series = approved_clients_by_id.apply(lambda x: min(x['month']))\n",
        "opening_series.name = 'opening'\n",
        "opening_series"
      ],
      "execution_count": 44,
      "outputs": [
        {
          "output_type": "execute_result",
          "data": {
            "text/plain": [
              "id\n",
              "5001711    -3\n",
              "5001712   -18\n",
              "5001713   -21\n",
              "5001714   -14\n",
              "5001715   -59\n",
              "           ..\n",
              "5150482   -28\n",
              "5150483   -17\n",
              "5150484   -12\n",
              "5150485    -1\n",
              "5150487   -29\n",
              "Name: opening, Length: 45985, dtype: int64"
            ]
          },
          "metadata": {},
          "execution_count": 44
        }
      ]
    },
    {
      "cell_type": "code",
      "metadata": {
        "colab": {
          "base_uri": "https://localhost:8080/",
          "height": 0
        },
        "id": "XrUma7vE08Mc",
        "outputId": "37030c4a-de77-4f22-c043-d3bdd578e6a1"
      },
      "source": [
        "approved_clients = approved_clients.merge(opening_series, on = 'id')\n",
        "approved_clients.head()"
      ],
      "execution_count": 45,
      "outputs": [
        {
          "output_type": "execute_result",
          "data": {
            "text/html": [
              "<div>\n",
              "<style scoped>\n",
              "    .dataframe tbody tr th:only-of-type {\n",
              "        vertical-align: middle;\n",
              "    }\n",
              "\n",
              "    .dataframe tbody tr th {\n",
              "        vertical-align: top;\n",
              "    }\n",
              "\n",
              "    .dataframe thead th {\n",
              "        text-align: right;\n",
              "    }\n",
              "</style>\n",
              "<table border=\"1\" class=\"dataframe\">\n",
              "  <thead>\n",
              "    <tr style=\"text-align: right;\">\n",
              "      <th></th>\n",
              "      <th>id</th>\n",
              "      <th>month</th>\n",
              "      <th>status</th>\n",
              "      <th>opening</th>\n",
              "    </tr>\n",
              "  </thead>\n",
              "  <tbody>\n",
              "    <tr>\n",
              "      <th>0</th>\n",
              "      <td>5001711</td>\n",
              "      <td>0</td>\n",
              "      <td>no_loan</td>\n",
              "      <td>-3</td>\n",
              "    </tr>\n",
              "    <tr>\n",
              "      <th>1</th>\n",
              "      <td>5001711</td>\n",
              "      <td>-1</td>\n",
              "      <td>1-29days</td>\n",
              "      <td>-3</td>\n",
              "    </tr>\n",
              "    <tr>\n",
              "      <th>2</th>\n",
              "      <td>5001711</td>\n",
              "      <td>-2</td>\n",
              "      <td>1-29days</td>\n",
              "      <td>-3</td>\n",
              "    </tr>\n",
              "    <tr>\n",
              "      <th>3</th>\n",
              "      <td>5001711</td>\n",
              "      <td>-3</td>\n",
              "      <td>1-29days</td>\n",
              "      <td>-3</td>\n",
              "    </tr>\n",
              "    <tr>\n",
              "      <th>4</th>\n",
              "      <td>5001712</td>\n",
              "      <td>0</td>\n",
              "      <td>paid_loan</td>\n",
              "      <td>-18</td>\n",
              "    </tr>\n",
              "  </tbody>\n",
              "</table>\n",
              "</div>"
            ],
            "text/plain": [
              "        id  month     status  opening\n",
              "0  5001711      0    no_loan       -3\n",
              "1  5001711     -1   1-29days       -3\n",
              "2  5001711     -2   1-29days       -3\n",
              "3  5001711     -3   1-29days       -3\n",
              "4  5001712      0  paid_loan      -18"
            ]
          },
          "metadata": {},
          "execution_count": 45
        }
      ]
    },
    {
      "cell_type": "code",
      "metadata": {
        "colab": {
          "base_uri": "https://localhost:8080/"
        },
        "id": "Q8aOYKXf1GX7",
        "outputId": "6ae749db-2434-42b9-f401-522e4b2134a7"
      },
      "source": [
        "last_registered_series = approved_clients_by_id.apply(lambda x: max(x['month']))\n",
        "last_registered_series.name = 'final'\n",
        "last_registered_series"
      ],
      "execution_count": 46,
      "outputs": [
        {
          "output_type": "execute_result",
          "data": {
            "text/plain": [
              "id\n",
              "5001711     0\n",
              "5001712     0\n",
              "5001713     0\n",
              "5001714     0\n",
              "5001715     0\n",
              "           ..\n",
              "5150482   -11\n",
              "5150483     0\n",
              "5150484     0\n",
              "5150485     0\n",
              "5150487     0\n",
              "Name: final, Length: 45985, dtype: int64"
            ]
          },
          "metadata": {},
          "execution_count": 46
        }
      ]
    },
    {
      "cell_type": "code",
      "metadata": {
        "colab": {
          "base_uri": "https://localhost:8080/",
          "height": 0
        },
        "id": "Ys8E2Vba2Mx2",
        "outputId": "a824c6f1-7010-4541-ff45-8f4cae6196f3"
      },
      "source": [
        "approved_clients = approved_clients.merge(last_registered_series, on = 'id')\n",
        "approved_clients.head()"
      ],
      "execution_count": 47,
      "outputs": [
        {
          "output_type": "execute_result",
          "data": {
            "text/html": [
              "<div>\n",
              "<style scoped>\n",
              "    .dataframe tbody tr th:only-of-type {\n",
              "        vertical-align: middle;\n",
              "    }\n",
              "\n",
              "    .dataframe tbody tr th {\n",
              "        vertical-align: top;\n",
              "    }\n",
              "\n",
              "    .dataframe thead th {\n",
              "        text-align: right;\n",
              "    }\n",
              "</style>\n",
              "<table border=\"1\" class=\"dataframe\">\n",
              "  <thead>\n",
              "    <tr style=\"text-align: right;\">\n",
              "      <th></th>\n",
              "      <th>id</th>\n",
              "      <th>month</th>\n",
              "      <th>status</th>\n",
              "      <th>opening</th>\n",
              "      <th>final</th>\n",
              "    </tr>\n",
              "  </thead>\n",
              "  <tbody>\n",
              "    <tr>\n",
              "      <th>0</th>\n",
              "      <td>5001711</td>\n",
              "      <td>0</td>\n",
              "      <td>no_loan</td>\n",
              "      <td>-3</td>\n",
              "      <td>0</td>\n",
              "    </tr>\n",
              "    <tr>\n",
              "      <th>1</th>\n",
              "      <td>5001711</td>\n",
              "      <td>-1</td>\n",
              "      <td>1-29days</td>\n",
              "      <td>-3</td>\n",
              "      <td>0</td>\n",
              "    </tr>\n",
              "    <tr>\n",
              "      <th>2</th>\n",
              "      <td>5001711</td>\n",
              "      <td>-2</td>\n",
              "      <td>1-29days</td>\n",
              "      <td>-3</td>\n",
              "      <td>0</td>\n",
              "    </tr>\n",
              "    <tr>\n",
              "      <th>3</th>\n",
              "      <td>5001711</td>\n",
              "      <td>-3</td>\n",
              "      <td>1-29days</td>\n",
              "      <td>-3</td>\n",
              "      <td>0</td>\n",
              "    </tr>\n",
              "    <tr>\n",
              "      <th>4</th>\n",
              "      <td>5001712</td>\n",
              "      <td>0</td>\n",
              "      <td>paid_loan</td>\n",
              "      <td>-18</td>\n",
              "      <td>0</td>\n",
              "    </tr>\n",
              "  </tbody>\n",
              "</table>\n",
              "</div>"
            ],
            "text/plain": [
              "        id  month     status  opening  final\n",
              "0  5001711      0    no_loan       -3      0\n",
              "1  5001711     -1   1-29days       -3      0\n",
              "2  5001711     -2   1-29days       -3      0\n",
              "3  5001711     -3   1-29days       -3      0\n",
              "4  5001712      0  paid_loan      -18      0"
            ]
          },
          "metadata": {},
          "execution_count": 47
        }
      ]
    },
    {
      "cell_type": "code",
      "metadata": {
        "colab": {
          "base_uri": "https://localhost:8080/",
          "height": 0
        },
        "id": "WwvHmdIR2UE4",
        "outputId": "0846a03e-c998-490a-dc21-6820be06d68d"
      },
      "source": [
        "# window of number of opening months\n",
        "approved_clients['window'] = approved_clients['final'] - approved_clients['opening']\n",
        "approved_clients.head()"
      ],
      "execution_count": 48,
      "outputs": [
        {
          "output_type": "execute_result",
          "data": {
            "text/html": [
              "<div>\n",
              "<style scoped>\n",
              "    .dataframe tbody tr th:only-of-type {\n",
              "        vertical-align: middle;\n",
              "    }\n",
              "\n",
              "    .dataframe tbody tr th {\n",
              "        vertical-align: top;\n",
              "    }\n",
              "\n",
              "    .dataframe thead th {\n",
              "        text-align: right;\n",
              "    }\n",
              "</style>\n",
              "<table border=\"1\" class=\"dataframe\">\n",
              "  <thead>\n",
              "    <tr style=\"text-align: right;\">\n",
              "      <th></th>\n",
              "      <th>id</th>\n",
              "      <th>month</th>\n",
              "      <th>status</th>\n",
              "      <th>opening</th>\n",
              "      <th>final</th>\n",
              "      <th>window</th>\n",
              "    </tr>\n",
              "  </thead>\n",
              "  <tbody>\n",
              "    <tr>\n",
              "      <th>0</th>\n",
              "      <td>5001711</td>\n",
              "      <td>0</td>\n",
              "      <td>no_loan</td>\n",
              "      <td>-3</td>\n",
              "      <td>0</td>\n",
              "      <td>3</td>\n",
              "    </tr>\n",
              "    <tr>\n",
              "      <th>1</th>\n",
              "      <td>5001711</td>\n",
              "      <td>-1</td>\n",
              "      <td>1-29days</td>\n",
              "      <td>-3</td>\n",
              "      <td>0</td>\n",
              "      <td>3</td>\n",
              "    </tr>\n",
              "    <tr>\n",
              "      <th>2</th>\n",
              "      <td>5001711</td>\n",
              "      <td>-2</td>\n",
              "      <td>1-29days</td>\n",
              "      <td>-3</td>\n",
              "      <td>0</td>\n",
              "      <td>3</td>\n",
              "    </tr>\n",
              "    <tr>\n",
              "      <th>3</th>\n",
              "      <td>5001711</td>\n",
              "      <td>-3</td>\n",
              "      <td>1-29days</td>\n",
              "      <td>-3</td>\n",
              "      <td>0</td>\n",
              "      <td>3</td>\n",
              "    </tr>\n",
              "    <tr>\n",
              "      <th>4</th>\n",
              "      <td>5001712</td>\n",
              "      <td>0</td>\n",
              "      <td>paid_loan</td>\n",
              "      <td>-18</td>\n",
              "      <td>0</td>\n",
              "      <td>18</td>\n",
              "    </tr>\n",
              "  </tbody>\n",
              "</table>\n",
              "</div>"
            ],
            "text/plain": [
              "        id  month     status  opening  final  window\n",
              "0  5001711      0    no_loan       -3      0       3\n",
              "1  5001711     -1   1-29days       -3      0       3\n",
              "2  5001711     -2   1-29days       -3      0       3\n",
              "3  5001711     -3   1-29days       -3      0       3\n",
              "4  5001712      0  paid_loan      -18      0      18"
            ]
          },
          "metadata": {},
          "execution_count": 48
        }
      ]
    },
    {
      "cell_type": "code",
      "metadata": {
        "colab": {
          "base_uri": "https://localhost:8080/",
          "height": 0
        },
        "id": "TQPBnnUA2jPK",
        "outputId": "5a82aa84-d047-4663-cded-f0f7482c09c8"
      },
      "source": [
        "# month on book (mob)\n",
        "approved_clients['mob'] = approved_clients['month'] - approved_clients['opening']\n",
        "approved_clients.head()"
      ],
      "execution_count": 49,
      "outputs": [
        {
          "output_type": "execute_result",
          "data": {
            "text/html": [
              "<div>\n",
              "<style scoped>\n",
              "    .dataframe tbody tr th:only-of-type {\n",
              "        vertical-align: middle;\n",
              "    }\n",
              "\n",
              "    .dataframe tbody tr th {\n",
              "        vertical-align: top;\n",
              "    }\n",
              "\n",
              "    .dataframe thead th {\n",
              "        text-align: right;\n",
              "    }\n",
              "</style>\n",
              "<table border=\"1\" class=\"dataframe\">\n",
              "  <thead>\n",
              "    <tr style=\"text-align: right;\">\n",
              "      <th></th>\n",
              "      <th>id</th>\n",
              "      <th>month</th>\n",
              "      <th>status</th>\n",
              "      <th>opening</th>\n",
              "      <th>final</th>\n",
              "      <th>window</th>\n",
              "      <th>mob</th>\n",
              "    </tr>\n",
              "  </thead>\n",
              "  <tbody>\n",
              "    <tr>\n",
              "      <th>0</th>\n",
              "      <td>5001711</td>\n",
              "      <td>0</td>\n",
              "      <td>no_loan</td>\n",
              "      <td>-3</td>\n",
              "      <td>0</td>\n",
              "      <td>3</td>\n",
              "      <td>3</td>\n",
              "    </tr>\n",
              "    <tr>\n",
              "      <th>1</th>\n",
              "      <td>5001711</td>\n",
              "      <td>-1</td>\n",
              "      <td>1-29days</td>\n",
              "      <td>-3</td>\n",
              "      <td>0</td>\n",
              "      <td>3</td>\n",
              "      <td>2</td>\n",
              "    </tr>\n",
              "    <tr>\n",
              "      <th>2</th>\n",
              "      <td>5001711</td>\n",
              "      <td>-2</td>\n",
              "      <td>1-29days</td>\n",
              "      <td>-3</td>\n",
              "      <td>0</td>\n",
              "      <td>3</td>\n",
              "      <td>1</td>\n",
              "    </tr>\n",
              "    <tr>\n",
              "      <th>3</th>\n",
              "      <td>5001711</td>\n",
              "      <td>-3</td>\n",
              "      <td>1-29days</td>\n",
              "      <td>-3</td>\n",
              "      <td>0</td>\n",
              "      <td>3</td>\n",
              "      <td>0</td>\n",
              "    </tr>\n",
              "    <tr>\n",
              "      <th>4</th>\n",
              "      <td>5001712</td>\n",
              "      <td>0</td>\n",
              "      <td>paid_loan</td>\n",
              "      <td>-18</td>\n",
              "      <td>0</td>\n",
              "      <td>18</td>\n",
              "      <td>18</td>\n",
              "    </tr>\n",
              "  </tbody>\n",
              "</table>\n",
              "</div>"
            ],
            "text/plain": [
              "        id  month     status  opening  final  window  mob\n",
              "0  5001711      0    no_loan       -3      0       3    3\n",
              "1  5001711     -1   1-29days       -3      0       3    2\n",
              "2  5001711     -2   1-29days       -3      0       3    1\n",
              "3  5001711     -3   1-29days       -3      0       3    0\n",
              "4  5001712      0  paid_loan      -18      0      18   18"
            ]
          },
          "metadata": {},
          "execution_count": 49
        }
      ]
    },
    {
      "cell_type": "code",
      "metadata": {
        "colab": {
          "base_uri": "https://localhost:8080/"
        },
        "id": "stX2040m3mXP",
        "outputId": "393d4313-19d1-4a22-fd57-e84f854acdae"
      },
      "source": [
        "approved_clients['status'].unique()"
      ],
      "execution_count": 50,
      "outputs": [
        {
          "output_type": "execute_result",
          "data": {
            "text/plain": [
              "array(['no_loan', '1-29days', 'paid_loan', '30-59days', '60-89days',\n",
              "       '90-119days', '120-149days', '>150days'], dtype=object)"
            ]
          },
          "metadata": {},
          "execution_count": 50
        }
      ]
    },
    {
      "cell_type": "code",
      "metadata": {
        "id": "60rrgqy02_dk"
      },
      "source": [
        "status_dict = {\n",
        "    'no_loan': 0,\n",
        "    'paid_loan': 1,\n",
        "    '1-29days': 2,\n",
        "    '30-59days': 3,\n",
        "    '60-89days': 4,\n",
        "    '90-119days': 5,\n",
        "    '120-149days': 6,\n",
        "    '>150days': 7\n",
        "}\n",
        "\n",
        "approved_clients['status_int'] = approved_clients['status'].map(status_dict)"
      ],
      "execution_count": 51,
      "outputs": []
    },
    {
      "cell_type": "code",
      "metadata": {
        "colab": {
          "base_uri": "https://localhost:8080/",
          "height": 0
        },
        "id": "Dax1Fqd54K96",
        "outputId": "5605c9aa-c216-41bc-e0fe-7727e87997b7"
      },
      "source": [
        "approved_clients.head()"
      ],
      "execution_count": 52,
      "outputs": [
        {
          "output_type": "execute_result",
          "data": {
            "text/html": [
              "<div>\n",
              "<style scoped>\n",
              "    .dataframe tbody tr th:only-of-type {\n",
              "        vertical-align: middle;\n",
              "    }\n",
              "\n",
              "    .dataframe tbody tr th {\n",
              "        vertical-align: top;\n",
              "    }\n",
              "\n",
              "    .dataframe thead th {\n",
              "        text-align: right;\n",
              "    }\n",
              "</style>\n",
              "<table border=\"1\" class=\"dataframe\">\n",
              "  <thead>\n",
              "    <tr style=\"text-align: right;\">\n",
              "      <th></th>\n",
              "      <th>id</th>\n",
              "      <th>month</th>\n",
              "      <th>status</th>\n",
              "      <th>opening</th>\n",
              "      <th>final</th>\n",
              "      <th>window</th>\n",
              "      <th>mob</th>\n",
              "      <th>status_int</th>\n",
              "    </tr>\n",
              "  </thead>\n",
              "  <tbody>\n",
              "    <tr>\n",
              "      <th>0</th>\n",
              "      <td>5001711</td>\n",
              "      <td>0</td>\n",
              "      <td>no_loan</td>\n",
              "      <td>-3</td>\n",
              "      <td>0</td>\n",
              "      <td>3</td>\n",
              "      <td>3</td>\n",
              "      <td>0</td>\n",
              "    </tr>\n",
              "    <tr>\n",
              "      <th>1</th>\n",
              "      <td>5001711</td>\n",
              "      <td>-1</td>\n",
              "      <td>1-29days</td>\n",
              "      <td>-3</td>\n",
              "      <td>0</td>\n",
              "      <td>3</td>\n",
              "      <td>2</td>\n",
              "      <td>2</td>\n",
              "    </tr>\n",
              "    <tr>\n",
              "      <th>2</th>\n",
              "      <td>5001711</td>\n",
              "      <td>-2</td>\n",
              "      <td>1-29days</td>\n",
              "      <td>-3</td>\n",
              "      <td>0</td>\n",
              "      <td>3</td>\n",
              "      <td>1</td>\n",
              "      <td>2</td>\n",
              "    </tr>\n",
              "    <tr>\n",
              "      <th>3</th>\n",
              "      <td>5001711</td>\n",
              "      <td>-3</td>\n",
              "      <td>1-29days</td>\n",
              "      <td>-3</td>\n",
              "      <td>0</td>\n",
              "      <td>3</td>\n",
              "      <td>0</td>\n",
              "      <td>2</td>\n",
              "    </tr>\n",
              "    <tr>\n",
              "      <th>4</th>\n",
              "      <td>5001712</td>\n",
              "      <td>0</td>\n",
              "      <td>paid_loan</td>\n",
              "      <td>-18</td>\n",
              "      <td>0</td>\n",
              "      <td>18</td>\n",
              "      <td>18</td>\n",
              "      <td>1</td>\n",
              "    </tr>\n",
              "  </tbody>\n",
              "</table>\n",
              "</div>"
            ],
            "text/plain": [
              "        id  month     status  opening  final  window  mob  status_int\n",
              "0  5001711      0    no_loan       -3      0       3    3           0\n",
              "1  5001711     -1   1-29days       -3      0       3    2           2\n",
              "2  5001711     -2   1-29days       -3      0       3    1           2\n",
              "3  5001711     -3   1-29days       -3      0       3    0           2\n",
              "4  5001712      0  paid_loan      -18      0      18   18           1"
            ]
          },
          "metadata": {},
          "execution_count": 52
        }
      ]
    },
    {
      "cell_type": "code",
      "metadata": {
        "id": "ZzGvqJEt5Chj"
      },
      "source": [
        "# approved_clients['bad'] = approved_clients.apply(lambda x: x['status_int'] > 3, axis = 1)\n",
        "approved_clients['bad'] = approved_clients.apply(lambda x: 1 if x['status_int'] > 3 else 0, axis = 1)"
      ],
      "execution_count": 53,
      "outputs": []
    },
    {
      "cell_type": "code",
      "metadata": {
        "colab": {
          "base_uri": "https://localhost:8080/",
          "height": 0
        },
        "id": "rlrSraZm50JA",
        "outputId": "fee1409c-eede-4743-d799-0221a497f492"
      },
      "source": [
        "approved_clients"
      ],
      "execution_count": 54,
      "outputs": [
        {
          "output_type": "execute_result",
          "data": {
            "text/html": [
              "<div>\n",
              "<style scoped>\n",
              "    .dataframe tbody tr th:only-of-type {\n",
              "        vertical-align: middle;\n",
              "    }\n",
              "\n",
              "    .dataframe tbody tr th {\n",
              "        vertical-align: top;\n",
              "    }\n",
              "\n",
              "    .dataframe thead th {\n",
              "        text-align: right;\n",
              "    }\n",
              "</style>\n",
              "<table border=\"1\" class=\"dataframe\">\n",
              "  <thead>\n",
              "    <tr style=\"text-align: right;\">\n",
              "      <th></th>\n",
              "      <th>id</th>\n",
              "      <th>month</th>\n",
              "      <th>status</th>\n",
              "      <th>opening</th>\n",
              "      <th>final</th>\n",
              "      <th>window</th>\n",
              "      <th>mob</th>\n",
              "      <th>status_int</th>\n",
              "      <th>bad</th>\n",
              "    </tr>\n",
              "  </thead>\n",
              "  <tbody>\n",
              "    <tr>\n",
              "      <th>0</th>\n",
              "      <td>5001711</td>\n",
              "      <td>0</td>\n",
              "      <td>no_loan</td>\n",
              "      <td>-3</td>\n",
              "      <td>0</td>\n",
              "      <td>3</td>\n",
              "      <td>3</td>\n",
              "      <td>0</td>\n",
              "      <td>0</td>\n",
              "    </tr>\n",
              "    <tr>\n",
              "      <th>1</th>\n",
              "      <td>5001711</td>\n",
              "      <td>-1</td>\n",
              "      <td>1-29days</td>\n",
              "      <td>-3</td>\n",
              "      <td>0</td>\n",
              "      <td>3</td>\n",
              "      <td>2</td>\n",
              "      <td>2</td>\n",
              "      <td>0</td>\n",
              "    </tr>\n",
              "    <tr>\n",
              "      <th>2</th>\n",
              "      <td>5001711</td>\n",
              "      <td>-2</td>\n",
              "      <td>1-29days</td>\n",
              "      <td>-3</td>\n",
              "      <td>0</td>\n",
              "      <td>3</td>\n",
              "      <td>1</td>\n",
              "      <td>2</td>\n",
              "      <td>0</td>\n",
              "    </tr>\n",
              "    <tr>\n",
              "      <th>3</th>\n",
              "      <td>5001711</td>\n",
              "      <td>-3</td>\n",
              "      <td>1-29days</td>\n",
              "      <td>-3</td>\n",
              "      <td>0</td>\n",
              "      <td>3</td>\n",
              "      <td>0</td>\n",
              "      <td>2</td>\n",
              "      <td>0</td>\n",
              "    </tr>\n",
              "    <tr>\n",
              "      <th>4</th>\n",
              "      <td>5001712</td>\n",
              "      <td>0</td>\n",
              "      <td>paid_loan</td>\n",
              "      <td>-18</td>\n",
              "      <td>0</td>\n",
              "      <td>18</td>\n",
              "      <td>18</td>\n",
              "      <td>1</td>\n",
              "      <td>0</td>\n",
              "    </tr>\n",
              "    <tr>\n",
              "      <th>...</th>\n",
              "      <td>...</td>\n",
              "      <td>...</td>\n",
              "      <td>...</td>\n",
              "      <td>...</td>\n",
              "      <td>...</td>\n",
              "      <td>...</td>\n",
              "      <td>...</td>\n",
              "      <td>...</td>\n",
              "      <td>...</td>\n",
              "    </tr>\n",
              "    <tr>\n",
              "      <th>1048570</th>\n",
              "      <td>5150487</td>\n",
              "      <td>-25</td>\n",
              "      <td>paid_loan</td>\n",
              "      <td>-29</td>\n",
              "      <td>0</td>\n",
              "      <td>29</td>\n",
              "      <td>4</td>\n",
              "      <td>1</td>\n",
              "      <td>0</td>\n",
              "    </tr>\n",
              "    <tr>\n",
              "      <th>1048571</th>\n",
              "      <td>5150487</td>\n",
              "      <td>-26</td>\n",
              "      <td>paid_loan</td>\n",
              "      <td>-29</td>\n",
              "      <td>0</td>\n",
              "      <td>29</td>\n",
              "      <td>3</td>\n",
              "      <td>1</td>\n",
              "      <td>0</td>\n",
              "    </tr>\n",
              "    <tr>\n",
              "      <th>1048572</th>\n",
              "      <td>5150487</td>\n",
              "      <td>-27</td>\n",
              "      <td>paid_loan</td>\n",
              "      <td>-29</td>\n",
              "      <td>0</td>\n",
              "      <td>29</td>\n",
              "      <td>2</td>\n",
              "      <td>1</td>\n",
              "      <td>0</td>\n",
              "    </tr>\n",
              "    <tr>\n",
              "      <th>1048573</th>\n",
              "      <td>5150487</td>\n",
              "      <td>-28</td>\n",
              "      <td>paid_loan</td>\n",
              "      <td>-29</td>\n",
              "      <td>0</td>\n",
              "      <td>29</td>\n",
              "      <td>1</td>\n",
              "      <td>1</td>\n",
              "      <td>0</td>\n",
              "    </tr>\n",
              "    <tr>\n",
              "      <th>1048574</th>\n",
              "      <td>5150487</td>\n",
              "      <td>-29</td>\n",
              "      <td>paid_loan</td>\n",
              "      <td>-29</td>\n",
              "      <td>0</td>\n",
              "      <td>29</td>\n",
              "      <td>0</td>\n",
              "      <td>1</td>\n",
              "      <td>0</td>\n",
              "    </tr>\n",
              "  </tbody>\n",
              "</table>\n",
              "<p>1048575 rows × 9 columns</p>\n",
              "</div>"
            ],
            "text/plain": [
              "              id  month     status  opening  ...  window  mob  status_int  bad\n",
              "0        5001711      0    no_loan       -3  ...       3    3           0    0\n",
              "1        5001711     -1   1-29days       -3  ...       3    2           2    0\n",
              "2        5001711     -2   1-29days       -3  ...       3    1           2    0\n",
              "3        5001711     -3   1-29days       -3  ...       3    0           2    0\n",
              "4        5001712      0  paid_loan      -18  ...      18   18           1    0\n",
              "...          ...    ...        ...      ...  ...     ...  ...         ...  ...\n",
              "1048570  5150487    -25  paid_loan      -29  ...      29    4           1    0\n",
              "1048571  5150487    -26  paid_loan      -29  ...      29    3           1    0\n",
              "1048572  5150487    -27  paid_loan      -29  ...      29    2           1    0\n",
              "1048573  5150487    -28  paid_loan      -29  ...      29    1           1    0\n",
              "1048574  5150487    -29  paid_loan      -29  ...      29    0           1    0\n",
              "\n",
              "[1048575 rows x 9 columns]"
            ]
          },
          "metadata": {},
          "execution_count": 54
        }
      ]
    },
    {
      "cell_type": "markdown",
      "metadata": {
        "id": "uTIjJP_u65Ac"
      },
      "source": [
        "## Vintage Analysis"
      ]
    },
    {
      "cell_type": "code",
      "metadata": {
        "colab": {
          "base_uri": "https://localhost:8080/",
          "height": 0
        },
        "id": "et3yrgT556Ef",
        "outputId": "b03b272a-4de3-41f4-f458-96fba95ad845"
      },
      "source": [
        "approved_clients_unique_id = approved_clients[['id', 'opening', 'final', 'window']].groupby('id').apply(lambda x: x.iloc[0]).reset_index(drop = True)\n",
        "approved_clients_unique_id"
      ],
      "execution_count": 55,
      "outputs": [
        {
          "output_type": "execute_result",
          "data": {
            "text/html": [
              "<div>\n",
              "<style scoped>\n",
              "    .dataframe tbody tr th:only-of-type {\n",
              "        vertical-align: middle;\n",
              "    }\n",
              "\n",
              "    .dataframe tbody tr th {\n",
              "        vertical-align: top;\n",
              "    }\n",
              "\n",
              "    .dataframe thead th {\n",
              "        text-align: right;\n",
              "    }\n",
              "</style>\n",
              "<table border=\"1\" class=\"dataframe\">\n",
              "  <thead>\n",
              "    <tr style=\"text-align: right;\">\n",
              "      <th></th>\n",
              "      <th>id</th>\n",
              "      <th>opening</th>\n",
              "      <th>final</th>\n",
              "      <th>window</th>\n",
              "    </tr>\n",
              "  </thead>\n",
              "  <tbody>\n",
              "    <tr>\n",
              "      <th>0</th>\n",
              "      <td>5001711</td>\n",
              "      <td>-3</td>\n",
              "      <td>0</td>\n",
              "      <td>3</td>\n",
              "    </tr>\n",
              "    <tr>\n",
              "      <th>1</th>\n",
              "      <td>5001712</td>\n",
              "      <td>-18</td>\n",
              "      <td>0</td>\n",
              "      <td>18</td>\n",
              "    </tr>\n",
              "    <tr>\n",
              "      <th>2</th>\n",
              "      <td>5001713</td>\n",
              "      <td>-21</td>\n",
              "      <td>0</td>\n",
              "      <td>21</td>\n",
              "    </tr>\n",
              "    <tr>\n",
              "      <th>3</th>\n",
              "      <td>5001714</td>\n",
              "      <td>-14</td>\n",
              "      <td>0</td>\n",
              "      <td>14</td>\n",
              "    </tr>\n",
              "    <tr>\n",
              "      <th>4</th>\n",
              "      <td>5001715</td>\n",
              "      <td>-59</td>\n",
              "      <td>0</td>\n",
              "      <td>59</td>\n",
              "    </tr>\n",
              "    <tr>\n",
              "      <th>...</th>\n",
              "      <td>...</td>\n",
              "      <td>...</td>\n",
              "      <td>...</td>\n",
              "      <td>...</td>\n",
              "    </tr>\n",
              "    <tr>\n",
              "      <th>45980</th>\n",
              "      <td>5150482</td>\n",
              "      <td>-28</td>\n",
              "      <td>-11</td>\n",
              "      <td>17</td>\n",
              "    </tr>\n",
              "    <tr>\n",
              "      <th>45981</th>\n",
              "      <td>5150483</td>\n",
              "      <td>-17</td>\n",
              "      <td>0</td>\n",
              "      <td>17</td>\n",
              "    </tr>\n",
              "    <tr>\n",
              "      <th>45982</th>\n",
              "      <td>5150484</td>\n",
              "      <td>-12</td>\n",
              "      <td>0</td>\n",
              "      <td>12</td>\n",
              "    </tr>\n",
              "    <tr>\n",
              "      <th>45983</th>\n",
              "      <td>5150485</td>\n",
              "      <td>-1</td>\n",
              "      <td>0</td>\n",
              "      <td>1</td>\n",
              "    </tr>\n",
              "    <tr>\n",
              "      <th>45984</th>\n",
              "      <td>5150487</td>\n",
              "      <td>-29</td>\n",
              "      <td>0</td>\n",
              "      <td>29</td>\n",
              "    </tr>\n",
              "  </tbody>\n",
              "</table>\n",
              "<p>45985 rows × 4 columns</p>\n",
              "</div>"
            ],
            "text/plain": [
              "            id  opening  final  window\n",
              "0      5001711       -3      0       3\n",
              "1      5001712      -18      0      18\n",
              "2      5001713      -21      0      21\n",
              "3      5001714      -14      0      14\n",
              "4      5001715      -59      0      59\n",
              "...        ...      ...    ...     ...\n",
              "45980  5150482      -28    -11      17\n",
              "45981  5150483      -17      0      17\n",
              "45982  5150484      -12      0      12\n",
              "45983  5150485       -1      0       1\n",
              "45984  5150487      -29      0      29\n",
              "\n",
              "[45985 rows x 4 columns]"
            ]
          },
          "metadata": {},
          "execution_count": 55
        }
      ]
    },
    {
      "cell_type": "code",
      "metadata": {
        "colab": {
          "base_uri": "https://localhost:8080/",
          "height": 0
        },
        "id": "nDdJ8W777p_M",
        "outputId": "cce1042d-9954-43df-e79b-e1cb8694f65b"
      },
      "source": [
        "approved_clients_denominator = approved_clients_unique_id.groupby('opening').apply(lambda x: x['id'].count()).reset_index()\n",
        "approved_clients_denominator.columns = ['opening', 'number_of_clients']\n",
        "approved_clients_denominator"
      ],
      "execution_count": 56,
      "outputs": [
        {
          "output_type": "execute_result",
          "data": {
            "text/html": [
              "<div>\n",
              "<style scoped>\n",
              "    .dataframe tbody tr th:only-of-type {\n",
              "        vertical-align: middle;\n",
              "    }\n",
              "\n",
              "    .dataframe tbody tr th {\n",
              "        vertical-align: top;\n",
              "    }\n",
              "\n",
              "    .dataframe thead th {\n",
              "        text-align: right;\n",
              "    }\n",
              "</style>\n",
              "<table border=\"1\" class=\"dataframe\">\n",
              "  <thead>\n",
              "    <tr style=\"text-align: right;\">\n",
              "      <th></th>\n",
              "      <th>opening</th>\n",
              "      <th>number_of_clients</th>\n",
              "    </tr>\n",
              "  </thead>\n",
              "  <tbody>\n",
              "    <tr>\n",
              "      <th>0</th>\n",
              "      <td>-60</td>\n",
              "      <td>415</td>\n",
              "    </tr>\n",
              "    <tr>\n",
              "      <th>1</th>\n",
              "      <td>-59</td>\n",
              "      <td>406</td>\n",
              "    </tr>\n",
              "    <tr>\n",
              "      <th>2</th>\n",
              "      <td>-58</td>\n",
              "      <td>440</td>\n",
              "    </tr>\n",
              "    <tr>\n",
              "      <th>3</th>\n",
              "      <td>-57</td>\n",
              "      <td>400</td>\n",
              "    </tr>\n",
              "    <tr>\n",
              "      <th>4</th>\n",
              "      <td>-56</td>\n",
              "      <td>470</td>\n",
              "    </tr>\n",
              "    <tr>\n",
              "      <th>...</th>\n",
              "      <td>...</td>\n",
              "      <td>...</td>\n",
              "    </tr>\n",
              "    <tr>\n",
              "      <th>56</th>\n",
              "      <td>-4</td>\n",
              "      <td>874</td>\n",
              "    </tr>\n",
              "    <tr>\n",
              "      <th>57</th>\n",
              "      <td>-3</td>\n",
              "      <td>919</td>\n",
              "    </tr>\n",
              "    <tr>\n",
              "      <th>58</th>\n",
              "      <td>-2</td>\n",
              "      <td>771</td>\n",
              "    </tr>\n",
              "    <tr>\n",
              "      <th>59</th>\n",
              "      <td>-1</td>\n",
              "      <td>686</td>\n",
              "    </tr>\n",
              "    <tr>\n",
              "      <th>60</th>\n",
              "      <td>0</td>\n",
              "      <td>370</td>\n",
              "    </tr>\n",
              "  </tbody>\n",
              "</table>\n",
              "<p>61 rows × 2 columns</p>\n",
              "</div>"
            ],
            "text/plain": [
              "    opening  number_of_clients\n",
              "0       -60                415\n",
              "1       -59                406\n",
              "2       -58                440\n",
              "3       -57                400\n",
              "4       -56                470\n",
              "..      ...                ...\n",
              "56       -4                874\n",
              "57       -3                919\n",
              "58       -2                771\n",
              "59       -1                686\n",
              "60        0                370\n",
              "\n",
              "[61 rows x 2 columns]"
            ]
          },
          "metadata": {},
          "execution_count": 56
        }
      ]
    },
    {
      "cell_type": "code",
      "metadata": {
        "colab": {
          "base_uri": "https://localhost:8080/",
          "height": 0
        },
        "id": "IVS8kWpO8MW_",
        "outputId": "13610cc5-12d1-4a1a-d856-8e9bb56b0292"
      },
      "source": [
        "vintage = approved_clients.groupby(['opening', 'mob']).apply(lambda x: x['id'].count()).reset_index()\n",
        "vintage.columns = ['opening', 'mob', 'number_of_clients']\n",
        "vintage"
      ],
      "execution_count": 57,
      "outputs": [
        {
          "output_type": "execute_result",
          "data": {
            "text/html": [
              "<div>\n",
              "<style scoped>\n",
              "    .dataframe tbody tr th:only-of-type {\n",
              "        vertical-align: middle;\n",
              "    }\n",
              "\n",
              "    .dataframe tbody tr th {\n",
              "        vertical-align: top;\n",
              "    }\n",
              "\n",
              "    .dataframe thead th {\n",
              "        text-align: right;\n",
              "    }\n",
              "</style>\n",
              "<table border=\"1\" class=\"dataframe\">\n",
              "  <thead>\n",
              "    <tr style=\"text-align: right;\">\n",
              "      <th></th>\n",
              "      <th>opening</th>\n",
              "      <th>mob</th>\n",
              "      <th>number_of_clients</th>\n",
              "    </tr>\n",
              "  </thead>\n",
              "  <tbody>\n",
              "    <tr>\n",
              "      <th>0</th>\n",
              "      <td>-60</td>\n",
              "      <td>0</td>\n",
              "      <td>415</td>\n",
              "    </tr>\n",
              "    <tr>\n",
              "      <th>1</th>\n",
              "      <td>-60</td>\n",
              "      <td>1</td>\n",
              "      <td>414</td>\n",
              "    </tr>\n",
              "    <tr>\n",
              "      <th>2</th>\n",
              "      <td>-60</td>\n",
              "      <td>2</td>\n",
              "      <td>410</td>\n",
              "    </tr>\n",
              "    <tr>\n",
              "      <th>3</th>\n",
              "      <td>-60</td>\n",
              "      <td>3</td>\n",
              "      <td>408</td>\n",
              "    </tr>\n",
              "    <tr>\n",
              "      <th>4</th>\n",
              "      <td>-60</td>\n",
              "      <td>4</td>\n",
              "      <td>403</td>\n",
              "    </tr>\n",
              "    <tr>\n",
              "      <th>...</th>\n",
              "      <td>...</td>\n",
              "      <td>...</td>\n",
              "      <td>...</td>\n",
              "    </tr>\n",
              "    <tr>\n",
              "      <th>1886</th>\n",
              "      <td>-2</td>\n",
              "      <td>1</td>\n",
              "      <td>770</td>\n",
              "    </tr>\n",
              "    <tr>\n",
              "      <th>1887</th>\n",
              "      <td>-2</td>\n",
              "      <td>2</td>\n",
              "      <td>750</td>\n",
              "    </tr>\n",
              "    <tr>\n",
              "      <th>1888</th>\n",
              "      <td>-1</td>\n",
              "      <td>0</td>\n",
              "      <td>686</td>\n",
              "    </tr>\n",
              "    <tr>\n",
              "      <th>1889</th>\n",
              "      <td>-1</td>\n",
              "      <td>1</td>\n",
              "      <td>682</td>\n",
              "    </tr>\n",
              "    <tr>\n",
              "      <th>1890</th>\n",
              "      <td>0</td>\n",
              "      <td>0</td>\n",
              "      <td>370</td>\n",
              "    </tr>\n",
              "  </tbody>\n",
              "</table>\n",
              "<p>1891 rows × 3 columns</p>\n",
              "</div>"
            ],
            "text/plain": [
              "      opening  mob  number_of_clients\n",
              "0         -60    0                415\n",
              "1         -60    1                414\n",
              "2         -60    2                410\n",
              "3         -60    3                408\n",
              "4         -60    4                403\n",
              "...       ...  ...                ...\n",
              "1886       -2    1                770\n",
              "1887       -2    2                750\n",
              "1888       -1    0                686\n",
              "1889       -1    1                682\n",
              "1890        0    0                370\n",
              "\n",
              "[1891 rows x 3 columns]"
            ]
          },
          "metadata": {},
          "execution_count": 57
        }
      ]
    },
    {
      "cell_type": "markdown",
      "metadata": {
        "id": "gqnITEHa87x6"
      },
      "source": [
        "To explain the above table, let's look at the index 1886:\n",
        "- opening -2 = 2 months ago\n",
        "- mob 1 = account open for one month\n",
        "- number_of_clients 770\n",
        "\n",
        "So, two months ago we had 770 clients with accounts open for a period of one month."
      ]
    },
    {
      "cell_type": "code",
      "metadata": {
        "colab": {
          "base_uri": "https://localhost:8080/",
          "height": 0
        },
        "id": "MgLxTnVT8sKl",
        "outputId": "6f83fd88-ede9-4888-b633-1972e1f4f714"
      },
      "source": [
        "vintage = pd.merge(vintage[['opening', 'mob']],\n",
        "                   approved_clients_denominator,\n",
        "                   on = ['opening'],\n",
        "                   how = 'left')\n",
        "vintage"
      ],
      "execution_count": 58,
      "outputs": [
        {
          "output_type": "execute_result",
          "data": {
            "text/html": [
              "<div>\n",
              "<style scoped>\n",
              "    .dataframe tbody tr th:only-of-type {\n",
              "        vertical-align: middle;\n",
              "    }\n",
              "\n",
              "    .dataframe tbody tr th {\n",
              "        vertical-align: top;\n",
              "    }\n",
              "\n",
              "    .dataframe thead th {\n",
              "        text-align: right;\n",
              "    }\n",
              "</style>\n",
              "<table border=\"1\" class=\"dataframe\">\n",
              "  <thead>\n",
              "    <tr style=\"text-align: right;\">\n",
              "      <th></th>\n",
              "      <th>opening</th>\n",
              "      <th>mob</th>\n",
              "      <th>number_of_clients</th>\n",
              "    </tr>\n",
              "  </thead>\n",
              "  <tbody>\n",
              "    <tr>\n",
              "      <th>0</th>\n",
              "      <td>-60</td>\n",
              "      <td>0</td>\n",
              "      <td>415</td>\n",
              "    </tr>\n",
              "    <tr>\n",
              "      <th>1</th>\n",
              "      <td>-60</td>\n",
              "      <td>1</td>\n",
              "      <td>415</td>\n",
              "    </tr>\n",
              "    <tr>\n",
              "      <th>2</th>\n",
              "      <td>-60</td>\n",
              "      <td>2</td>\n",
              "      <td>415</td>\n",
              "    </tr>\n",
              "    <tr>\n",
              "      <th>3</th>\n",
              "      <td>-60</td>\n",
              "      <td>3</td>\n",
              "      <td>415</td>\n",
              "    </tr>\n",
              "    <tr>\n",
              "      <th>4</th>\n",
              "      <td>-60</td>\n",
              "      <td>4</td>\n",
              "      <td>415</td>\n",
              "    </tr>\n",
              "    <tr>\n",
              "      <th>...</th>\n",
              "      <td>...</td>\n",
              "      <td>...</td>\n",
              "      <td>...</td>\n",
              "    </tr>\n",
              "    <tr>\n",
              "      <th>1886</th>\n",
              "      <td>-2</td>\n",
              "      <td>1</td>\n",
              "      <td>771</td>\n",
              "    </tr>\n",
              "    <tr>\n",
              "      <th>1887</th>\n",
              "      <td>-2</td>\n",
              "      <td>2</td>\n",
              "      <td>771</td>\n",
              "    </tr>\n",
              "    <tr>\n",
              "      <th>1888</th>\n",
              "      <td>-1</td>\n",
              "      <td>0</td>\n",
              "      <td>686</td>\n",
              "    </tr>\n",
              "    <tr>\n",
              "      <th>1889</th>\n",
              "      <td>-1</td>\n",
              "      <td>1</td>\n",
              "      <td>686</td>\n",
              "    </tr>\n",
              "    <tr>\n",
              "      <th>1890</th>\n",
              "      <td>0</td>\n",
              "      <td>0</td>\n",
              "      <td>370</td>\n",
              "    </tr>\n",
              "  </tbody>\n",
              "</table>\n",
              "<p>1891 rows × 3 columns</p>\n",
              "</div>"
            ],
            "text/plain": [
              "      opening  mob  number_of_clients\n",
              "0         -60    0                415\n",
              "1         -60    1                415\n",
              "2         -60    2                415\n",
              "3         -60    3                415\n",
              "4         -60    4                415\n",
              "...       ...  ...                ...\n",
              "1886       -2    1                771\n",
              "1887       -2    2                771\n",
              "1888       -1    0                686\n",
              "1889       -1    1                686\n",
              "1890        0    0                370\n",
              "\n",
              "[1891 rows x 3 columns]"
            ]
          },
          "metadata": {},
          "execution_count": 58
        }
      ]
    },
    {
      "cell_type": "code",
      "metadata": {
        "colab": {
          "base_uri": "https://localhost:8080/",
          "height": 0
        },
        "id": "xUSSqxyG9t79",
        "outputId": "38604cfa-f893-4b66-8cc9-24931408afa4"
      },
      "source": [
        "vintage['number_of_bad_payers'] = np.nan\n",
        "\n",
        "for j in range(-60, 1):\n",
        "    ls = []\n",
        "    for i in range(0, 61):\n",
        "        due = list(approved_clients.query(\"bad == 1 and mob == @i and opening == @j\")['id'])\n",
        "        ls.extend(due)\n",
        "        vintage.loc[(vintage['mob'] == i) & (vintage['opening'] == j), 'number_of_bad_payers'] = len(set(ls))\n",
        "\n",
        "vintage['bad_payers_rate'] = vintage['number_of_bad_payers'] / vintage['number_of_clients']\n",
        "vintage"
      ],
      "execution_count": 59,
      "outputs": [
        {
          "output_type": "execute_result",
          "data": {
            "text/html": [
              "<div>\n",
              "<style scoped>\n",
              "    .dataframe tbody tr th:only-of-type {\n",
              "        vertical-align: middle;\n",
              "    }\n",
              "\n",
              "    .dataframe tbody tr th {\n",
              "        vertical-align: top;\n",
              "    }\n",
              "\n",
              "    .dataframe thead th {\n",
              "        text-align: right;\n",
              "    }\n",
              "</style>\n",
              "<table border=\"1\" class=\"dataframe\">\n",
              "  <thead>\n",
              "    <tr style=\"text-align: right;\">\n",
              "      <th></th>\n",
              "      <th>opening</th>\n",
              "      <th>mob</th>\n",
              "      <th>number_of_clients</th>\n",
              "      <th>number_of_bad_payers</th>\n",
              "      <th>bad_payers_rate</th>\n",
              "    </tr>\n",
              "  </thead>\n",
              "  <tbody>\n",
              "    <tr>\n",
              "      <th>0</th>\n",
              "      <td>-60</td>\n",
              "      <td>0</td>\n",
              "      <td>415</td>\n",
              "      <td>0.0</td>\n",
              "      <td>0.000000</td>\n",
              "    </tr>\n",
              "    <tr>\n",
              "      <th>1</th>\n",
              "      <td>-60</td>\n",
              "      <td>1</td>\n",
              "      <td>415</td>\n",
              "      <td>0.0</td>\n",
              "      <td>0.000000</td>\n",
              "    </tr>\n",
              "    <tr>\n",
              "      <th>2</th>\n",
              "      <td>-60</td>\n",
              "      <td>2</td>\n",
              "      <td>415</td>\n",
              "      <td>0.0</td>\n",
              "      <td>0.000000</td>\n",
              "    </tr>\n",
              "    <tr>\n",
              "      <th>3</th>\n",
              "      <td>-60</td>\n",
              "      <td>3</td>\n",
              "      <td>415</td>\n",
              "      <td>0.0</td>\n",
              "      <td>0.000000</td>\n",
              "    </tr>\n",
              "    <tr>\n",
              "      <th>4</th>\n",
              "      <td>-60</td>\n",
              "      <td>4</td>\n",
              "      <td>415</td>\n",
              "      <td>0.0</td>\n",
              "      <td>0.000000</td>\n",
              "    </tr>\n",
              "    <tr>\n",
              "      <th>...</th>\n",
              "      <td>...</td>\n",
              "      <td>...</td>\n",
              "      <td>...</td>\n",
              "      <td>...</td>\n",
              "      <td>...</td>\n",
              "    </tr>\n",
              "    <tr>\n",
              "      <th>1886</th>\n",
              "      <td>-2</td>\n",
              "      <td>1</td>\n",
              "      <td>771</td>\n",
              "      <td>0.0</td>\n",
              "      <td>0.000000</td>\n",
              "    </tr>\n",
              "    <tr>\n",
              "      <th>1887</th>\n",
              "      <td>-2</td>\n",
              "      <td>2</td>\n",
              "      <td>771</td>\n",
              "      <td>1.0</td>\n",
              "      <td>0.001297</td>\n",
              "    </tr>\n",
              "    <tr>\n",
              "      <th>1888</th>\n",
              "      <td>-1</td>\n",
              "      <td>0</td>\n",
              "      <td>686</td>\n",
              "      <td>0.0</td>\n",
              "      <td>0.000000</td>\n",
              "    </tr>\n",
              "    <tr>\n",
              "      <th>1889</th>\n",
              "      <td>-1</td>\n",
              "      <td>1</td>\n",
              "      <td>686</td>\n",
              "      <td>0.0</td>\n",
              "      <td>0.000000</td>\n",
              "    </tr>\n",
              "    <tr>\n",
              "      <th>1890</th>\n",
              "      <td>0</td>\n",
              "      <td>0</td>\n",
              "      <td>370</td>\n",
              "      <td>0.0</td>\n",
              "      <td>0.000000</td>\n",
              "    </tr>\n",
              "  </tbody>\n",
              "</table>\n",
              "<p>1891 rows × 5 columns</p>\n",
              "</div>"
            ],
            "text/plain": [
              "      opening  mob  number_of_clients  number_of_bad_payers  bad_payers_rate\n",
              "0         -60    0                415                   0.0         0.000000\n",
              "1         -60    1                415                   0.0         0.000000\n",
              "2         -60    2                415                   0.0         0.000000\n",
              "3         -60    3                415                   0.0         0.000000\n",
              "4         -60    4                415                   0.0         0.000000\n",
              "...       ...  ...                ...                   ...              ...\n",
              "1886       -2    1                771                   0.0         0.000000\n",
              "1887       -2    2                771                   1.0         0.001297\n",
              "1888       -1    0                686                   0.0         0.000000\n",
              "1889       -1    1                686                   0.0         0.000000\n",
              "1890        0    0                370                   0.0         0.000000\n",
              "\n",
              "[1891 rows x 5 columns]"
            ]
          },
          "metadata": {},
          "execution_count": 59
        }
      ]
    },
    {
      "cell_type": "code",
      "metadata": {
        "colab": {
          "base_uri": "https://localhost:8080/",
          "height": 0
        },
        "id": "23pmj7qi-2W2",
        "outputId": "71821a51-3f44-4688-adc0-2c2b8067ef68"
      },
      "source": [
        "vintage_pivot = vintage.pivot(index = 'opening',\n",
        "                              columns = 'mob',\n",
        "                              values = 'bad_payers_rate')\n",
        "\n",
        "vintage_pivot"
      ],
      "execution_count": 60,
      "outputs": [
        {
          "output_type": "execute_result",
          "data": {
            "text/html": [
              "<div>\n",
              "<style scoped>\n",
              "    .dataframe tbody tr th:only-of-type {\n",
              "        vertical-align: middle;\n",
              "    }\n",
              "\n",
              "    .dataframe tbody tr th {\n",
              "        vertical-align: top;\n",
              "    }\n",
              "\n",
              "    .dataframe thead th {\n",
              "        text-align: right;\n",
              "    }\n",
              "</style>\n",
              "<table border=\"1\" class=\"dataframe\">\n",
              "  <thead>\n",
              "    <tr style=\"text-align: right;\">\n",
              "      <th>mob</th>\n",
              "      <th>0</th>\n",
              "      <th>1</th>\n",
              "      <th>2</th>\n",
              "      <th>3</th>\n",
              "      <th>4</th>\n",
              "      <th>5</th>\n",
              "      <th>6</th>\n",
              "      <th>7</th>\n",
              "      <th>8</th>\n",
              "      <th>9</th>\n",
              "      <th>10</th>\n",
              "      <th>11</th>\n",
              "      <th>12</th>\n",
              "      <th>13</th>\n",
              "      <th>14</th>\n",
              "      <th>15</th>\n",
              "      <th>16</th>\n",
              "      <th>17</th>\n",
              "      <th>18</th>\n",
              "      <th>19</th>\n",
              "      <th>20</th>\n",
              "      <th>21</th>\n",
              "      <th>22</th>\n",
              "      <th>23</th>\n",
              "      <th>24</th>\n",
              "      <th>25</th>\n",
              "      <th>26</th>\n",
              "      <th>27</th>\n",
              "      <th>28</th>\n",
              "      <th>29</th>\n",
              "      <th>30</th>\n",
              "      <th>31</th>\n",
              "      <th>32</th>\n",
              "      <th>33</th>\n",
              "      <th>34</th>\n",
              "      <th>35</th>\n",
              "      <th>36</th>\n",
              "      <th>37</th>\n",
              "      <th>38</th>\n",
              "      <th>39</th>\n",
              "      <th>40</th>\n",
              "      <th>41</th>\n",
              "      <th>42</th>\n",
              "      <th>43</th>\n",
              "      <th>44</th>\n",
              "      <th>45</th>\n",
              "      <th>46</th>\n",
              "      <th>47</th>\n",
              "      <th>48</th>\n",
              "      <th>49</th>\n",
              "      <th>50</th>\n",
              "      <th>51</th>\n",
              "      <th>52</th>\n",
              "      <th>53</th>\n",
              "      <th>54</th>\n",
              "      <th>55</th>\n",
              "      <th>56</th>\n",
              "      <th>57</th>\n",
              "      <th>58</th>\n",
              "      <th>59</th>\n",
              "      <th>60</th>\n",
              "    </tr>\n",
              "    <tr>\n",
              "      <th>opening</th>\n",
              "      <th></th>\n",
              "      <th></th>\n",
              "      <th></th>\n",
              "      <th></th>\n",
              "      <th></th>\n",
              "      <th></th>\n",
              "      <th></th>\n",
              "      <th></th>\n",
              "      <th></th>\n",
              "      <th></th>\n",
              "      <th></th>\n",
              "      <th></th>\n",
              "      <th></th>\n",
              "      <th></th>\n",
              "      <th></th>\n",
              "      <th></th>\n",
              "      <th></th>\n",
              "      <th></th>\n",
              "      <th></th>\n",
              "      <th></th>\n",
              "      <th></th>\n",
              "      <th></th>\n",
              "      <th></th>\n",
              "      <th></th>\n",
              "      <th></th>\n",
              "      <th></th>\n",
              "      <th></th>\n",
              "      <th></th>\n",
              "      <th></th>\n",
              "      <th></th>\n",
              "      <th></th>\n",
              "      <th></th>\n",
              "      <th></th>\n",
              "      <th></th>\n",
              "      <th></th>\n",
              "      <th></th>\n",
              "      <th></th>\n",
              "      <th></th>\n",
              "      <th></th>\n",
              "      <th></th>\n",
              "      <th></th>\n",
              "      <th></th>\n",
              "      <th></th>\n",
              "      <th></th>\n",
              "      <th></th>\n",
              "      <th></th>\n",
              "      <th></th>\n",
              "      <th></th>\n",
              "      <th></th>\n",
              "      <th></th>\n",
              "      <th></th>\n",
              "      <th></th>\n",
              "      <th></th>\n",
              "      <th></th>\n",
              "      <th></th>\n",
              "      <th></th>\n",
              "      <th></th>\n",
              "      <th></th>\n",
              "      <th></th>\n",
              "      <th></th>\n",
              "      <th></th>\n",
              "    </tr>\n",
              "  </thead>\n",
              "  <tbody>\n",
              "    <tr>\n",
              "      <th>-60</th>\n",
              "      <td>0.0</td>\n",
              "      <td>0.0</td>\n",
              "      <td>0.000000</td>\n",
              "      <td>0.000000</td>\n",
              "      <td>0.000000</td>\n",
              "      <td>0.002410</td>\n",
              "      <td>0.002410</td>\n",
              "      <td>0.007229</td>\n",
              "      <td>0.007229</td>\n",
              "      <td>0.009639</td>\n",
              "      <td>0.009639</td>\n",
              "      <td>0.012048</td>\n",
              "      <td>0.014458</td>\n",
              "      <td>0.016867</td>\n",
              "      <td>0.016867</td>\n",
              "      <td>0.016867</td>\n",
              "      <td>0.016867</td>\n",
              "      <td>0.016867</td>\n",
              "      <td>0.016867</td>\n",
              "      <td>0.016867</td>\n",
              "      <td>0.016867</td>\n",
              "      <td>0.019277</td>\n",
              "      <td>0.019277</td>\n",
              "      <td>0.019277</td>\n",
              "      <td>0.019277</td>\n",
              "      <td>0.021687</td>\n",
              "      <td>0.021687</td>\n",
              "      <td>0.021687</td>\n",
              "      <td>0.021687</td>\n",
              "      <td>0.024096</td>\n",
              "      <td>0.026506</td>\n",
              "      <td>0.026506</td>\n",
              "      <td>0.026506</td>\n",
              "      <td>0.026506</td>\n",
              "      <td>0.026506</td>\n",
              "      <td>0.026506</td>\n",
              "      <td>0.026506</td>\n",
              "      <td>0.026506</td>\n",
              "      <td>0.026506</td>\n",
              "      <td>0.026506</td>\n",
              "      <td>0.026506</td>\n",
              "      <td>0.026506</td>\n",
              "      <td>0.026506</td>\n",
              "      <td>0.026506</td>\n",
              "      <td>0.026506</td>\n",
              "      <td>0.026506</td>\n",
              "      <td>0.026506</td>\n",
              "      <td>0.026506</td>\n",
              "      <td>0.026506</td>\n",
              "      <td>0.026506</td>\n",
              "      <td>0.028916</td>\n",
              "      <td>0.028916</td>\n",
              "      <td>0.028916</td>\n",
              "      <td>0.028916</td>\n",
              "      <td>0.028916</td>\n",
              "      <td>0.028916</td>\n",
              "      <td>0.028916</td>\n",
              "      <td>0.028916</td>\n",
              "      <td>0.031325</td>\n",
              "      <td>0.031325</td>\n",
              "      <td>0.031325</td>\n",
              "    </tr>\n",
              "    <tr>\n",
              "      <th>-59</th>\n",
              "      <td>0.0</td>\n",
              "      <td>0.0</td>\n",
              "      <td>0.000000</td>\n",
              "      <td>0.004926</td>\n",
              "      <td>0.004926</td>\n",
              "      <td>0.004926</td>\n",
              "      <td>0.007389</td>\n",
              "      <td>0.007389</td>\n",
              "      <td>0.007389</td>\n",
              "      <td>0.012315</td>\n",
              "      <td>0.012315</td>\n",
              "      <td>0.019704</td>\n",
              "      <td>0.019704</td>\n",
              "      <td>0.019704</td>\n",
              "      <td>0.019704</td>\n",
              "      <td>0.019704</td>\n",
              "      <td>0.019704</td>\n",
              "      <td>0.019704</td>\n",
              "      <td>0.022167</td>\n",
              "      <td>0.024631</td>\n",
              "      <td>0.024631</td>\n",
              "      <td>0.027094</td>\n",
              "      <td>0.027094</td>\n",
              "      <td>0.027094</td>\n",
              "      <td>0.027094</td>\n",
              "      <td>0.029557</td>\n",
              "      <td>0.029557</td>\n",
              "      <td>0.029557</td>\n",
              "      <td>0.029557</td>\n",
              "      <td>0.029557</td>\n",
              "      <td>0.029557</td>\n",
              "      <td>0.029557</td>\n",
              "      <td>0.029557</td>\n",
              "      <td>0.029557</td>\n",
              "      <td>0.029557</td>\n",
              "      <td>0.029557</td>\n",
              "      <td>0.029557</td>\n",
              "      <td>0.029557</td>\n",
              "      <td>0.029557</td>\n",
              "      <td>0.029557</td>\n",
              "      <td>0.029557</td>\n",
              "      <td>0.029557</td>\n",
              "      <td>0.029557</td>\n",
              "      <td>0.029557</td>\n",
              "      <td>0.029557</td>\n",
              "      <td>0.029557</td>\n",
              "      <td>0.029557</td>\n",
              "      <td>0.029557</td>\n",
              "      <td>0.029557</td>\n",
              "      <td>0.029557</td>\n",
              "      <td>0.029557</td>\n",
              "      <td>0.029557</td>\n",
              "      <td>0.029557</td>\n",
              "      <td>0.029557</td>\n",
              "      <td>0.032020</td>\n",
              "      <td>0.032020</td>\n",
              "      <td>0.032020</td>\n",
              "      <td>0.032020</td>\n",
              "      <td>0.032020</td>\n",
              "      <td>0.032020</td>\n",
              "      <td>NaN</td>\n",
              "    </tr>\n",
              "    <tr>\n",
              "      <th>-58</th>\n",
              "      <td>0.0</td>\n",
              "      <td>0.0</td>\n",
              "      <td>0.000000</td>\n",
              "      <td>0.000000</td>\n",
              "      <td>0.000000</td>\n",
              "      <td>0.000000</td>\n",
              "      <td>0.000000</td>\n",
              "      <td>0.004545</td>\n",
              "      <td>0.006818</td>\n",
              "      <td>0.006818</td>\n",
              "      <td>0.011364</td>\n",
              "      <td>0.013636</td>\n",
              "      <td>0.013636</td>\n",
              "      <td>0.013636</td>\n",
              "      <td>0.013636</td>\n",
              "      <td>0.013636</td>\n",
              "      <td>0.013636</td>\n",
              "      <td>0.015909</td>\n",
              "      <td>0.018182</td>\n",
              "      <td>0.018182</td>\n",
              "      <td>0.018182</td>\n",
              "      <td>0.022727</td>\n",
              "      <td>0.022727</td>\n",
              "      <td>0.022727</td>\n",
              "      <td>0.022727</td>\n",
              "      <td>0.022727</td>\n",
              "      <td>0.022727</td>\n",
              "      <td>0.022727</td>\n",
              "      <td>0.022727</td>\n",
              "      <td>0.022727</td>\n",
              "      <td>0.022727</td>\n",
              "      <td>0.022727</td>\n",
              "      <td>0.022727</td>\n",
              "      <td>0.022727</td>\n",
              "      <td>0.025000</td>\n",
              "      <td>0.025000</td>\n",
              "      <td>0.025000</td>\n",
              "      <td>0.025000</td>\n",
              "      <td>0.025000</td>\n",
              "      <td>0.025000</td>\n",
              "      <td>0.025000</td>\n",
              "      <td>0.025000</td>\n",
              "      <td>0.025000</td>\n",
              "      <td>0.025000</td>\n",
              "      <td>0.025000</td>\n",
              "      <td>0.025000</td>\n",
              "      <td>0.025000</td>\n",
              "      <td>0.025000</td>\n",
              "      <td>0.025000</td>\n",
              "      <td>0.025000</td>\n",
              "      <td>0.025000</td>\n",
              "      <td>0.025000</td>\n",
              "      <td>0.025000</td>\n",
              "      <td>0.025000</td>\n",
              "      <td>0.025000</td>\n",
              "      <td>0.025000</td>\n",
              "      <td>0.025000</td>\n",
              "      <td>0.025000</td>\n",
              "      <td>0.025000</td>\n",
              "      <td>NaN</td>\n",
              "      <td>NaN</td>\n",
              "    </tr>\n",
              "    <tr>\n",
              "      <th>-57</th>\n",
              "      <td>0.0</td>\n",
              "      <td>0.0</td>\n",
              "      <td>0.000000</td>\n",
              "      <td>0.000000</td>\n",
              "      <td>0.002500</td>\n",
              "      <td>0.002500</td>\n",
              "      <td>0.002500</td>\n",
              "      <td>0.007500</td>\n",
              "      <td>0.007500</td>\n",
              "      <td>0.007500</td>\n",
              "      <td>0.007500</td>\n",
              "      <td>0.007500</td>\n",
              "      <td>0.010000</td>\n",
              "      <td>0.017500</td>\n",
              "      <td>0.017500</td>\n",
              "      <td>0.017500</td>\n",
              "      <td>0.017500</td>\n",
              "      <td>0.017500</td>\n",
              "      <td>0.017500</td>\n",
              "      <td>0.017500</td>\n",
              "      <td>0.017500</td>\n",
              "      <td>0.017500</td>\n",
              "      <td>0.017500</td>\n",
              "      <td>0.017500</td>\n",
              "      <td>0.020000</td>\n",
              "      <td>0.020000</td>\n",
              "      <td>0.020000</td>\n",
              "      <td>0.020000</td>\n",
              "      <td>0.020000</td>\n",
              "      <td>0.020000</td>\n",
              "      <td>0.020000</td>\n",
              "      <td>0.020000</td>\n",
              "      <td>0.020000</td>\n",
              "      <td>0.020000</td>\n",
              "      <td>0.020000</td>\n",
              "      <td>0.022500</td>\n",
              "      <td>0.022500</td>\n",
              "      <td>0.022500</td>\n",
              "      <td>0.022500</td>\n",
              "      <td>0.022500</td>\n",
              "      <td>0.022500</td>\n",
              "      <td>0.025000</td>\n",
              "      <td>0.025000</td>\n",
              "      <td>0.025000</td>\n",
              "      <td>0.025000</td>\n",
              "      <td>0.025000</td>\n",
              "      <td>0.025000</td>\n",
              "      <td>0.025000</td>\n",
              "      <td>0.025000</td>\n",
              "      <td>0.025000</td>\n",
              "      <td>0.025000</td>\n",
              "      <td>0.025000</td>\n",
              "      <td>0.025000</td>\n",
              "      <td>0.025000</td>\n",
              "      <td>0.025000</td>\n",
              "      <td>0.025000</td>\n",
              "      <td>0.025000</td>\n",
              "      <td>0.025000</td>\n",
              "      <td>NaN</td>\n",
              "      <td>NaN</td>\n",
              "      <td>NaN</td>\n",
              "    </tr>\n",
              "    <tr>\n",
              "      <th>-56</th>\n",
              "      <td>0.0</td>\n",
              "      <td>0.0</td>\n",
              "      <td>0.004255</td>\n",
              "      <td>0.004255</td>\n",
              "      <td>0.008511</td>\n",
              "      <td>0.010638</td>\n",
              "      <td>0.010638</td>\n",
              "      <td>0.017021</td>\n",
              "      <td>0.017021</td>\n",
              "      <td>0.021277</td>\n",
              "      <td>0.021277</td>\n",
              "      <td>0.025532</td>\n",
              "      <td>0.029787</td>\n",
              "      <td>0.034043</td>\n",
              "      <td>0.034043</td>\n",
              "      <td>0.034043</td>\n",
              "      <td>0.034043</td>\n",
              "      <td>0.034043</td>\n",
              "      <td>0.034043</td>\n",
              "      <td>0.034043</td>\n",
              "      <td>0.034043</td>\n",
              "      <td>0.034043</td>\n",
              "      <td>0.034043</td>\n",
              "      <td>0.034043</td>\n",
              "      <td>0.034043</td>\n",
              "      <td>0.034043</td>\n",
              "      <td>0.034043</td>\n",
              "      <td>0.034043</td>\n",
              "      <td>0.034043</td>\n",
              "      <td>0.034043</td>\n",
              "      <td>0.034043</td>\n",
              "      <td>0.034043</td>\n",
              "      <td>0.034043</td>\n",
              "      <td>0.034043</td>\n",
              "      <td>0.034043</td>\n",
              "      <td>0.034043</td>\n",
              "      <td>0.034043</td>\n",
              "      <td>0.034043</td>\n",
              "      <td>0.034043</td>\n",
              "      <td>0.034043</td>\n",
              "      <td>0.034043</td>\n",
              "      <td>0.034043</td>\n",
              "      <td>0.034043</td>\n",
              "      <td>0.034043</td>\n",
              "      <td>0.034043</td>\n",
              "      <td>0.034043</td>\n",
              "      <td>0.034043</td>\n",
              "      <td>0.034043</td>\n",
              "      <td>0.034043</td>\n",
              "      <td>0.034043</td>\n",
              "      <td>0.034043</td>\n",
              "      <td>0.036170</td>\n",
              "      <td>0.036170</td>\n",
              "      <td>0.036170</td>\n",
              "      <td>0.036170</td>\n",
              "      <td>0.038298</td>\n",
              "      <td>0.038298</td>\n",
              "      <td>NaN</td>\n",
              "      <td>NaN</td>\n",
              "      <td>NaN</td>\n",
              "      <td>NaN</td>\n",
              "    </tr>\n",
              "    <tr>\n",
              "      <th>...</th>\n",
              "      <td>...</td>\n",
              "      <td>...</td>\n",
              "      <td>...</td>\n",
              "      <td>...</td>\n",
              "      <td>...</td>\n",
              "      <td>...</td>\n",
              "      <td>...</td>\n",
              "      <td>...</td>\n",
              "      <td>...</td>\n",
              "      <td>...</td>\n",
              "      <td>...</td>\n",
              "      <td>...</td>\n",
              "      <td>...</td>\n",
              "      <td>...</td>\n",
              "      <td>...</td>\n",
              "      <td>...</td>\n",
              "      <td>...</td>\n",
              "      <td>...</td>\n",
              "      <td>...</td>\n",
              "      <td>...</td>\n",
              "      <td>...</td>\n",
              "      <td>...</td>\n",
              "      <td>...</td>\n",
              "      <td>...</td>\n",
              "      <td>...</td>\n",
              "      <td>...</td>\n",
              "      <td>...</td>\n",
              "      <td>...</td>\n",
              "      <td>...</td>\n",
              "      <td>...</td>\n",
              "      <td>...</td>\n",
              "      <td>...</td>\n",
              "      <td>...</td>\n",
              "      <td>...</td>\n",
              "      <td>...</td>\n",
              "      <td>...</td>\n",
              "      <td>...</td>\n",
              "      <td>...</td>\n",
              "      <td>...</td>\n",
              "      <td>...</td>\n",
              "      <td>...</td>\n",
              "      <td>...</td>\n",
              "      <td>...</td>\n",
              "      <td>...</td>\n",
              "      <td>...</td>\n",
              "      <td>...</td>\n",
              "      <td>...</td>\n",
              "      <td>...</td>\n",
              "      <td>...</td>\n",
              "      <td>...</td>\n",
              "      <td>...</td>\n",
              "      <td>...</td>\n",
              "      <td>...</td>\n",
              "      <td>...</td>\n",
              "      <td>...</td>\n",
              "      <td>...</td>\n",
              "      <td>...</td>\n",
              "      <td>...</td>\n",
              "      <td>...</td>\n",
              "      <td>...</td>\n",
              "      <td>...</td>\n",
              "    </tr>\n",
              "    <tr>\n",
              "      <th>-4</th>\n",
              "      <td>0.0</td>\n",
              "      <td>0.0</td>\n",
              "      <td>0.000000</td>\n",
              "      <td>0.003432</td>\n",
              "      <td>0.003432</td>\n",
              "      <td>NaN</td>\n",
              "      <td>NaN</td>\n",
              "      <td>NaN</td>\n",
              "      <td>NaN</td>\n",
              "      <td>NaN</td>\n",
              "      <td>NaN</td>\n",
              "      <td>NaN</td>\n",
              "      <td>NaN</td>\n",
              "      <td>NaN</td>\n",
              "      <td>NaN</td>\n",
              "      <td>NaN</td>\n",
              "      <td>NaN</td>\n",
              "      <td>NaN</td>\n",
              "      <td>NaN</td>\n",
              "      <td>NaN</td>\n",
              "      <td>NaN</td>\n",
              "      <td>NaN</td>\n",
              "      <td>NaN</td>\n",
              "      <td>NaN</td>\n",
              "      <td>NaN</td>\n",
              "      <td>NaN</td>\n",
              "      <td>NaN</td>\n",
              "      <td>NaN</td>\n",
              "      <td>NaN</td>\n",
              "      <td>NaN</td>\n",
              "      <td>NaN</td>\n",
              "      <td>NaN</td>\n",
              "      <td>NaN</td>\n",
              "      <td>NaN</td>\n",
              "      <td>NaN</td>\n",
              "      <td>NaN</td>\n",
              "      <td>NaN</td>\n",
              "      <td>NaN</td>\n",
              "      <td>NaN</td>\n",
              "      <td>NaN</td>\n",
              "      <td>NaN</td>\n",
              "      <td>NaN</td>\n",
              "      <td>NaN</td>\n",
              "      <td>NaN</td>\n",
              "      <td>NaN</td>\n",
              "      <td>NaN</td>\n",
              "      <td>NaN</td>\n",
              "      <td>NaN</td>\n",
              "      <td>NaN</td>\n",
              "      <td>NaN</td>\n",
              "      <td>NaN</td>\n",
              "      <td>NaN</td>\n",
              "      <td>NaN</td>\n",
              "      <td>NaN</td>\n",
              "      <td>NaN</td>\n",
              "      <td>NaN</td>\n",
              "      <td>NaN</td>\n",
              "      <td>NaN</td>\n",
              "      <td>NaN</td>\n",
              "      <td>NaN</td>\n",
              "      <td>NaN</td>\n",
              "    </tr>\n",
              "    <tr>\n",
              "      <th>-3</th>\n",
              "      <td>0.0</td>\n",
              "      <td>0.0</td>\n",
              "      <td>0.001088</td>\n",
              "      <td>0.001088</td>\n",
              "      <td>NaN</td>\n",
              "      <td>NaN</td>\n",
              "      <td>NaN</td>\n",
              "      <td>NaN</td>\n",
              "      <td>NaN</td>\n",
              "      <td>NaN</td>\n",
              "      <td>NaN</td>\n",
              "      <td>NaN</td>\n",
              "      <td>NaN</td>\n",
              "      <td>NaN</td>\n",
              "      <td>NaN</td>\n",
              "      <td>NaN</td>\n",
              "      <td>NaN</td>\n",
              "      <td>NaN</td>\n",
              "      <td>NaN</td>\n",
              "      <td>NaN</td>\n",
              "      <td>NaN</td>\n",
              "      <td>NaN</td>\n",
              "      <td>NaN</td>\n",
              "      <td>NaN</td>\n",
              "      <td>NaN</td>\n",
              "      <td>NaN</td>\n",
              "      <td>NaN</td>\n",
              "      <td>NaN</td>\n",
              "      <td>NaN</td>\n",
              "      <td>NaN</td>\n",
              "      <td>NaN</td>\n",
              "      <td>NaN</td>\n",
              "      <td>NaN</td>\n",
              "      <td>NaN</td>\n",
              "      <td>NaN</td>\n",
              "      <td>NaN</td>\n",
              "      <td>NaN</td>\n",
              "      <td>NaN</td>\n",
              "      <td>NaN</td>\n",
              "      <td>NaN</td>\n",
              "      <td>NaN</td>\n",
              "      <td>NaN</td>\n",
              "      <td>NaN</td>\n",
              "      <td>NaN</td>\n",
              "      <td>NaN</td>\n",
              "      <td>NaN</td>\n",
              "      <td>NaN</td>\n",
              "      <td>NaN</td>\n",
              "      <td>NaN</td>\n",
              "      <td>NaN</td>\n",
              "      <td>NaN</td>\n",
              "      <td>NaN</td>\n",
              "      <td>NaN</td>\n",
              "      <td>NaN</td>\n",
              "      <td>NaN</td>\n",
              "      <td>NaN</td>\n",
              "      <td>NaN</td>\n",
              "      <td>NaN</td>\n",
              "      <td>NaN</td>\n",
              "      <td>NaN</td>\n",
              "      <td>NaN</td>\n",
              "    </tr>\n",
              "    <tr>\n",
              "      <th>-2</th>\n",
              "      <td>0.0</td>\n",
              "      <td>0.0</td>\n",
              "      <td>0.001297</td>\n",
              "      <td>NaN</td>\n",
              "      <td>NaN</td>\n",
              "      <td>NaN</td>\n",
              "      <td>NaN</td>\n",
              "      <td>NaN</td>\n",
              "      <td>NaN</td>\n",
              "      <td>NaN</td>\n",
              "      <td>NaN</td>\n",
              "      <td>NaN</td>\n",
              "      <td>NaN</td>\n",
              "      <td>NaN</td>\n",
              "      <td>NaN</td>\n",
              "      <td>NaN</td>\n",
              "      <td>NaN</td>\n",
              "      <td>NaN</td>\n",
              "      <td>NaN</td>\n",
              "      <td>NaN</td>\n",
              "      <td>NaN</td>\n",
              "      <td>NaN</td>\n",
              "      <td>NaN</td>\n",
              "      <td>NaN</td>\n",
              "      <td>NaN</td>\n",
              "      <td>NaN</td>\n",
              "      <td>NaN</td>\n",
              "      <td>NaN</td>\n",
              "      <td>NaN</td>\n",
              "      <td>NaN</td>\n",
              "      <td>NaN</td>\n",
              "      <td>NaN</td>\n",
              "      <td>NaN</td>\n",
              "      <td>NaN</td>\n",
              "      <td>NaN</td>\n",
              "      <td>NaN</td>\n",
              "      <td>NaN</td>\n",
              "      <td>NaN</td>\n",
              "      <td>NaN</td>\n",
              "      <td>NaN</td>\n",
              "      <td>NaN</td>\n",
              "      <td>NaN</td>\n",
              "      <td>NaN</td>\n",
              "      <td>NaN</td>\n",
              "      <td>NaN</td>\n",
              "      <td>NaN</td>\n",
              "      <td>NaN</td>\n",
              "      <td>NaN</td>\n",
              "      <td>NaN</td>\n",
              "      <td>NaN</td>\n",
              "      <td>NaN</td>\n",
              "      <td>NaN</td>\n",
              "      <td>NaN</td>\n",
              "      <td>NaN</td>\n",
              "      <td>NaN</td>\n",
              "      <td>NaN</td>\n",
              "      <td>NaN</td>\n",
              "      <td>NaN</td>\n",
              "      <td>NaN</td>\n",
              "      <td>NaN</td>\n",
              "      <td>NaN</td>\n",
              "    </tr>\n",
              "    <tr>\n",
              "      <th>-1</th>\n",
              "      <td>0.0</td>\n",
              "      <td>0.0</td>\n",
              "      <td>NaN</td>\n",
              "      <td>NaN</td>\n",
              "      <td>NaN</td>\n",
              "      <td>NaN</td>\n",
              "      <td>NaN</td>\n",
              "      <td>NaN</td>\n",
              "      <td>NaN</td>\n",
              "      <td>NaN</td>\n",
              "      <td>NaN</td>\n",
              "      <td>NaN</td>\n",
              "      <td>NaN</td>\n",
              "      <td>NaN</td>\n",
              "      <td>NaN</td>\n",
              "      <td>NaN</td>\n",
              "      <td>NaN</td>\n",
              "      <td>NaN</td>\n",
              "      <td>NaN</td>\n",
              "      <td>NaN</td>\n",
              "      <td>NaN</td>\n",
              "      <td>NaN</td>\n",
              "      <td>NaN</td>\n",
              "      <td>NaN</td>\n",
              "      <td>NaN</td>\n",
              "      <td>NaN</td>\n",
              "      <td>NaN</td>\n",
              "      <td>NaN</td>\n",
              "      <td>NaN</td>\n",
              "      <td>NaN</td>\n",
              "      <td>NaN</td>\n",
              "      <td>NaN</td>\n",
              "      <td>NaN</td>\n",
              "      <td>NaN</td>\n",
              "      <td>NaN</td>\n",
              "      <td>NaN</td>\n",
              "      <td>NaN</td>\n",
              "      <td>NaN</td>\n",
              "      <td>NaN</td>\n",
              "      <td>NaN</td>\n",
              "      <td>NaN</td>\n",
              "      <td>NaN</td>\n",
              "      <td>NaN</td>\n",
              "      <td>NaN</td>\n",
              "      <td>NaN</td>\n",
              "      <td>NaN</td>\n",
              "      <td>NaN</td>\n",
              "      <td>NaN</td>\n",
              "      <td>NaN</td>\n",
              "      <td>NaN</td>\n",
              "      <td>NaN</td>\n",
              "      <td>NaN</td>\n",
              "      <td>NaN</td>\n",
              "      <td>NaN</td>\n",
              "      <td>NaN</td>\n",
              "      <td>NaN</td>\n",
              "      <td>NaN</td>\n",
              "      <td>NaN</td>\n",
              "      <td>NaN</td>\n",
              "      <td>NaN</td>\n",
              "      <td>NaN</td>\n",
              "    </tr>\n",
              "    <tr>\n",
              "      <th>0</th>\n",
              "      <td>0.0</td>\n",
              "      <td>NaN</td>\n",
              "      <td>NaN</td>\n",
              "      <td>NaN</td>\n",
              "      <td>NaN</td>\n",
              "      <td>NaN</td>\n",
              "      <td>NaN</td>\n",
              "      <td>NaN</td>\n",
              "      <td>NaN</td>\n",
              "      <td>NaN</td>\n",
              "      <td>NaN</td>\n",
              "      <td>NaN</td>\n",
              "      <td>NaN</td>\n",
              "      <td>NaN</td>\n",
              "      <td>NaN</td>\n",
              "      <td>NaN</td>\n",
              "      <td>NaN</td>\n",
              "      <td>NaN</td>\n",
              "      <td>NaN</td>\n",
              "      <td>NaN</td>\n",
              "      <td>NaN</td>\n",
              "      <td>NaN</td>\n",
              "      <td>NaN</td>\n",
              "      <td>NaN</td>\n",
              "      <td>NaN</td>\n",
              "      <td>NaN</td>\n",
              "      <td>NaN</td>\n",
              "      <td>NaN</td>\n",
              "      <td>NaN</td>\n",
              "      <td>NaN</td>\n",
              "      <td>NaN</td>\n",
              "      <td>NaN</td>\n",
              "      <td>NaN</td>\n",
              "      <td>NaN</td>\n",
              "      <td>NaN</td>\n",
              "      <td>NaN</td>\n",
              "      <td>NaN</td>\n",
              "      <td>NaN</td>\n",
              "      <td>NaN</td>\n",
              "      <td>NaN</td>\n",
              "      <td>NaN</td>\n",
              "      <td>NaN</td>\n",
              "      <td>NaN</td>\n",
              "      <td>NaN</td>\n",
              "      <td>NaN</td>\n",
              "      <td>NaN</td>\n",
              "      <td>NaN</td>\n",
              "      <td>NaN</td>\n",
              "      <td>NaN</td>\n",
              "      <td>NaN</td>\n",
              "      <td>NaN</td>\n",
              "      <td>NaN</td>\n",
              "      <td>NaN</td>\n",
              "      <td>NaN</td>\n",
              "      <td>NaN</td>\n",
              "      <td>NaN</td>\n",
              "      <td>NaN</td>\n",
              "      <td>NaN</td>\n",
              "      <td>NaN</td>\n",
              "      <td>NaN</td>\n",
              "      <td>NaN</td>\n",
              "    </tr>\n",
              "  </tbody>\n",
              "</table>\n",
              "<p>61 rows × 61 columns</p>\n",
              "</div>"
            ],
            "text/plain": [
              "mob       0    1         2         3   ...        57        58        59        60\n",
              "opening                                ...                                        \n",
              "-60      0.0  0.0  0.000000  0.000000  ...  0.028916  0.031325  0.031325  0.031325\n",
              "-59      0.0  0.0  0.000000  0.004926  ...  0.032020  0.032020  0.032020       NaN\n",
              "-58      0.0  0.0  0.000000  0.000000  ...  0.025000  0.025000       NaN       NaN\n",
              "-57      0.0  0.0  0.000000  0.000000  ...  0.025000       NaN       NaN       NaN\n",
              "-56      0.0  0.0  0.004255  0.004255  ...       NaN       NaN       NaN       NaN\n",
              "...      ...  ...       ...       ...  ...       ...       ...       ...       ...\n",
              "-4       0.0  0.0  0.000000  0.003432  ...       NaN       NaN       NaN       NaN\n",
              "-3       0.0  0.0  0.001088  0.001088  ...       NaN       NaN       NaN       NaN\n",
              "-2       0.0  0.0  0.001297       NaN  ...       NaN       NaN       NaN       NaN\n",
              "-1       0.0  0.0       NaN       NaN  ...       NaN       NaN       NaN       NaN\n",
              " 0       0.0  NaN       NaN       NaN  ...       NaN       NaN       NaN       NaN\n",
              "\n",
              "[61 rows x 61 columns]"
            ]
          },
          "metadata": {},
          "execution_count": 60
        }
      ]
    },
    {
      "cell_type": "code",
      "metadata": {
        "colab": {
          "base_uri": "https://localhost:8080/",
          "height": 0
        },
        "id": "pcLVCyva_dCQ",
        "outputId": "5a7e2c67-c0aa-4ec4-c452-551b59429ea8"
      },
      "source": [
        "lst = [i for i in range(0, 61)]\n",
        "vintage_pivot[lst].T.iloc[:, :10].plot(legend = True,\n",
        "                                       grid = True,\n",
        "                                       title = 'Cumulative Percentage of Bad Clients (late pay > 60 days)',\n",
        "                                       figsize = (10, 8))\n",
        "\n",
        "plt.xlabel('MOB')\n",
        "plt.ylabel('Cumulative Percentage of Bad Clients')\n",
        "plt.legend(bbox_to_anchor = (1.12, 1), title = 'Opening')\n",
        "plt.show()"
      ],
      "execution_count": 61,
      "outputs": [
        {
          "output_type": "display_data",
          "data": {
            "image/png": "[encoded data removed]",
            "text/plain": [
              "<Figure size 720x576 with 1 Axes>"
            ]
          },
          "metadata": {
            "needs_background": "light"
          }
        }
      ]
    },
    {
      "cell_type": "code",
      "metadata": {
        "colab": {
          "base_uri": "https://localhost:8080/",
          "height": 0
        },
        "id": "jfxa8v8QAS4c",
        "outputId": "6a406574-9677-43b7-a09c-2ded324408d3"
      },
      "source": [
        "sns.histplot(data = approved_clients_unique_id,\n",
        "             x = 'window',\n",
        "             cumulative = True,\n",
        "             stat = 'density',\n",
        "             kde = True)\n",
        "plt.title('Distribution of Clients by Window')\n",
        "plt.xlabel('Window')\n",
        "plt.ylabel('Percentage of Clients')\n",
        "plt.show()"
      ],
      "execution_count": 62,
      "outputs": [
        {
          "output_type": "display_data",
          "data": {
            "image/png": "[encoded data removed]",
            "text/plain": [
              "<Figure size 432x288 with 1 Axes>"
            ]
          },
          "metadata": {
            "needs_background": "light"
          }
        }
      ]
    },
    {
      "cell_type": "code",
      "metadata": {
        "id": "7ukjbfmNBG_L"
      },
      "source": [
        "late_interval_dict = {\n",
        "    'more_than_30_days': 3,\n",
        "    'more_than_60_days': 4,\n",
        "    'more_than_90_days': 5,\n",
        "    'more_than_120_days': 6,\n",
        "    'more_than_150_days': 7\n",
        "}"
      ],
      "execution_count": 63,
      "outputs": []
    },
    {
      "cell_type": "code",
      "metadata": {
        "id": "wdKp4hm-CE4-"
      },
      "source": [
        "for key, value in late_interval_dict.items():\n",
        "    approved_clients[f'bad_{key}'] = approved_clients.apply(lambda x: 1 if x['status_int'] >= value else 0, axis = 1) "
      ],
      "execution_count": 64,
      "outputs": []
    },
    {
      "cell_type": "code",
      "metadata": {
        "colab": {
          "base_uri": "https://localhost:8080/",
          "height": 0
        },
        "id": "IckBsv6iCq9I",
        "outputId": "c680576b-34c8-4a3f-83b1-2b69d21e9f82"
      },
      "source": [
        "approved_clients"
      ],
      "execution_count": 65,
      "outputs": [
        {
          "output_type": "execute_result",
          "data": {
            "text/html": [
              "<div>\n",
              "<style scoped>\n",
              "    .dataframe tbody tr th:only-of-type {\n",
              "        vertical-align: middle;\n",
              "    }\n",
              "\n",
              "    .dataframe tbody tr th {\n",
              "        vertical-align: top;\n",
              "    }\n",
              "\n",
              "    .dataframe thead th {\n",
              "        text-align: right;\n",
              "    }\n",
              "</style>\n",
              "<table border=\"1\" class=\"dataframe\">\n",
              "  <thead>\n",
              "    <tr style=\"text-align: right;\">\n",
              "      <th></th>\n",
              "      <th>id</th>\n",
              "      <th>month</th>\n",
              "      <th>status</th>\n",
              "      <th>opening</th>\n",
              "      <th>final</th>\n",
              "      <th>window</th>\n",
              "      <th>mob</th>\n",
              "      <th>status_int</th>\n",
              "      <th>bad</th>\n",
              "      <th>bad_more_than_30_days</th>\n",
              "      <th>bad_more_than_60_days</th>\n",
              "      <th>bad_more_than_90_days</th>\n",
              "      <th>bad_more_than_120_days</th>\n",
              "      <th>bad_more_than_150_days</th>\n",
              "    </tr>\n",
              "  </thead>\n",
              "  <tbody>\n",
              "    <tr>\n",
              "      <th>0</th>\n",
              "      <td>5001711</td>\n",
              "      <td>0</td>\n",
              "      <td>no_loan</td>\n",
              "      <td>-3</td>\n",
              "      <td>0</td>\n",
              "      <td>3</td>\n",
              "      <td>3</td>\n",
              "      <td>0</td>\n",
              "      <td>0</td>\n",
              "      <td>0</td>\n",
              "      <td>0</td>\n",
              "      <td>0</td>\n",
              "      <td>0</td>\n",
              "      <td>0</td>\n",
              "    </tr>\n",
              "    <tr>\n",
              "      <th>1</th>\n",
              "      <td>5001711</td>\n",
              "      <td>-1</td>\n",
              "      <td>1-29days</td>\n",
              "      <td>-3</td>\n",
              "      <td>0</td>\n",
              "      <td>3</td>\n",
              "      <td>2</td>\n",
              "      <td>2</td>\n",
              "      <td>0</td>\n",
              "      <td>0</td>\n",
              "      <td>0</td>\n",
              "      <td>0</td>\n",
              "      <td>0</td>\n",
              "      <td>0</td>\n",
              "    </tr>\n",
              "    <tr>\n",
              "      <th>2</th>\n",
              "      <td>5001711</td>\n",
              "      <td>-2</td>\n",
              "      <td>1-29days</td>\n",
              "      <td>-3</td>\n",
              "      <td>0</td>\n",
              "      <td>3</td>\n",
              "      <td>1</td>\n",
              "      <td>2</td>\n",
              "      <td>0</td>\n",
              "      <td>0</td>\n",
              "      <td>0</td>\n",
              "      <td>0</td>\n",
              "      <td>0</td>\n",
              "      <td>0</td>\n",
              "    </tr>\n",
              "    <tr>\n",
              "      <th>3</th>\n",
              "      <td>5001711</td>\n",
              "      <td>-3</td>\n",
              "      <td>1-29days</td>\n",
              "      <td>-3</td>\n",
              "      <td>0</td>\n",
              "      <td>3</td>\n",
              "      <td>0</td>\n",
              "      <td>2</td>\n",
              "      <td>0</td>\n",
              "      <td>0</td>\n",
              "      <td>0</td>\n",
              "      <td>0</td>\n",
              "      <td>0</td>\n",
              "      <td>0</td>\n",
              "    </tr>\n",
              "    <tr>\n",
              "      <th>4</th>\n",
              "      <td>5001712</td>\n",
              "      <td>0</td>\n",
              "      <td>paid_loan</td>\n",
              "      <td>-18</td>\n",
              "      <td>0</td>\n",
              "      <td>18</td>\n",
              "      <td>18</td>\n",
              "      <td>1</td>\n",
              "      <td>0</td>\n",
              "      <td>0</td>\n",
              "      <td>0</td>\n",
              "      <td>0</td>\n",
              "      <td>0</td>\n",
              "      <td>0</td>\n",
              "    </tr>\n",
              "    <tr>\n",
              "      <th>...</th>\n",
              "      <td>...</td>\n",
              "      <td>...</td>\n",
              "      <td>...</td>\n",
              "      <td>...</td>\n",
              "      <td>...</td>\n",
              "      <td>...</td>\n",
              "      <td>...</td>\n",
              "      <td>...</td>\n",
              "      <td>...</td>\n",
              "      <td>...</td>\n",
              "      <td>...</td>\n",
              "      <td>...</td>\n",
              "      <td>...</td>\n",
              "      <td>...</td>\n",
              "    </tr>\n",
              "    <tr>\n",
              "      <th>1048570</th>\n",
              "      <td>5150487</td>\n",
              "      <td>-25</td>\n",
              "      <td>paid_loan</td>\n",
              "      <td>-29</td>\n",
              "      <td>0</td>\n",
              "      <td>29</td>\n",
              "      <td>4</td>\n",
              "      <td>1</td>\n",
              "      <td>0</td>\n",
              "      <td>0</td>\n",
              "      <td>0</td>\n",
              "      <td>0</td>\n",
              "      <td>0</td>\n",
              "      <td>0</td>\n",
              "    </tr>\n",
              "    <tr>\n",
              "      <th>1048571</th>\n",
              "      <td>5150487</td>\n",
              "      <td>-26</td>\n",
              "      <td>paid_loan</td>\n",
              "      <td>-29</td>\n",
              "      <td>0</td>\n",
              "      <td>29</td>\n",
              "      <td>3</td>\n",
              "      <td>1</td>\n",
              "      <td>0</td>\n",
              "      <td>0</td>\n",
              "      <td>0</td>\n",
              "      <td>0</td>\n",
              "      <td>0</td>\n",
              "      <td>0</td>\n",
              "    </tr>\n",
              "    <tr>\n",
              "      <th>1048572</th>\n",
              "      <td>5150487</td>\n",
              "      <td>-27</td>\n",
              "      <td>paid_loan</td>\n",
              "      <td>-29</td>\n",
              "      <td>0</td>\n",
              "      <td>29</td>\n",
              "      <td>2</td>\n",
              "      <td>1</td>\n",
              "      <td>0</td>\n",
              "      <td>0</td>\n",
              "      <td>0</td>\n",
              "      <td>0</td>\n",
              "      <td>0</td>\n",
              "      <td>0</td>\n",
              "    </tr>\n",
              "    <tr>\n",
              "      <th>1048573</th>\n",
              "      <td>5150487</td>\n",
              "      <td>-28</td>\n",
              "      <td>paid_loan</td>\n",
              "      <td>-29</td>\n",
              "      <td>0</td>\n",
              "      <td>29</td>\n",
              "      <td>1</td>\n",
              "      <td>1</td>\n",
              "      <td>0</td>\n",
              "      <td>0</td>\n",
              "      <td>0</td>\n",
              "      <td>0</td>\n",
              "      <td>0</td>\n",
              "      <td>0</td>\n",
              "    </tr>\n",
              "    <tr>\n",
              "      <th>1048574</th>\n",
              "      <td>5150487</td>\n",
              "      <td>-29</td>\n",
              "      <td>paid_loan</td>\n",
              "      <td>-29</td>\n",
              "      <td>0</td>\n",
              "      <td>29</td>\n",
              "      <td>0</td>\n",
              "      <td>1</td>\n",
              "      <td>0</td>\n",
              "      <td>0</td>\n",
              "      <td>0</td>\n",
              "      <td>0</td>\n",
              "      <td>0</td>\n",
              "      <td>0</td>\n",
              "    </tr>\n",
              "  </tbody>\n",
              "</table>\n",
              "<p>1048575 rows × 14 columns</p>\n",
              "</div>"
            ],
            "text/plain": [
              "              id  month  ... bad_more_than_120_days  bad_more_than_150_days\n",
              "0        5001711      0  ...                      0                       0\n",
              "1        5001711     -1  ...                      0                       0\n",
              "2        5001711     -2  ...                      0                       0\n",
              "3        5001711     -3  ...                      0                       0\n",
              "4        5001712      0  ...                      0                       0\n",
              "...          ...    ...  ...                    ...                     ...\n",
              "1048570  5150487    -25  ...                      0                       0\n",
              "1048571  5150487    -26  ...                      0                       0\n",
              "1048572  5150487    -27  ...                      0                       0\n",
              "1048573  5150487    -28  ...                      0                       0\n",
              "1048574  5150487    -29  ...                      0                       0\n",
              "\n",
              "[1048575 rows x 14 columns]"
            ]
          },
          "metadata": {},
          "execution_count": 65
        }
      ]
    },
    {
      "cell_type": "code",
      "metadata": {
        "colab": {
          "base_uri": "https://localhost:8080/",
          "height": 0
        },
        "id": "dXPX3D9jCrOS",
        "outputId": "53424ca3-f683-46fa-c40d-f313aff158a9"
      },
      "source": [
        "bad_rate_dict = {}\n",
        "id_sum = len(set(approved_clients['id']))\n",
        "\n",
        "for key in late_interval_dict.keys():\n",
        "  min_bad = approved_clients.query(f'bad_{key} == 1').groupby('id')['mob'].min().reset_index()\n",
        "  mob_bad_rate = pd.DataFrame({'mob':range(0,61), 'bad_rate': np.nan})\n",
        "  lst = []\n",
        "  for i in range(0,61):\n",
        "      due = min_bad.query('mob == @i')['id'].to_list()\n",
        "      lst.extend(due)\n",
        "      mob_bad_rate.loc[mob_bad_rate['mob'] == i, 'bad_rate'] = len(set(lst)) / id_sum\n",
        "  bad_rate_dict[key] = mob_bad_rate['bad_rate']\n",
        "\n",
        "bad_rate = pd.DataFrame(bad_rate_dict)\n",
        "bad_rate"
      ],
      "execution_count": 66,
      "outputs": [
        {
          "output_type": "execute_result",
          "data": {
            "text/html": [
              "<div>\n",
              "<style scoped>\n",
              "    .dataframe tbody tr th:only-of-type {\n",
              "        vertical-align: middle;\n",
              "    }\n",
              "\n",
              "    .dataframe tbody tr th {\n",
              "        vertical-align: top;\n",
              "    }\n",
              "\n",
              "    .dataframe thead th {\n",
              "        text-align: right;\n",
              "    }\n",
              "</style>\n",
              "<table border=\"1\" class=\"dataframe\">\n",
              "  <thead>\n",
              "    <tr style=\"text-align: right;\">\n",
              "      <th></th>\n",
              "      <th>more_than_30_days</th>\n",
              "      <th>more_than_60_days</th>\n",
              "      <th>more_than_90_days</th>\n",
              "      <th>more_than_120_days</th>\n",
              "      <th>more_than_150_days</th>\n",
              "    </tr>\n",
              "  </thead>\n",
              "  <tbody>\n",
              "    <tr>\n",
              "      <th>0</th>\n",
              "      <td>0.000304</td>\n",
              "      <td>0.000022</td>\n",
              "      <td>0.000022</td>\n",
              "      <td>0.000022</td>\n",
              "      <td>0.000022</td>\n",
              "    </tr>\n",
              "    <tr>\n",
              "      <th>1</th>\n",
              "      <td>0.011612</td>\n",
              "      <td>0.000174</td>\n",
              "      <td>0.000087</td>\n",
              "      <td>0.000087</td>\n",
              "      <td>0.000087</td>\n",
              "    </tr>\n",
              "    <tr>\n",
              "      <th>2</th>\n",
              "      <td>0.025878</td>\n",
              "      <td>0.001153</td>\n",
              "      <td>0.000196</td>\n",
              "      <td>0.000174</td>\n",
              "      <td>0.000174</td>\n",
              "    </tr>\n",
              "    <tr>\n",
              "      <th>3</th>\n",
              "      <td>0.036860</td>\n",
              "      <td>0.002240</td>\n",
              "      <td>0.000696</td>\n",
              "      <td>0.000304</td>\n",
              "      <td>0.000304</td>\n",
              "    </tr>\n",
              "    <tr>\n",
              "      <th>4</th>\n",
              "      <td>0.047385</td>\n",
              "      <td>0.003392</td>\n",
              "      <td>0.001044</td>\n",
              "      <td>0.000696</td>\n",
              "      <td>0.000348</td>\n",
              "    </tr>\n",
              "    <tr>\n",
              "      <th>...</th>\n",
              "      <td>...</td>\n",
              "      <td>...</td>\n",
              "      <td>...</td>\n",
              "      <td>...</td>\n",
              "      <td>...</td>\n",
              "    </tr>\n",
              "    <tr>\n",
              "      <th>56</th>\n",
              "      <td>0.116321</td>\n",
              "      <td>0.014483</td>\n",
              "      <td>0.007176</td>\n",
              "      <td>0.005263</td>\n",
              "      <td>0.004219</td>\n",
              "    </tr>\n",
              "    <tr>\n",
              "      <th>57</th>\n",
              "      <td>0.116321</td>\n",
              "      <td>0.014483</td>\n",
              "      <td>0.007176</td>\n",
              "      <td>0.005263</td>\n",
              "      <td>0.004219</td>\n",
              "    </tr>\n",
              "    <tr>\n",
              "      <th>58</th>\n",
              "      <td>0.116321</td>\n",
              "      <td>0.014505</td>\n",
              "      <td>0.007198</td>\n",
              "      <td>0.005284</td>\n",
              "      <td>0.004241</td>\n",
              "    </tr>\n",
              "    <tr>\n",
              "      <th>59</th>\n",
              "      <td>0.116321</td>\n",
              "      <td>0.014505</td>\n",
              "      <td>0.007198</td>\n",
              "      <td>0.005284</td>\n",
              "      <td>0.004241</td>\n",
              "    </tr>\n",
              "    <tr>\n",
              "      <th>60</th>\n",
              "      <td>0.116342</td>\n",
              "      <td>0.014505</td>\n",
              "      <td>0.007198</td>\n",
              "      <td>0.005284</td>\n",
              "      <td>0.004241</td>\n",
              "    </tr>\n",
              "  </tbody>\n",
              "</table>\n",
              "<p>61 rows × 5 columns</p>\n",
              "</div>"
            ],
            "text/plain": [
              "    more_than_30_days  ...  more_than_150_days\n",
              "0            0.000304  ...            0.000022\n",
              "1            0.011612  ...            0.000087\n",
              "2            0.025878  ...            0.000174\n",
              "3            0.036860  ...            0.000304\n",
              "4            0.047385  ...            0.000348\n",
              "..                ...  ...                 ...\n",
              "56           0.116321  ...            0.004219\n",
              "57           0.116321  ...            0.004219\n",
              "58           0.116321  ...            0.004241\n",
              "59           0.116321  ...            0.004241\n",
              "60           0.116342  ...            0.004241\n",
              "\n",
              "[61 rows x 5 columns]"
            ]
          },
          "metadata": {},
          "execution_count": 66
        }
      ]
    },
    {
      "cell_type": "code",
      "metadata": {
        "colab": {
          "base_uri": "https://localhost:8080/",
          "height": 0
        },
        "id": "_nRTSwEeEaMB",
        "outputId": "38073a26-8812-44c1-f747-e7e057291a81"
      },
      "source": [
        "bad_rate.plot(grid = True,\n",
        "              title = 'Cumulative Percentage of Bad Clients by Late Window',\n",
        "              figsize = (10, 6))\n",
        "plt.xlabel('Mob')\n",
        "plt.ylabel('Cumulative Percentage of Clients')\n",
        "plt.show()"
      ],
      "execution_count": 67,
      "outputs": [
        {
          "output_type": "display_data",
          "data": {
            "image/png": "[encoded data removed]",
            "text/plain": [
              "<Figure size 720x432 with 1 Axes>"
            ]
          },
          "metadata": {
            "needs_background": "light"
          }
        }
      ]
    },
    {
      "cell_type": "markdown",
      "metadata": {
        "id": "FvH0t5B7Fwud"
      },
      "source": [
        "## Defining the Target Variable"
      ]
    },
    {
      "cell_type": "code",
      "metadata": {
        "colab": {
          "base_uri": "https://localhost:8080/"
        },
        "id": "-5OmcfKoFDEg",
        "outputId": "72cf1e70-57e3-4d9e-cb45-7193b1e58ff8"
      },
      "source": [
        "len(approved_clients.query('window >= 12').groupby('id').count().index)"
      ],
      "execution_count": 68,
      "outputs": [
        {
          "output_type": "execute_result",
          "data": {
            "text/plain": [
              "30918"
            ]
          },
          "metadata": {},
          "execution_count": 68
        }
      ]
    },
    {
      "cell_type": "code",
      "metadata": {
        "colab": {
          "base_uri": "https://localhost:8080/"
        },
        "id": "It49tS5BFNLf",
        "outputId": "92b2e073-af93-4c0d-9f4e-466f321d70bb"
      },
      "source": [
        "approved_clients_treatment1 = approved_clients.query('window >= 12').copy()\n",
        "approved_clients_treatment1.shape"
      ],
      "execution_count": 69,
      "outputs": [
        {
          "output_type": "execute_result",
          "data": {
            "text/plain": [
              "(943061, 14)"
            ]
          },
          "metadata": {},
          "execution_count": 69
        }
      ]
    },
    {
      "cell_type": "code",
      "metadata": {
        "colab": {
          "base_uri": "https://localhost:8080/",
          "height": 0
        },
        "id": "9BRNVKQtFfYT",
        "outputId": "157c631d-cb5e-4e6a-90ca-b549ee15bf2c"
      },
      "source": [
        "def verify(registers):\n",
        "  status_list = registers['status'].to_list()\n",
        "  if '60-89days' in status_list or '90-119days' in status_list or '120-149days' in status_list or '>150days' in status_list:\n",
        "    return 1\n",
        "  else:\n",
        "    return 0\n",
        "  \n",
        "client_records_unique_id = pd.DataFrame(approved_clients_treatment1.groupby('id').apply(verify)).reset_index()\n",
        "client_records_unique_id.columns = ['id', 'bad']\n",
        "client_records_unique_id.head()"
      ],
      "execution_count": 70,
      "outputs": [
        {
          "output_type": "execute_result",
          "data": {
            "text/html": [
              "<div>\n",
              "<style scoped>\n",
              "    .dataframe tbody tr th:only-of-type {\n",
              "        vertical-align: middle;\n",
              "    }\n",
              "\n",
              "    .dataframe tbody tr th {\n",
              "        vertical-align: top;\n",
              "    }\n",
              "\n",
              "    .dataframe thead th {\n",
              "        text-align: right;\n",
              "    }\n",
              "</style>\n",
              "<table border=\"1\" class=\"dataframe\">\n",
              "  <thead>\n",
              "    <tr style=\"text-align: right;\">\n",
              "      <th></th>\n",
              "      <th>id</th>\n",
              "      <th>bad</th>\n",
              "    </tr>\n",
              "  </thead>\n",
              "  <tbody>\n",
              "    <tr>\n",
              "      <th>0</th>\n",
              "      <td>5001712</td>\n",
              "      <td>0</td>\n",
              "    </tr>\n",
              "    <tr>\n",
              "      <th>1</th>\n",
              "      <td>5001713</td>\n",
              "      <td>0</td>\n",
              "    </tr>\n",
              "    <tr>\n",
              "      <th>2</th>\n",
              "      <td>5001714</td>\n",
              "      <td>0</td>\n",
              "    </tr>\n",
              "    <tr>\n",
              "      <th>3</th>\n",
              "      <td>5001715</td>\n",
              "      <td>0</td>\n",
              "    </tr>\n",
              "    <tr>\n",
              "      <th>4</th>\n",
              "      <td>5001717</td>\n",
              "      <td>0</td>\n",
              "    </tr>\n",
              "  </tbody>\n",
              "</table>\n",
              "</div>"
            ],
            "text/plain": [
              "        id  bad\n",
              "0  5001712    0\n",
              "1  5001713    0\n",
              "2  5001714    0\n",
              "3  5001715    0\n",
              "4  5001717    0"
            ]
          },
          "metadata": {},
          "execution_count": 70
        }
      ]
    },
    {
      "cell_type": "code",
      "metadata": {
        "colab": {
          "base_uri": "https://localhost:8080/"
        },
        "id": "iCSvk9zGGoRG",
        "outputId": "24a6055a-a3bd-44ff-b5f7-5acd2d920972"
      },
      "source": [
        "client_records_unique_id.shape"
      ],
      "execution_count": 71,
      "outputs": [
        {
          "output_type": "execute_result",
          "data": {
            "text/plain": [
              "(30918, 2)"
            ]
          },
          "metadata": {},
          "execution_count": 71
        }
      ]
    },
    {
      "cell_type": "code",
      "metadata": {
        "colab": {
          "base_uri": "https://localhost:8080/"
        },
        "id": "jvH90dX2HVLD",
        "outputId": "c5fdb1f4-53d9-4f9a-bdec-f4ca2e2751a0"
      },
      "source": [
        "client_records_treatment1.shape"
      ],
      "execution_count": 72,
      "outputs": [
        {
          "output_type": "execute_result",
          "data": {
            "text/plain": [
              "(425822, 16)"
            ]
          },
          "metadata": {},
          "execution_count": 72
        }
      ]
    },
    {
      "cell_type": "code",
      "metadata": {
        "colab": {
          "base_uri": "https://localhost:8080/",
          "height": 0
        },
        "id": "fozoGPzpHbhh",
        "outputId": "0eb00d58-66e6-4be0-c1bc-c01e26b9ca68"
      },
      "source": [
        "target_client_records = client_records_treatment1.merge(client_records_unique_id, on = 'id')\n",
        "target_client_records.head()"
      ],
      "execution_count": 73,
      "outputs": [
        {
          "output_type": "execute_result",
          "data": {
            "text/html": [
              "<div>\n",
              "<style scoped>\n",
              "    .dataframe tbody tr th:only-of-type {\n",
              "        vertical-align: middle;\n",
              "    }\n",
              "\n",
              "    .dataframe tbody tr th {\n",
              "        vertical-align: top;\n",
              "    }\n",
              "\n",
              "    .dataframe thead th {\n",
              "        text-align: right;\n",
              "    }\n",
              "</style>\n",
              "<table border=\"1\" class=\"dataframe\">\n",
              "  <thead>\n",
              "    <tr style=\"text-align: right;\">\n",
              "      <th></th>\n",
              "      <th>id</th>\n",
              "      <th>own_car</th>\n",
              "      <th>own_property</th>\n",
              "      <th>children_count</th>\n",
              "      <th>annual_income</th>\n",
              "      <th>income_type</th>\n",
              "      <th>education_type</th>\n",
              "      <th>marital_status</th>\n",
              "      <th>housing_type</th>\n",
              "      <th>age</th>\n",
              "      <th>own_workphone</th>\n",
              "      <th>own_phone</th>\n",
              "      <th>own_email</th>\n",
              "      <th>occupation_type</th>\n",
              "      <th>family_size</th>\n",
              "      <th>years_working</th>\n",
              "      <th>bad</th>\n",
              "    </tr>\n",
              "  </thead>\n",
              "  <tbody>\n",
              "    <tr>\n",
              "      <th>0</th>\n",
              "      <td>5008806</td>\n",
              "      <td>1</td>\n",
              "      <td>1</td>\n",
              "      <td>0</td>\n",
              "      <td>112500.0</td>\n",
              "      <td>working</td>\n",
              "      <td>secondary</td>\n",
              "      <td>married</td>\n",
              "      <td>house_apartment</td>\n",
              "      <td>59.0</td>\n",
              "      <td>0</td>\n",
              "      <td>0</td>\n",
              "      <td>0</td>\n",
              "      <td>security</td>\n",
              "      <td>2.0</td>\n",
              "      <td>3.1</td>\n",
              "      <td>0</td>\n",
              "    </tr>\n",
              "    <tr>\n",
              "      <th>1</th>\n",
              "      <td>5008810</td>\n",
              "      <td>0</td>\n",
              "      <td>1</td>\n",
              "      <td>0</td>\n",
              "      <td>270000.0</td>\n",
              "      <td>commercial_associate</td>\n",
              "      <td>secondary</td>\n",
              "      <td>single</td>\n",
              "      <td>house_apartment</td>\n",
              "      <td>52.0</td>\n",
              "      <td>0</td>\n",
              "      <td>1</td>\n",
              "      <td>1</td>\n",
              "      <td>sales</td>\n",
              "      <td>1.0</td>\n",
              "      <td>8.4</td>\n",
              "      <td>0</td>\n",
              "    </tr>\n",
              "    <tr>\n",
              "      <th>2</th>\n",
              "      <td>5008811</td>\n",
              "      <td>0</td>\n",
              "      <td>1</td>\n",
              "      <td>0</td>\n",
              "      <td>270000.0</td>\n",
              "      <td>commercial_associate</td>\n",
              "      <td>secondary</td>\n",
              "      <td>single</td>\n",
              "      <td>house_apartment</td>\n",
              "      <td>52.0</td>\n",
              "      <td>0</td>\n",
              "      <td>1</td>\n",
              "      <td>1</td>\n",
              "      <td>sales</td>\n",
              "      <td>1.0</td>\n",
              "      <td>8.4</td>\n",
              "      <td>0</td>\n",
              "    </tr>\n",
              "    <tr>\n",
              "      <th>3</th>\n",
              "      <td>5008812</td>\n",
              "      <td>0</td>\n",
              "      <td>1</td>\n",
              "      <td>0</td>\n",
              "      <td>283500.0</td>\n",
              "      <td>pensioner</td>\n",
              "      <td>higher_education</td>\n",
              "      <td>separated</td>\n",
              "      <td>house_apartment</td>\n",
              "      <td>62.0</td>\n",
              "      <td>0</td>\n",
              "      <td>0</td>\n",
              "      <td>0</td>\n",
              "      <td>others</td>\n",
              "      <td>1.0</td>\n",
              "      <td>-1.0</td>\n",
              "      <td>0</td>\n",
              "    </tr>\n",
              "    <tr>\n",
              "      <th>4</th>\n",
              "      <td>5008813</td>\n",
              "      <td>0</td>\n",
              "      <td>1</td>\n",
              "      <td>0</td>\n",
              "      <td>283500.0</td>\n",
              "      <td>pensioner</td>\n",
              "      <td>higher_education</td>\n",
              "      <td>separated</td>\n",
              "      <td>house_apartment</td>\n",
              "      <td>62.0</td>\n",
              "      <td>0</td>\n",
              "      <td>0</td>\n",
              "      <td>0</td>\n",
              "      <td>others</td>\n",
              "      <td>1.0</td>\n",
              "      <td>-1.0</td>\n",
              "      <td>0</td>\n",
              "    </tr>\n",
              "  </tbody>\n",
              "</table>\n",
              "</div>"
            ],
            "text/plain": [
              "        id  own_car  own_property  ...  family_size  years_working bad\n",
              "0  5008806        1             1  ...          2.0            3.1   0\n",
              "1  5008810        0             1  ...          1.0            8.4   0\n",
              "2  5008811        0             1  ...          1.0            8.4   0\n",
              "3  5008812        0             1  ...          1.0           -1.0   0\n",
              "4  5008813        0             1  ...          1.0           -1.0   0\n",
              "\n",
              "[5 rows x 17 columns]"
            ]
          },
          "metadata": {},
          "execution_count": 73
        }
      ]
    },
    {
      "cell_type": "code",
      "metadata": {
        "colab": {
          "base_uri": "https://localhost:8080/"
        },
        "id": "q2ZglplFNmGM",
        "outputId": "3a9b6e79-2554-4b62-fe57-1fba8dcd8b25"
      },
      "source": [
        "target_client_records['bad'].value_counts(normalize = True) * 100"
      ],
      "execution_count": 74,
      "outputs": [
        {
          "output_type": "execute_result",
          "data": {
            "text/plain": [
              "0    97.726673\n",
              "1     2.273327\n",
              "Name: bad, dtype: float64"
            ]
          },
          "metadata": {},
          "execution_count": 74
        }
      ]
    },
    {
      "cell_type": "markdown",
      "metadata": {
        "id": "PucMmvHvKENe"
      },
      "source": [
        "We can see that our data is pretty unbalanced."
      ]
    },
    {
      "cell_type": "markdown",
      "metadata": {
        "id": "c30feWaIJ8Xv"
      },
      "source": [
        "# Lesson 04"
      ]
    },
    {
      "cell_type": "code",
      "metadata": {
        "colab": {
          "base_uri": "https://localhost:8080/"
        },
        "id": "WEyZ6dLDN_Sq",
        "outputId": "ad2c8cf5-3d1f-44c2-85a2-062563f65591"
      },
      "source": [
        "!pip install scikit-learn==0.23.2 imbalanced-learn==0.7.0"
      ],
      "execution_count": 75,
      "outputs": [
        {
          "output_type": "stream",
          "name": "stdout",
          "text": [
            "Requirement already satisfied: scikit-learn==0.23.2 in /usr/local/lib/python3.7/dist-packages (0.23.2)\n",
            "Requirement already satisfied: imbalanced-learn==0.7.0 in /usr/local/lib/python3.7/dist-packages (0.7.0)\n",
            "Requirement already satisfied: numpy>=1.13.3 in /usr/local/lib/python3.7/dist-packages (from scikit-learn==0.23.2) (1.19.5)\n",
            "Requirement already satisfied: scipy>=0.19.1 in /usr/local/lib/python3.7/dist-packages (from scikit-learn==0.23.2) (1.4.1)\n",
            "Requirement already satisfied: joblib>=0.11 in /usr/local/lib/python3.7/dist-packages (from scikit-learn==0.23.2) (1.0.1)\n",
            "Requirement already satisfied: threadpoolctl>=2.0.0 in /usr/local/lib/python3.7/dist-packages (from scikit-learn==0.23.2) (2.2.0)\n"
          ]
        }
      ]
    },
    {
      "cell_type": "code",
      "metadata": {
        "id": "s38FQ7umOGgy"
      },
      "source": [
        "import six\n",
        "import sys\n",
        "sys.modules['sklearn.externals.six'] = six"
      ],
      "execution_count": 76,
      "outputs": []
    },
    {
      "cell_type": "code",
      "metadata": {
        "id": "03200EKyJ-X3"
      },
      "source": [
        "binary_columns = ['own_car', 'own_property', 'own_workphone',\n",
        "                  'own_phone', 'own_email']"
      ],
      "execution_count": 77,
      "outputs": []
    },
    {
      "cell_type": "code",
      "metadata": {
        "id": "-9qaZUV0Kg34"
      },
      "source": [
        "non_binary_columns = ['income_type', 'education_type', 'marital_status',\n",
        "                      'housing_type', 'occupation_type']"
      ],
      "execution_count": 78,
      "outputs": []
    },
    {
      "cell_type": "code",
      "metadata": {
        "id": "anXUuTfLLR7D"
      },
      "source": [
        "target_client_records = target_client_records[['id'] + quantitative_variables + binary_columns + non_binary_columns + ['bad']]"
      ],
      "execution_count": 79,
      "outputs": []
    },
    {
      "cell_type": "code",
      "metadata": {
        "colab": {
          "base_uri": "https://localhost:8080/",
          "height": 225
        },
        "id": "ssxw6O_eL9K1",
        "outputId": "81db1ce6-4d54-47cc-87d0-5357a6ea5032"
      },
      "source": [
        "target_client_records.head()"
      ],
      "execution_count": 80,
      "outputs": [
        {
          "output_type": "execute_result",
          "data": {
            "text/html": [
              "<div>\n",
              "<style scoped>\n",
              "    .dataframe tbody tr th:only-of-type {\n",
              "        vertical-align: middle;\n",
              "    }\n",
              "\n",
              "    .dataframe tbody tr th {\n",
              "        vertical-align: top;\n",
              "    }\n",
              "\n",
              "    .dataframe thead th {\n",
              "        text-align: right;\n",
              "    }\n",
              "</style>\n",
              "<table border=\"1\" class=\"dataframe\">\n",
              "  <thead>\n",
              "    <tr style=\"text-align: right;\">\n",
              "      <th></th>\n",
              "      <th>id</th>\n",
              "      <th>age</th>\n",
              "      <th>children_count</th>\n",
              "      <th>annual_income</th>\n",
              "      <th>years_working</th>\n",
              "      <th>family_size</th>\n",
              "      <th>own_car</th>\n",
              "      <th>own_property</th>\n",
              "      <th>own_workphone</th>\n",
              "      <th>own_phone</th>\n",
              "      <th>own_email</th>\n",
              "      <th>income_type</th>\n",
              "      <th>education_type</th>\n",
              "      <th>marital_status</th>\n",
              "      <th>housing_type</th>\n",
              "      <th>occupation_type</th>\n",
              "      <th>bad</th>\n",
              "    </tr>\n",
              "  </thead>\n",
              "  <tbody>\n",
              "    <tr>\n",
              "      <th>0</th>\n",
              "      <td>5008806</td>\n",
              "      <td>59.0</td>\n",
              "      <td>0</td>\n",
              "      <td>112500.0</td>\n",
              "      <td>3.1</td>\n",
              "      <td>2.0</td>\n",
              "      <td>1</td>\n",
              "      <td>1</td>\n",
              "      <td>0</td>\n",
              "      <td>0</td>\n",
              "      <td>0</td>\n",
              "      <td>working</td>\n",
              "      <td>secondary</td>\n",
              "      <td>married</td>\n",
              "      <td>house_apartment</td>\n",
              "      <td>security</td>\n",
              "      <td>0</td>\n",
              "    </tr>\n",
              "    <tr>\n",
              "      <th>1</th>\n",
              "      <td>5008810</td>\n",
              "      <td>52.0</td>\n",
              "      <td>0</td>\n",
              "      <td>270000.0</td>\n",
              "      <td>8.4</td>\n",
              "      <td>1.0</td>\n",
              "      <td>0</td>\n",
              "      <td>1</td>\n",
              "      <td>0</td>\n",
              "      <td>1</td>\n",
              "      <td>1</td>\n",
              "      <td>commercial_associate</td>\n",
              "      <td>secondary</td>\n",
              "      <td>single</td>\n",
              "      <td>house_apartment</td>\n",
              "      <td>sales</td>\n",
              "      <td>0</td>\n",
              "    </tr>\n",
              "    <tr>\n",
              "      <th>2</th>\n",
              "      <td>5008811</td>\n",
              "      <td>52.0</td>\n",
              "      <td>0</td>\n",
              "      <td>270000.0</td>\n",
              "      <td>8.4</td>\n",
              "      <td>1.0</td>\n",
              "      <td>0</td>\n",
              "      <td>1</td>\n",
              "      <td>0</td>\n",
              "      <td>1</td>\n",
              "      <td>1</td>\n",
              "      <td>commercial_associate</td>\n",
              "      <td>secondary</td>\n",
              "      <td>single</td>\n",
              "      <td>house_apartment</td>\n",
              "      <td>sales</td>\n",
              "      <td>0</td>\n",
              "    </tr>\n",
              "    <tr>\n",
              "      <th>3</th>\n",
              "      <td>5008812</td>\n",
              "      <td>62.0</td>\n",
              "      <td>0</td>\n",
              "      <td>283500.0</td>\n",
              "      <td>-1.0</td>\n",
              "      <td>1.0</td>\n",
              "      <td>0</td>\n",
              "      <td>1</td>\n",
              "      <td>0</td>\n",
              "      <td>0</td>\n",
              "      <td>0</td>\n",
              "      <td>pensioner</td>\n",
              "      <td>higher_education</td>\n",
              "      <td>separated</td>\n",
              "      <td>house_apartment</td>\n",
              "      <td>others</td>\n",
              "      <td>0</td>\n",
              "    </tr>\n",
              "    <tr>\n",
              "      <th>4</th>\n",
              "      <td>5008813</td>\n",
              "      <td>62.0</td>\n",
              "      <td>0</td>\n",
              "      <td>283500.0</td>\n",
              "      <td>-1.0</td>\n",
              "      <td>1.0</td>\n",
              "      <td>0</td>\n",
              "      <td>1</td>\n",
              "      <td>0</td>\n",
              "      <td>0</td>\n",
              "      <td>0</td>\n",
              "      <td>pensioner</td>\n",
              "      <td>higher_education</td>\n",
              "      <td>separated</td>\n",
              "      <td>house_apartment</td>\n",
              "      <td>others</td>\n",
              "      <td>0</td>\n",
              "    </tr>\n",
              "  </tbody>\n",
              "</table>\n",
              "</div>"
            ],
            "text/plain": [
              "        id   age  children_count  ...     housing_type  occupation_type  bad\n",
              "0  5008806  59.0               0  ...  house_apartment         security    0\n",
              "1  5008810  52.0               0  ...  house_apartment            sales    0\n",
              "2  5008811  52.0               0  ...  house_apartment            sales    0\n",
              "3  5008812  62.0               0  ...  house_apartment           others    0\n",
              "4  5008813  62.0               0  ...  house_apartment           others    0\n",
              "\n",
              "[5 rows x 17 columns]"
            ]
          },
          "metadata": {},
          "execution_count": 80
        }
      ]
    },
    {
      "cell_type": "code",
      "metadata": {
        "id": "ckGH4n09L-U0"
      },
      "source": [
        "SEED = 1561651\n",
        "\n",
        "def run_model(model, data):\n",
        "\n",
        "    X = data.drop(['id', 'bad'], axis=1)\n",
        "    y = data.drop('id', axis = 1)['bad']\n",
        "    \n",
        "    X_train, X_test, y_train, y_test = train_test_split(X, y, stratify = y, random_state = SEED)\n",
        "\n",
        "    model.fit(X_train, y_train)\n",
        "\n",
        "    prob_predic = model.predict_proba(X_test)\n",
        "    auc = roc_auc_score(y_test, prob_predic[:,1])\n",
        "    print(f'AUC score: {auc}')\n",
        "    \n",
        "    good_data = np.sort(model.predict_proba(X_test)[:, 1])\n",
        "    bad_data = np.sort(model.predict_proba(X_test)[:, 0])\n",
        "    kstest = stats.ks_2samp(good_data, bad_data)\n",
        "    print(f\"KS: {kstest}\")\n",
        "\n",
        "    CM = plot_confusion_matrix(model,\n",
        "                               X_test,\n",
        "                               y_test,\n",
        "                               values_format = '.0f',\n",
        "                               display_labels = ['Good', 'Bad'])\n",
        "    plt.grid(False)    \n",
        "    plt.show(CM)\n",
        "\n",
        "    prediction = model.predict(X_test)\n",
        "    print('\\nClassification Report')\n",
        "    print(classification_report(y_test, prediction, zero_division = 0))"
      ],
      "execution_count": 81,
      "outputs": []
    },
    {
      "cell_type": "code",
      "metadata": {
        "id": "8OTMB-kYNb-Q"
      },
      "source": [
        "class Transformer(BaseEstimator, TransformerMixin):\n",
        "    def __init__(self, quantitative_variables, categorical_variables):\n",
        "        self.quantitative_variables = quantitative_variables\n",
        "        self.categorical_variables = categorical_variables\n",
        "        self.encoder = OneHotEncoder()\n",
        "        self.scaler = MinMaxScaler()\n",
        "\n",
        "    def fit(self, X, y = None):\n",
        "        self.encoder.fit(X[self.categorical_variables])\n",
        "        self.scaler.fit(X[self.quantitative_variables])\n",
        "        return self \n",
        "\n",
        "    def transform(self, X, y = None):\n",
        "      X_categorical = pd.DataFrame(data = self.encoder.transform(X[self.categorical_variables]).toarray(),\n",
        "                                  columns = self.encoder.get_feature_names(self.categorical_variables))\n",
        "      \n",
        "      X_quantitative = pd.DataFrame(data = self.scaler.transform(X[self.quantitative_variables]),\n",
        "                                  columns = self.quantitative_variables)\n",
        "      \n",
        "      X = pd.concat([X_quantitative, X_categorical], axis = 1)\n",
        "\n",
        "      return X"
      ],
      "execution_count": 82,
      "outputs": []
    },
    {
      "cell_type": "markdown",
      "metadata": {
        "id": "5tD7gidDRrtQ"
      },
      "source": [
        "## Dummy Classifier"
      ]
    },
    {
      "cell_type": "code",
      "metadata": {
        "colab": {
          "base_uri": "https://localhost:8080/",
          "height": 521
        },
        "id": "FtREF8tpPXVy",
        "outputId": "5a1a1b71-3abf-4431-cb16-c6c9bce237d9"
      },
      "source": [
        "pipeline = Pipeline([('Transformer', Transformer(quantitative_variables, categorical_variables)),\n",
        "                     ('Model', DummyClassifier(strategy = 'prior'))])   \n",
        "run_model(pipeline, target_client_records)"
      ],
      "execution_count": 83,
      "outputs": [
        {
          "output_type": "stream",
          "name": "stdout",
          "text": [
            "AUC score: 0.5\n",
            "KS: Ks_2sampResult(statistic=1.0, pvalue=0.0)\n"
          ]
        },
        {
          "output_type": "display_data",
          "data": {
            "image/png": "[encoded data removed]",
            "text/plain": [
              "<Figure size 432x288 with 2 Axes>"
            ]
          },
          "metadata": {
            "needs_background": "light"
          }
        },
        {
          "output_type": "stream",
          "name": "stdout",
          "text": [
            "\n",
            "Classification Report\n",
            "              precision    recall  f1-score   support\n",
            "\n",
            "           0       0.98      1.00      0.99      5557\n",
            "           1       0.00      0.00      0.00       129\n",
            "\n",
            "    accuracy                           0.98      5686\n",
            "   macro avg       0.49      0.50      0.49      5686\n",
            "weighted avg       0.96      0.98      0.97      5686\n",
            "\n"
          ]
        }
      ]
    },
    {
      "cell_type": "markdown",
      "metadata": {
        "id": "j5ORyLoRR5dD"
      },
      "source": [
        "## Logistic Regression"
      ]
    },
    {
      "cell_type": "code",
      "metadata": {
        "colab": {
          "base_uri": "https://localhost:8080/",
          "height": 521
        },
        "id": "no5-JEZfQWhh",
        "outputId": "ed708e58-6131-412f-c768-0d2c48a81086"
      },
      "source": [
        "pipeline = Pipeline([('Transformer', Transformer(quantitative_variables, categorical_variables)),\n",
        "                     ('Model', LogisticRegression(random_state = SEED, max_iter = 1000))])   \n",
        "run_model(pipeline, target_client_records)"
      ],
      "execution_count": 84,
      "outputs": [
        {
          "output_type": "stream",
          "name": "stdout",
          "text": [
            "AUC score: 0.5847293657137516\n",
            "KS: Ks_2sampResult(statistic=1.0, pvalue=0.0)\n"
          ]
        },
        {
          "output_type": "display_data",
          "data": {
            "image/png": "[encoded data removed]",
            "text/plain": [
              "<Figure size 432x288 with 2 Axes>"
            ]
          },
          "metadata": {
            "needs_background": "light"
          }
        },
        {
          "output_type": "stream",
          "name": "stdout",
          "text": [
            "\n",
            "Classification Report\n",
            "              precision    recall  f1-score   support\n",
            "\n",
            "           0       0.98      1.00      0.99      5557\n",
            "           1       0.00      0.00      0.00       129\n",
            "\n",
            "    accuracy                           0.98      5686\n",
            "   macro avg       0.49      0.50      0.49      5686\n",
            "weighted avg       0.96      0.98      0.97      5686\n",
            "\n"
          ]
        }
      ]
    },
    {
      "cell_type": "markdown",
      "metadata": {
        "id": "Fp7z1GZcSUQD"
      },
      "source": [
        "## Oversampling and Undersampling"
      ]
    },
    {
      "cell_type": "code",
      "metadata": {
        "colab": {
          "base_uri": "https://localhost:8080/",
          "height": 521
        },
        "id": "f8kE00I_R_gi",
        "outputId": "863668e0-dc29-4582-f20a-a4998be1e371"
      },
      "source": [
        "pipeline = Pipeline([('Transformer', Transformer(quantitative_variables, categorical_variables)),\n",
        "                     ('Sampling', SMOTE(random_state = SEED)),\n",
        "                     ('Model', LogisticRegression(random_state = SEED, max_iter = 1000))])   \n",
        "run_model(pipeline, target_client_records)"
      ],
      "execution_count": 85,
      "outputs": [
        {
          "output_type": "stream",
          "name": "stdout",
          "text": [
            "AUC score: 0.5815990168137679\n",
            "KS: Ks_2sampResult(statistic=0.1290889905029898, pvalue=1.09559025330554e-41)\n"
          ]
        },
        {
          "output_type": "display_data",
          "data": {
            "image/png": "[encoded data removed]",
            "text/plain": [
              "<Figure size 432x288 with 2 Axes>"
            ]
          },
          "metadata": {
            "needs_background": "light"
          }
        },
        {
          "output_type": "stream",
          "name": "stdout",
          "text": [
            "\n",
            "Classification Report\n",
            "              precision    recall  f1-score   support\n",
            "\n",
            "           0       0.98      0.55      0.70      5557\n",
            "           1       0.03      0.58      0.06       129\n",
            "\n",
            "    accuracy                           0.55      5686\n",
            "   macro avg       0.51      0.56      0.38      5686\n",
            "weighted avg       0.96      0.55      0.69      5686\n",
            "\n"
          ]
        }
      ]
    },
    {
      "cell_type": "code",
      "metadata": {
        "colab": {
          "base_uri": "https://localhost:8080/",
          "height": 521
        },
        "id": "NJW09TpVTaix",
        "outputId": "77c90b90-8b41-4b5e-ce40-0a81867c12e9"
      },
      "source": [
        "pipeline = Pipeline([('Transformer', Transformer(quantitative_variables, categorical_variables)),\n",
        "                     ('Model', RandomForestClassifier(random_state = SEED))])   \n",
        "run_model(pipeline, target_client_records)"
      ],
      "execution_count": 89,
      "outputs": [
        {
          "output_type": "stream",
          "name": "stdout",
          "text": [
            "AUC score: 0.8130676721726771\n",
            "KS: Ks_2sampResult(statistic=0.979071403447063, pvalue=0.0)\n"
          ]
        },
        {
          "output_type": "display_data",
          "data": {
            "image/png": "[encoded data removed]",
            "text/plain": [
              "<Figure size 432x288 with 2 Axes>"
            ]
          },
          "metadata": {}
        },
        {
          "output_type": "stream",
          "name": "stdout",
          "text": [
            "\n",
            "Classification Report\n",
            "              precision    recall  f1-score   support\n",
            "\n",
            "           0       0.98      0.99      0.99      5557\n",
            "           1       0.52      0.24      0.33       129\n",
            "\n",
            "    accuracy                           0.98      5686\n",
            "   macro avg       0.75      0.62      0.66      5686\n",
            "weighted avg       0.97      0.98      0.97      5686\n",
            "\n"
          ]
        }
      ]
    },
    {
      "cell_type": "code",
      "metadata": {
        "colab": {
          "base_uri": "https://localhost:8080/",
          "height": 521
        },
        "id": "19DO6zAKTQgH",
        "outputId": "cf69ee2a-3363-4c33-abd6-60558ec3f287"
      },
      "source": [
        "pipeline = Pipeline([('Transformer', Transformer(quantitative_variables, categorical_variables)),\n",
        "                     ('Sampling', SMOTE(random_state = SEED)),\n",
        "                     ('Model', RandomForestClassifier(random_state = SEED))])   \n",
        "run_model(pipeline, target_client_records)"
      ],
      "execution_count": 88,
      "outputs": [
        {
          "output_type": "stream",
          "name": "stdout",
          "text": [
            "AUC score: 0.8419941047885691\n",
            "KS: Ks_2sampResult(statistic=0.9651776292648611, pvalue=0.0)\n"
          ]
        },
        {
          "output_type": "display_data",
          "data": {
            "image/png": "[encoded data removed]",
            "text/plain": [
              "<Figure size 432x288 with 2 Axes>"
            ]
          },
          "metadata": {}
        },
        {
          "output_type": "stream",
          "name": "stdout",
          "text": [
            "\n",
            "Classification Report\n",
            "              precision    recall  f1-score   support\n",
            "\n",
            "           0       0.99      0.99      0.99      5557\n",
            "           1       0.47      0.36      0.41       129\n",
            "\n",
            "    accuracy                           0.98      5686\n",
            "   macro avg       0.73      0.68      0.70      5686\n",
            "weighted avg       0.97      0.98      0.97      5686\n",
            "\n"
          ]
        }
      ]
    }
  ]
}