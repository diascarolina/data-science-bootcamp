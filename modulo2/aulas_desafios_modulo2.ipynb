{
 "cells": [
  {
   "cell_type": "markdown",
   "metadata": {},
   "source": [
    "# Bootcamp Data Science Aplicada - Alura"
   ]
  },
  {
   "cell_type": "markdown",
   "metadata": {},
   "source": [
    "# Módulo 02 - Visualização de Dados com Seaborn e Matplotlib"
   ]
  },
  {
   "cell_type": "markdown",
   "metadata": {},
   "source": [
    "**Obs.** Notabook para o acompanhamento das aulas e resolução dos desafios propostos. Caso necessário, dividirei em mais de um notebook."
   ]
  },
  {
   "cell_type": "markdown",
   "metadata": {},
   "source": [
    "## Aula 01 - Fontes Externas, Limpeza e Manipulação de Dados"
   ]
  },
  {
   "cell_type": "markdown",
   "metadata": {},
   "source": [
    "Iniciou-se revisando o notebook do módulo anterior e comparando o valor \"bruto\" com o valor absoluto de gastos."
   ]
  },
  {
   "cell_type": "code",
   "execution_count": 1,
   "metadata": {},
   "outputs": [],
   "source": [
    "import pandas as pd\n",
    "import numpy as np\n",
    "import matplotlib.pyplot as plt\n",
    "import matplotlib.ticker as ticker\n",
    "from io import StringIO\n",
    "\n",
    "# bibliotecas utilizadas na parte de web scraping\n",
    "import requests\n",
    "from bs4 import BeautifulSoup\n",
    "\n",
    "# fomatação dos números para duas casas decimais\n",
    "pd.options.display.float_format = \"{:.2f}\".format"
   ]
  },
  {
   "cell_type": "markdown",
   "metadata": {},
   "source": [
    "### Resumo dos dataframes usados no módulo passado, para caso algum seja reutilizado nesse módulo 2"
   ]
  },
  {
   "cell_type": "code",
   "execution_count": 2,
   "metadata": {},
   "outputs": [],
   "source": [
    "dados = pd.read_csv(\"https://raw.githubusercontent.com/alura-cursos/agendamento-hospitalar/main/dados/A160324189_28_143_208.csv\",\n",
    "                    encoding = 'ISO-8859-1', skiprows = 3, sep = ';',\n",
    "                    skipfooter = 12, thousands = '.', decimal = ',', engine = 'python')"
   ]
  },
  {
   "cell_type": "code",
   "execution_count": 3,
   "metadata": {},
   "outputs": [],
   "source": [
    "colunas_usaveis = dados.mean().index.tolist()\n",
    "colunas_usaveis.insert(0, \"Unidade da Federação\")\n",
    "usaveis = dados[colunas_usaveis]\n",
    "usaveis = usaveis.set_index(\"Unidade da Federação\")\n",
    "usaveis = usaveis.drop(\"Total\", axis = 1)\n",
    "usaveis[\"Total\"] = usaveis.sum(axis = 1)\n",
    "ordenado_por_total = usaveis.sort_values(\"Total\", ascending = False)\n",
    "ordenado_por_total = ordenado_por_total.drop(\"Total\", axis = 1)\n",
    "ordenado_por_total = ordenado_por_total / 1000000\n",
    "meses_filtrados = ordenado_por_total.columns[47:150]\n",
    "mes_mais_recente = ordenado_por_total.columns[-1]\n",
    "gastos_do_mais_recente = ordenado_por_total[mes_mais_recente]\n",
    "gastos_do_mais_recente = gastos_do_mais_recente.sort_values(ascending = False)\n",
    "gastos_proporcionais = gastos_do_mais_recente / gastos_do_mais_recente.sum()"
   ]
  },
  {
   "cell_type": "markdown",
   "metadata": {},
   "source": [
    "### Aulas 01 & 02"
   ]
  },
  {
   "cell_type": "code",
   "execution_count": 4,
   "metadata": {},
   "outputs": [
    {
     "data": {
      "text/html": [
       "<div>\n",
       "<style scoped>\n",
       "    .dataframe tbody tr th:only-of-type {\n",
       "        vertical-align: middle;\n",
       "    }\n",
       "\n",
       "    .dataframe tbody tr th {\n",
       "        vertical-align: top;\n",
       "    }\n",
       "\n",
       "    .dataframe thead th {\n",
       "        text-align: right;\n",
       "    }\n",
       "</style>\n",
       "<table border=\"1\" class=\"dataframe\">\n",
       "  <thead>\n",
       "    <tr style=\"text-align: right;\">\n",
       "      <th></th>\n",
       "      <th>ESTIMATIVAS DA POPULAÇÃO RESIDENTE NO BRASIL E UNIDADES DA FEDERAÇÃO COM DATA DE REFERÊNCIA EM 1º DE JULHO DE 2020</th>\n",
       "      <th>Unnamed: 1</th>\n",
       "      <th>Unnamed: 2</th>\n",
       "    </tr>\n",
       "  </thead>\n",
       "  <tbody>\n",
       "    <tr>\n",
       "      <th>0</th>\n",
       "      <td>BRASIL E UNIDADES DA FEDERAÇÃO</td>\n",
       "      <td>NaN</td>\n",
       "      <td>POPULAÇÃO ESTIMADA</td>\n",
       "    </tr>\n",
       "    <tr>\n",
       "      <th>1</th>\n",
       "      <td>Brasil</td>\n",
       "      <td>NaN</td>\n",
       "      <td>211755692</td>\n",
       "    </tr>\n",
       "    <tr>\n",
       "      <th>2</th>\n",
       "      <td>Região Norte</td>\n",
       "      <td>NaN</td>\n",
       "      <td>18672591</td>\n",
       "    </tr>\n",
       "    <tr>\n",
       "      <th>3</th>\n",
       "      <td>Rondônia</td>\n",
       "      <td>NaN</td>\n",
       "      <td>1796460</td>\n",
       "    </tr>\n",
       "    <tr>\n",
       "      <th>4</th>\n",
       "      <td>Acre</td>\n",
       "      <td>NaN</td>\n",
       "      <td>894470</td>\n",
       "    </tr>\n",
       "  </tbody>\n",
       "</table>\n",
       "</div>"
      ],
      "text/plain": [
       "  ESTIMATIVAS DA POPULAÇÃO RESIDENTE NO BRASIL E UNIDADES DA FEDERAÇÃO COM DATA DE REFERÊNCIA EM 1º DE JULHO DE 2020  \\\n",
       "0                     BRASIL E UNIDADES DA FEDERAÇÃO                                                                   \n",
       "1                                             Brasil                                                                   \n",
       "2                                       Região Norte                                                                   \n",
       "3                                           Rondônia                                                                   \n",
       "4                                               Acre                                                                   \n",
       "\n",
       "   Unnamed: 1          Unnamed: 2  \n",
       "0         NaN  POPULAÇÃO ESTIMADA  \n",
       "1         NaN           211755692  \n",
       "2         NaN            18672591  \n",
       "3         NaN             1796460  \n",
       "4         NaN              894470  "
      ]
     },
     "execution_count": 4,
     "metadata": {},
     "output_type": "execute_result"
    }
   ],
   "source": [
    "ibge_estimativa = pd.read_excel(\"https://github.com/alura-cursos/agendamento-hospitalar/raw/main/dados/estimativa_dou_2020.xls\")\n",
    "ibge_estimativa.head()"
   ]
  },
  {
   "cell_type": "code",
   "execution_count": 5,
   "metadata": {},
   "outputs": [],
   "source": [
    "dados_da_populacao = \"\"\"Posição\tUnidade federativa\tPopulação\t% da pop. total\tPaís comparável\n",
    "(habitantes)\n",
    "\n",
    "1\t São Paulo\t46 289 333\t21,9%\tFlag of Spain.svg Espanha (46 439 864)\n",
    "2\t Minas Gerais\t21 292 666\t10,1%\t Sri Lanka (20 675 000)\n",
    "3\t Rio de Janeiro\t17 366 189\t8,2%\t Países Baixos (16 922 900)\n",
    "4\tBahia Bahia\t14 930 634\t7,1%\t Chade (14 037 000)\n",
    "5\t Paraná\t11 516 840\t5,4%\t Bolívia (11 410 651)\n",
    "6\t Rio Grande do Sul\t11 422 973\t5,4%\t Bélgica (11 250 659)\n",
    "7\t Pernambuco\t9 616 621\t4,5%\t Bielorrússia (9 485 300)\n",
    "8\t Ceará\t9 187 103\t4,3%\t Emirados Árabes Unidos (9 157 000)\n",
    "9\tPará Pará\t8 690 745\t4,1%\t Áustria (8 602 112)\n",
    "10\t Santa Catarina\t7 252 502\t3,4%\t Sérvia (7 114 393)\n",
    "11\t Maranhão\t7 114 598\t3,4%\t Paraguai (7 003 406)\n",
    "12\t Goiás\t7 113 540\t3,4%\t Paraguai (7 003 406)\n",
    "13\t Amazonas\t4 207 714\t2,0%\t Líbano (4 168 000)\n",
    "14\t Espírito Santo\t4 064 052\t1,9%\t Líbano (4 168 000)\n",
    "15\t Paraíba\t4 039 277\t1,9%\t Líbano (4 168 000)\n",
    "16\t Rio Grande do Norte\t3 534 165\t1,7%\t Uruguai (3 415 866)\n",
    "17\t Mato Grosso\t3 526 220\t1,7%\t Uruguai (3 415 866)\n",
    "18\t Alagoas\t3 351 543\t1,6%\t Uruguai (3 415 866)\n",
    "19\t Piauí\t3 281 480\t1,6%\t Kuwait (3 268 431)\n",
    "20\t Distrito Federal\t3 055 149\t1,4%\t Lituânia (2 900 787)\n",
    "21\t Mato Grosso do Sul\t2 809 394\t1,3%\t Jamaica (2 717 991)\n",
    "22\t Sergipe\t2 318 822\t1,1%\t Namíbia (2 280 700)\n",
    "23\t Rondônia\t1 796 460\t0,8%\t Gabão (1 725 000)\n",
    "24\t Tocantins\t1 590 248\t0,7%\t Bahrein (1 359 800)\n",
    "25\t Acre\t894 470\t0,4%\t Fiji (859 178)\n",
    "26\t Amapá\t861 773\t0,4%\t Fiji (859 178)\n",
    "27\t Roraima\t631 181\t0,3%\t Luxemburgo (562 958)\"\"\"\n",
    "\n",
    "# fonte: https://pt.wikipedia.org/wiki/Lista_de_unidades_federativas_do_Brasil_por_popula%C3%A7%C3%A3o"
   ]
  },
  {
   "cell_type": "markdown",
   "metadata": {},
   "source": [
    "- Um referência interessante sobre **StringIO**: [Manipulando Strings Como Se Fossem Arquivos](https://pythonhelp.wordpress.com/2014/06/19/manipulando-strings-como-se-fossem-arquivos-stringio/)"
   ]
  },
  {
   "cell_type": "code",
   "execution_count": 6,
   "metadata": {},
   "outputs": [
    {
     "data": {
      "text/html": [
       "<div>\n",
       "<style scoped>\n",
       "    .dataframe tbody tr th:only-of-type {\n",
       "        vertical-align: middle;\n",
       "    }\n",
       "\n",
       "    .dataframe tbody tr th {\n",
       "        vertical-align: top;\n",
       "    }\n",
       "\n",
       "    .dataframe thead th {\n",
       "        text-align: right;\n",
       "    }\n",
       "</style>\n",
       "<table border=\"1\" class=\"dataframe\">\n",
       "  <thead>\n",
       "    <tr style=\"text-align: right;\">\n",
       "      <th></th>\n",
       "      <th>populacao</th>\n",
       "    </tr>\n",
       "    <tr>\n",
       "      <th>uf</th>\n",
       "      <th></th>\n",
       "    </tr>\n",
       "  </thead>\n",
       "  <tbody>\n",
       "    <tr>\n",
       "      <th>São Paulo</th>\n",
       "      <td>46289333</td>\n",
       "    </tr>\n",
       "    <tr>\n",
       "      <th>Minas Gerais</th>\n",
       "      <td>21292666</td>\n",
       "    </tr>\n",
       "    <tr>\n",
       "      <th>Rio de Janeiro</th>\n",
       "      <td>17366189</td>\n",
       "    </tr>\n",
       "    <tr>\n",
       "      <th>Bahia Bahia</th>\n",
       "      <td>14930634</td>\n",
       "    </tr>\n",
       "    <tr>\n",
       "      <th>Paraná</th>\n",
       "      <td>11516840</td>\n",
       "    </tr>\n",
       "  </tbody>\n",
       "</table>\n",
       "</div>"
      ],
      "text/plain": [
       "                 populacao\n",
       "uf                        \n",
       " São Paulo        46289333\n",
       " Minas Gerais     21292666\n",
       " Rio de Janeiro   17366189\n",
       "Bahia Bahia       14930634\n",
       " Paraná           11516840"
      ]
     },
     "metadata": {},
     "output_type": "display_data"
    },
    {
     "name": "stdout",
     "output_type": "stream",
     "text": [
      "<class 'pandas.core.frame.DataFrame'>\n",
      "Index: 27 entries,  São Paulo to  Roraima\n",
      "Data columns (total 1 columns):\n",
      " #   Column     Non-Null Count  Dtype\n",
      "---  ------     --------------  -----\n",
      " 0   populacao  27 non-null     int64\n",
      "dtypes: int64(1)\n",
      "memory usage: 432.0+ bytes\n"
     ]
    },
    {
     "data": {
      "text/plain": [
       "None"
      ]
     },
     "metadata": {},
     "output_type": "display_data"
    }
   ],
   "source": [
    "# converte a string para stringIO\n",
    "dados_da_populacao_io = StringIO(dados_da_populacao)\n",
    "\n",
    "# lê os dados que colamos acima em um pandas dataframe\n",
    "populacao = pd.read_csv(dados_da_populacao_io, sep=\"\\t\")\n",
    "\n",
    "# dropar os valores NaN\n",
    "populacao = populacao.dropna()\n",
    "\n",
    "# remove os espaços nos números\n",
    "populacao[\"populacao\"] = populacao[\"População\"].str.replace(\" \", \"\").astype(int)\n",
    "\n",
    "# muda o nome da coluna\n",
    "populacao[\"uf\"] = populacao[\"Unidade federativa\"]\n",
    "\n",
    "# coloca a uf como índice\n",
    "populacao = populacao[[\"populacao\", \"uf\"]].set_index(\"uf\")\n",
    "\n",
    "\n",
    "display(populacao.head())\n",
    "display(populacao.info())"
   ]
  },
  {
   "cell_type": "code",
   "execution_count": 7,
   "metadata": {},
   "outputs": [],
   "source": [
    "gastos_do_mais_recente.index = gastos_do_mais_recente.index.str[3:]"
   ]
  },
  {
   "cell_type": "code",
   "execution_count": 8,
   "metadata": {},
   "outputs": [],
   "source": [
    "populacao.index = populacao.index.str.strip()"
   ]
  },
  {
   "cell_type": "code",
   "execution_count": 9,
   "metadata": {},
   "outputs": [
    {
     "data": {
      "text/plain": [
       "Index(['São Paulo', 'Minas Gerais', 'Rio de Janeiro', 'Bahia', 'Paraná',\n",
       "       'Rio Grande do Sul', 'Pernambuco', 'Ceará', 'Pará', 'Santa Catarina',\n",
       "       'Maranhão', 'Goiás', 'Amazonas', 'Espírito Santo', 'Paraíba',\n",
       "       'Rio Grande do Norte', 'Mato Grosso', 'Alagoas', 'Piauí',\n",
       "       'Distrito Federal', 'Mato Grosso do Sul', 'Sergipe', 'Rondônia',\n",
       "       'Tocantins', 'Acre', 'Amapá', 'Roraima'],\n",
       "      dtype='object', name='uf')"
      ]
     },
     "execution_count": 9,
     "metadata": {},
     "output_type": "execute_result"
    }
   ],
   "source": [
    "for estado in gastos_do_mais_recente.index:\n",
    "  # print(f\"{estado} {estado} => {estado}\")\n",
    "  populacao.index = populacao.index.str.replace(f\"{estado} {estado}\", estado)\n",
    "populacao.index"
   ]
  },
  {
   "cell_type": "code",
   "execution_count": 10,
   "metadata": {},
   "outputs": [
    {
     "data": {
      "text/html": [
       "<div>\n",
       "<style scoped>\n",
       "    .dataframe tbody tr th:only-of-type {\n",
       "        vertical-align: middle;\n",
       "    }\n",
       "\n",
       "    .dataframe tbody tr th {\n",
       "        vertical-align: top;\n",
       "    }\n",
       "\n",
       "    .dataframe thead th {\n",
       "        text-align: right;\n",
       "    }\n",
       "</style>\n",
       "<table border=\"1\" class=\"dataframe\">\n",
       "  <thead>\n",
       "    <tr style=\"text-align: right;\">\n",
       "      <th></th>\n",
       "      <th>populacao</th>\n",
       "      <th>2020/Jul</th>\n",
       "    </tr>\n",
       "    <tr>\n",
       "      <th>uf</th>\n",
       "      <th></th>\n",
       "      <th></th>\n",
       "    </tr>\n",
       "  </thead>\n",
       "  <tbody>\n",
       "    <tr>\n",
       "      <th>São Paulo</th>\n",
       "      <td>46289333</td>\n",
       "      <td>282.71</td>\n",
       "    </tr>\n",
       "    <tr>\n",
       "      <th>Minas Gerais</th>\n",
       "      <td>21292666</td>\n",
       "      <td>120.47</td>\n",
       "    </tr>\n",
       "    <tr>\n",
       "      <th>Rio de Janeiro</th>\n",
       "      <td>17366189</td>\n",
       "      <td>71.54</td>\n",
       "    </tr>\n",
       "    <tr>\n",
       "      <th>Bahia</th>\n",
       "      <td>14930634</td>\n",
       "      <td>58.90</td>\n",
       "    </tr>\n",
       "    <tr>\n",
       "      <th>Paraná</th>\n",
       "      <td>11516840</td>\n",
       "      <td>80.32</td>\n",
       "    </tr>\n",
       "  </tbody>\n",
       "</table>\n",
       "</div>"
      ],
      "text/plain": [
       "                populacao  2020/Jul\n",
       "uf                                 \n",
       "São Paulo        46289333    282.71\n",
       "Minas Gerais     21292666    120.47\n",
       "Rio de Janeiro   17366189     71.54\n",
       "Bahia            14930634     58.90\n",
       "Paraná           11516840     80.32"
      ]
     },
     "execution_count": 10,
     "metadata": {},
     "output_type": "execute_result"
    }
   ],
   "source": [
    "gastos_e_populacao_recente = populacao.join(gastos_do_mais_recente)\n",
    "gastos_e_populacao_recente.head()"
   ]
  },
  {
   "cell_type": "markdown",
   "metadata": {},
   "source": [
    "### Desafio 01 - Entre nos dados da Wikipédia e leia a base de dados direto da Wikipédia."
   ]
  },
  {
   "cell_type": "markdown",
   "metadata": {},
   "source": [
    "Para resolver esse desafio precisamos usar da técnica de **_web scraping_**.\n",
    "\n",
    "- Link para obtenção dos dados: https://pt.wikipedia.org/wiki/Lista_de_unidades_federativas_do_Brasil_por_popula%C3%A7%C3%A3o\n",
    "\n",
    "- [Web Scraping a Wikipedia Table into a Dataframe](https://medium.com/analytics-vidhya/web-scraping-a-wikipedia-table-into-a-dataframe-c52617e1f451)"
   ]
  },
  {
   "cell_type": "code",
   "execution_count": 11,
   "metadata": {},
   "outputs": [],
   "source": [
    "# url que utilizaremos\n",
    "url_wiki = 'https://pt.wikipedia.org/wiki/Lista_de_unidades_federativas_do_Brasil_por_popula%C3%A7%C3%A3o'\n",
    "\n",
    "# fazemos uma 'requisição' na página e guardamos em 'response'\n",
    "response = requests.get(url_wiki)"
   ]
  },
  {
   "cell_type": "markdown",
   "metadata": {},
   "source": [
    "Há muitas controvérsias sobre a legalidade de se realizar web scraping, mas, no nosso caso, a Wikipédia permite realizarmos o _web scraping_ para fins de estudo, e de uma forma responsável, sem mandar muitos _requests_ ao mesmo tempo para a página.\n",
    "\n",
    "Então vamos em frente."
   ]
  },
  {
   "cell_type": "markdown",
   "metadata": {},
   "source": [
    "<img width = \"1400\" src=\"https://raw.githubusercontent.com/diascarolina/data-science-bootcamp/main/modulo2/inspect-element.png\" />\n",
    "\n",
    "Na imagem vemos o que obtemos ao clicarmos com o botão direito do mouse na página da Wikipédia que queremos obter os dados e escolhermos \"Inspecionar Elemento\". Isso mostra as tags HTML de cada objeto. Observe que, na tabela em si, temos a tag ```<table>```. Essa informação é crucial na hora de realizarmos o _web scraping_."
   ]
  },
  {
   "cell_type": "code",
   "execution_count": 12,
   "metadata": {},
   "outputs": [],
   "source": [
    "# instância do BeautifulSoup\n",
    "soup = BeautifulSoup(response.text, 'html.parser')\n",
    "\n",
    "# pega a tabela\n",
    "populacao_tabela = soup.find('table', {'class':\"wikitable\"})"
   ]
  },
  {
   "cell_type": "code",
   "execution_count": 13,
   "metadata": {},
   "outputs": [],
   "source": [
    "# lê a tabela com o pandas\n",
    "pop = pd.read_html(str(populacao_tabela))\n",
    "\n",
    "# transforma num pandas dataframe\n",
    "pop = pd.DataFrame(pop[0])"
   ]
  },
  {
   "cell_type": "code",
   "execution_count": 14,
   "metadata": {},
   "outputs": [
    {
     "data": {
      "text/html": [
       "<div>\n",
       "<style scoped>\n",
       "    .dataframe tbody tr th:only-of-type {\n",
       "        vertical-align: middle;\n",
       "    }\n",
       "\n",
       "    .dataframe tbody tr th {\n",
       "        vertical-align: top;\n",
       "    }\n",
       "\n",
       "    .dataframe thead th {\n",
       "        text-align: right;\n",
       "    }\n",
       "</style>\n",
       "<table border=\"1\" class=\"dataframe\">\n",
       "  <thead>\n",
       "    <tr style=\"text-align: right;\">\n",
       "      <th></th>\n",
       "      <th>Posição</th>\n",
       "      <th>Unidade federativa</th>\n",
       "      <th>População</th>\n",
       "      <th>% da pop. total</th>\n",
       "      <th>País comparável (habitantes)</th>\n",
       "    </tr>\n",
       "  </thead>\n",
       "  <tbody>\n",
       "    <tr>\n",
       "      <th>0</th>\n",
       "      <td>1</td>\n",
       "      <td>São Paulo</td>\n",
       "      <td>46 289 333</td>\n",
       "      <td>21,9%</td>\n",
       "      <td>Espanha (46 439 864)</td>\n",
       "    </tr>\n",
       "    <tr>\n",
       "      <th>1</th>\n",
       "      <td>2</td>\n",
       "      <td>Minas Gerais</td>\n",
       "      <td>21 292 666</td>\n",
       "      <td>10,1%</td>\n",
       "      <td>Sri Lanka (20 675 000)</td>\n",
       "    </tr>\n",
       "    <tr>\n",
       "      <th>2</th>\n",
       "      <td>3</td>\n",
       "      <td>Rio de Janeiro</td>\n",
       "      <td>17 366 189</td>\n",
       "      <td>8,2%</td>\n",
       "      <td>Países Baixos (16 922 900)</td>\n",
       "    </tr>\n",
       "    <tr>\n",
       "      <th>3</th>\n",
       "      <td>4</td>\n",
       "      <td>Bahia</td>\n",
       "      <td>14 930 634</td>\n",
       "      <td>7,1%</td>\n",
       "      <td>Chade (14 037 000)</td>\n",
       "    </tr>\n",
       "    <tr>\n",
       "      <th>4</th>\n",
       "      <td>5</td>\n",
       "      <td>Paraná</td>\n",
       "      <td>11 516 840</td>\n",
       "      <td>5,4%</td>\n",
       "      <td>Bolívia (11 410 651)</td>\n",
       "    </tr>\n",
       "  </tbody>\n",
       "</table>\n",
       "</div>"
      ],
      "text/plain": [
       "   Posição Unidade federativa   População % da pop. total  \\\n",
       "0        1          São Paulo  46 289 333           21,9%   \n",
       "1        2       Minas Gerais  21 292 666           10,1%   \n",
       "2        3     Rio de Janeiro  17 366 189            8,2%   \n",
       "3        4              Bahia  14 930 634            7,1%   \n",
       "4        5             Paraná  11 516 840            5,4%   \n",
       "\n",
       "  País comparável (habitantes)  \n",
       "0         Espanha (46 439 864)  \n",
       "1       Sri Lanka (20 675 000)  \n",
       "2   Países Baixos (16 922 900)  \n",
       "3           Chade (14 037 000)  \n",
       "4         Bolívia (11 410 651)  "
      ]
     },
     "execution_count": 14,
     "metadata": {},
     "output_type": "execute_result"
    }
   ],
   "source": [
    "pop.head()"
   ]
  },
  {
   "cell_type": "markdown",
   "metadata": {},
   "source": [
    "Agora temos um pandas dataframe com as informações diretamente da Wikipédia. Vamos limpá-lo um pouco e salvá-lo em um arquivo .csv."
   ]
  },
  {
   "cell_type": "code",
   "execution_count": 15,
   "metadata": {},
   "outputs": [
    {
     "data": {
      "text/plain": [
       "Index(['Posição', 'Unidade federativa', 'População', '% da pop. total',\n",
       "       'País comparável (habitantes)'],\n",
       "      dtype='object')"
      ]
     },
     "execution_count": 15,
     "metadata": {},
     "output_type": "execute_result"
    }
   ],
   "source": [
    "pop.columns"
   ]
  },
  {
   "cell_type": "code",
   "execution_count": 16,
   "metadata": {},
   "outputs": [],
   "source": [
    "pop = pop.drop(['Posição', '% da pop. total', 'País comparável (habitantes)'], axis = 1)"
   ]
  },
  {
   "cell_type": "code",
   "execution_count": 17,
   "metadata": {},
   "outputs": [],
   "source": [
    "pop.columns = ['Unidade da Federacao', 'habitantes']\n",
    "\n",
    "# nessa parte tive diversos bugs pois inicialmente fiz uma listas de listas, quando é necessário apenas uma única lista"
   ]
  },
  {
   "cell_type": "code",
   "execution_count": 18,
   "metadata": {},
   "outputs": [],
   "source": [
    "pop[\"habitantes\"] = pop[\"habitantes\"].str.replace(\" \", \"\").astype(int)"
   ]
  },
  {
   "cell_type": "code",
   "execution_count": 19,
   "metadata": {},
   "outputs": [
    {
     "data": {
      "text/html": [
       "<div>\n",
       "<style scoped>\n",
       "    .dataframe tbody tr th:only-of-type {\n",
       "        vertical-align: middle;\n",
       "    }\n",
       "\n",
       "    .dataframe tbody tr th {\n",
       "        vertical-align: top;\n",
       "    }\n",
       "\n",
       "    .dataframe thead th {\n",
       "        text-align: right;\n",
       "    }\n",
       "</style>\n",
       "<table border=\"1\" class=\"dataframe\">\n",
       "  <thead>\n",
       "    <tr style=\"text-align: right;\">\n",
       "      <th></th>\n",
       "      <th>Unidade da Federacao</th>\n",
       "      <th>habitantes</th>\n",
       "    </tr>\n",
       "  </thead>\n",
       "  <tbody>\n",
       "    <tr>\n",
       "      <th>0</th>\n",
       "      <td>São Paulo</td>\n",
       "      <td>46289333</td>\n",
       "    </tr>\n",
       "    <tr>\n",
       "      <th>1</th>\n",
       "      <td>Minas Gerais</td>\n",
       "      <td>21292666</td>\n",
       "    </tr>\n",
       "    <tr>\n",
       "      <th>2</th>\n",
       "      <td>Rio de Janeiro</td>\n",
       "      <td>17366189</td>\n",
       "    </tr>\n",
       "    <tr>\n",
       "      <th>3</th>\n",
       "      <td>Bahia</td>\n",
       "      <td>14930634</td>\n",
       "    </tr>\n",
       "    <tr>\n",
       "      <th>4</th>\n",
       "      <td>Paraná</td>\n",
       "      <td>11516840</td>\n",
       "    </tr>\n",
       "  </tbody>\n",
       "</table>\n",
       "</div>"
      ],
      "text/plain": [
       "  Unidade da Federacao  habitantes\n",
       "0            São Paulo    46289333\n",
       "1         Minas Gerais    21292666\n",
       "2       Rio de Janeiro    17366189\n",
       "3                Bahia    14930634\n",
       "4               Paraná    11516840"
      ]
     },
     "execution_count": 19,
     "metadata": {},
     "output_type": "execute_result"
    }
   ],
   "source": [
    "pop.head()"
   ]
  },
  {
   "cell_type": "code",
   "execution_count": 20,
   "metadata": {},
   "outputs": [],
   "source": [
    "pop = pop.set_index('Unidade da Federacao').rename_axis(None)"
   ]
  },
  {
   "cell_type": "code",
   "execution_count": 22,
   "metadata": {},
   "outputs": [
    {
     "data": {
      "text/html": [
       "<div>\n",
       "<style scoped>\n",
       "    .dataframe tbody tr th:only-of-type {\n",
       "        vertical-align: middle;\n",
       "    }\n",
       "\n",
       "    .dataframe tbody tr th {\n",
       "        vertical-align: top;\n",
       "    }\n",
       "\n",
       "    .dataframe thead th {\n",
       "        text-align: right;\n",
       "    }\n",
       "</style>\n",
       "<table border=\"1\" class=\"dataframe\">\n",
       "  <thead>\n",
       "    <tr style=\"text-align: right;\">\n",
       "      <th></th>\n",
       "      <th>habitantes</th>\n",
       "    </tr>\n",
       "  </thead>\n",
       "  <tbody>\n",
       "    <tr>\n",
       "      <th>São Paulo</th>\n",
       "      <td>46289333</td>\n",
       "    </tr>\n",
       "    <tr>\n",
       "      <th>Minas Gerais</th>\n",
       "      <td>21292666</td>\n",
       "    </tr>\n",
       "    <tr>\n",
       "      <th>Rio de Janeiro</th>\n",
       "      <td>17366189</td>\n",
       "    </tr>\n",
       "    <tr>\n",
       "      <th>Bahia</th>\n",
       "      <td>14930634</td>\n",
       "    </tr>\n",
       "    <tr>\n",
       "      <th>Paraná</th>\n",
       "      <td>11516840</td>\n",
       "    </tr>\n",
       "  </tbody>\n",
       "</table>\n",
       "</div>"
      ],
      "text/plain": [
       "                habitantes\n",
       "São Paulo         46289333\n",
       "Minas Gerais      21292666\n",
       "Rio de Janeiro    17366189\n",
       "Bahia             14930634\n",
       "Paraná            11516840"
      ]
     },
     "execution_count": 22,
     "metadata": {},
     "output_type": "execute_result"
    }
   ],
   "source": [
    "pop.head()"
   ]
  },
  {
   "cell_type": "markdown",
   "metadata": {},
   "source": [
    "Ufa! Finalmente temos nosso dataframe limpo. Vamos salvá-lo em formato .csv."
   ]
  },
  {
   "cell_type": "code",
   "execution_count": 33,
   "metadata": {},
   "outputs": [],
   "source": [
    "# descomentar para salvar o csv\n",
    "# pop.to_csv(r'../data/populacao_estados_br.csv')"
   ]
  },
  {
   "cell_type": "markdown",
   "metadata": {},
   "source": [
    "### Desafio 02 - Neste desafio temos uma série de passos:\n",
    "- Padronizar os nomes das colunas\n",
    "- Transformar os dados nos tipos corretos\n",
    "- Transformar a UF em index"
   ]
  },
  {
   "cell_type": "markdown",
   "metadata": {},
   "source": [
    "Queremos fazer isso com os dois dataframes que temos: ```pop``` e ```gastos_do_mais_recente```."
   ]
  },
  {
   "cell_type": "code",
   "execution_count": 26,
   "metadata": {},
   "outputs": [
    {
     "data": {
      "text/html": [
       "<div>\n",
       "<style scoped>\n",
       "    .dataframe tbody tr th:only-of-type {\n",
       "        vertical-align: middle;\n",
       "    }\n",
       "\n",
       "    .dataframe tbody tr th {\n",
       "        vertical-align: top;\n",
       "    }\n",
       "\n",
       "    .dataframe thead th {\n",
       "        text-align: right;\n",
       "    }\n",
       "</style>\n",
       "<table border=\"1\" class=\"dataframe\">\n",
       "  <thead>\n",
       "    <tr style=\"text-align: right;\">\n",
       "      <th></th>\n",
       "      <th>habitantes</th>\n",
       "    </tr>\n",
       "  </thead>\n",
       "  <tbody>\n",
       "    <tr>\n",
       "      <th>São Paulo</th>\n",
       "      <td>46289333</td>\n",
       "    </tr>\n",
       "    <tr>\n",
       "      <th>Minas Gerais</th>\n",
       "      <td>21292666</td>\n",
       "    </tr>\n",
       "    <tr>\n",
       "      <th>Rio de Janeiro</th>\n",
       "      <td>17366189</td>\n",
       "    </tr>\n",
       "    <tr>\n",
       "      <th>Bahia</th>\n",
       "      <td>14930634</td>\n",
       "    </tr>\n",
       "    <tr>\n",
       "      <th>Paraná</th>\n",
       "      <td>11516840</td>\n",
       "    </tr>\n",
       "  </tbody>\n",
       "</table>\n",
       "</div>"
      ],
      "text/plain": [
       "                habitantes\n",
       "São Paulo         46289333\n",
       "Minas Gerais      21292666\n",
       "Rio de Janeiro    17366189\n",
       "Bahia             14930634\n",
       "Paraná            11516840"
      ]
     },
     "execution_count": 26,
     "metadata": {},
     "output_type": "execute_result"
    }
   ],
   "source": [
    "pop.head()"
   ]
  },
  {
   "cell_type": "code",
   "execution_count": 32,
   "metadata": {},
   "outputs": [
    {
     "data": {
      "text/plain": [
       "habitantes    int64\n",
       "dtype: object"
      ]
     },
     "execution_count": 32,
     "metadata": {},
     "output_type": "execute_result"
    }
   ],
   "source": [
    "pop.dtypes"
   ]
  },
  {
   "cell_type": "code",
   "execution_count": 28,
   "metadata": {},
   "outputs": [
    {
     "data": {
      "text/plain": [
       "Unidade da Federação\n",
       "São Paulo           282.71\n",
       "Minas Gerais        120.47\n",
       "Paraná               80.32\n",
       "Rio Grande do Sul    78.93\n",
       "Rio de Janeiro       71.54\n",
       "Name: 2020/Jul, dtype: float64"
      ]
     },
     "execution_count": 28,
     "metadata": {},
     "output_type": "execute_result"
    }
   ],
   "source": [
    "gastos_do_mais_recente.head()"
   ]
  },
  {
   "cell_type": "markdown",
   "metadata": {},
   "source": [
    "Os dois dataframes já estão pronto para o ```join```, pois realizamos a limpeza anteriormente."
   ]
  },
  {
   "cell_type": "code",
   "execution_count": 29,
   "metadata": {},
   "outputs": [],
   "source": [
    "gastos_e_pop_recente = pop.join(gastos_do_mais_recente)"
   ]
  },
  {
   "cell_type": "code",
   "execution_count": 30,
   "metadata": {},
   "outputs": [
    {
     "data": {
      "text/html": [
       "<div>\n",
       "<style scoped>\n",
       "    .dataframe tbody tr th:only-of-type {\n",
       "        vertical-align: middle;\n",
       "    }\n",
       "\n",
       "    .dataframe tbody tr th {\n",
       "        vertical-align: top;\n",
       "    }\n",
       "\n",
       "    .dataframe thead th {\n",
       "        text-align: right;\n",
       "    }\n",
       "</style>\n",
       "<table border=\"1\" class=\"dataframe\">\n",
       "  <thead>\n",
       "    <tr style=\"text-align: right;\">\n",
       "      <th></th>\n",
       "      <th>habitantes</th>\n",
       "      <th>2020/Jul</th>\n",
       "    </tr>\n",
       "  </thead>\n",
       "  <tbody>\n",
       "    <tr>\n",
       "      <th>São Paulo</th>\n",
       "      <td>46289333</td>\n",
       "      <td>282.71</td>\n",
       "    </tr>\n",
       "    <tr>\n",
       "      <th>Minas Gerais</th>\n",
       "      <td>21292666</td>\n",
       "      <td>120.47</td>\n",
       "    </tr>\n",
       "    <tr>\n",
       "      <th>Rio de Janeiro</th>\n",
       "      <td>17366189</td>\n",
       "      <td>71.54</td>\n",
       "    </tr>\n",
       "    <tr>\n",
       "      <th>Bahia</th>\n",
       "      <td>14930634</td>\n",
       "      <td>58.90</td>\n",
       "    </tr>\n",
       "    <tr>\n",
       "      <th>Paraná</th>\n",
       "      <td>11516840</td>\n",
       "      <td>80.32</td>\n",
       "    </tr>\n",
       "  </tbody>\n",
       "</table>\n",
       "</div>"
      ],
      "text/plain": [
       "                habitantes  2020/Jul\n",
       "São Paulo         46289333    282.71\n",
       "Minas Gerais      21292666    120.47\n",
       "Rio de Janeiro    17366189     71.54\n",
       "Bahia             14930634     58.90\n",
       "Paraná            11516840     80.32"
      ]
     },
     "execution_count": 30,
     "metadata": {},
     "output_type": "execute_result"
    }
   ],
   "source": [
    "gastos_e_pop_recente.head()"
   ]
  },
  {
   "cell_type": "markdown",
   "metadata": {},
   "source": [
    "### Desafio 03 - Buscar na documentação alguns métodos envolvendo strings\n",
    "\n",
    "- [Python String Methods](https://www.w3schools.com/python/python_ref_string.asp)\n",
    "\n",
    "- [Pandas Documentation on .str](https://pandas.pydata.org/pandas-docs/stable/reference/api/pandas.Series.str.html)\n",
    "\n",
    "Entre os métodos que achei mais interessantes estão:\n",
    "- ```count()``` -> Returns the number of times a specified value occurs in a string\n",
    "- ```encode()``` -> Returns an encoded version of the string\n",
    "- ```isnumeric()``` -> Returns True if all characters in the string are numeric"
   ]
  },
  {
   "cell_type": "markdown",
   "metadata": {},
   "source": [
    "### Desafio 04 - Desenvolver uma função para a limpeza e tratamento dos dados, retornando duas tabelas \"população\" e \"unida\".\n",
    "\n",
    "Acho que este desafio não está bem definido, pois está vago. Entendi que devemos fazer uma função especificamente para os dados utilizados nessa aula."
   ]
  },
  {
   "cell_type": "code",
   "execution_count": 43,
   "metadata": {},
   "outputs": [],
   "source": [
    "def data_cleaning(url_dados, url_wiki):\n",
    "    '''\n",
    "    Recebe duas urls. A primeira é a url dos dados em .csv\n",
    "    e a segunda é a url da pagina da Wikipédia para scraping\n",
    "    Retorna dois dataframes:\n",
    "        - populacao: dataframe obtido atráves da url\n",
    "        - unida: um dataframe com os dados populacionais e os dados fornecidos originalmente\n",
    "    '''\n",
    "    \n",
    "    # leitura e limpeza da url_dados\n",
    "    dados = pd.read_csv(url_dados, encoding = 'ISO-8859-1', skiprows = 3, sep = ';',\n",
    "                    skipfooter = 12, thousands = '.', decimal = ',', engine = 'python')\n",
    "    \n",
    "    colunas_usaveis = dados.mean().index.tolist()\n",
    "    colunas_usaveis.insert(0, \"Unidade da Federação\")\n",
    "    usaveis = dados[colunas_usaveis]\n",
    "    usaveis = usaveis.set_index(\"Unidade da Federação\")\n",
    "    usaveis = usaveis.drop(\"Total\", axis = 1)\n",
    "    usaveis[\"Total\"] = usaveis.sum(axis = 1)\n",
    "    ordenado_por_total = usaveis.sort_values(\"Total\", ascending = False)\n",
    "    ordenado_por_total = ordenado_por_total.drop(\"Total\", axis = 1)\n",
    "    ordenado_por_total = ordenado_por_total / 1000000\n",
    "    meses_filtrados = ordenado_por_total.columns[47:150]\n",
    "    mes_mais_recente = ordenado_por_total.columns[-1]\n",
    "    gastos_do_mais_recente = ordenado_por_total[mes_mais_recente]\n",
    "    gastos_do_mais_recente = gastos_do_mais_recente.sort_values(ascending = False)\n",
    "    gastos_do_mais_recente.index = gastos_do_mais_recente.index.str[3:]\n",
    "    \n",
    "    # web scraping part\n",
    "    response = requests.get(url_wiki)\n",
    "    soup = BeautifulSoup(response.text, 'html.parser')\n",
    "    populacao_tabela = soup.find('table', {'class':\"wikitable\"})\n",
    "    populacao = pd.read_html(str(populacao_tabela))\n",
    "    populacao = pd.DataFrame(populacao[0])\n",
    "    \n",
    "    # limpeza dessa tabela\n",
    "    populacao = populacao[['Unidade federativa', 'População']]\n",
    "    populacao.columns = ['UF', 'pop']\n",
    "    populacao[\"pop\"] = populacao[\"pop\"].str.replace(\" \", \"\").astype(int)\n",
    "    populacao = populacao.set_index('UF').rename_axis(None)\n",
    "    \n",
    "    \n",
    "    # o dataframe 'gastos_do_mais_recente' já está limpo\n",
    "    # então já podemos fazer um join com 'populacao'\n",
    "    unida = populacao.join(gastos_do_mais_recente)\n",
    "    \n",
    "    return populacao, unida   "
   ]
  },
  {
   "cell_type": "code",
   "execution_count": 44,
   "metadata": {},
   "outputs": [],
   "source": [
    "url_dados = 'https://raw.githubusercontent.com/alura-cursos/agendamento-hospitalar/main/dados/A160324189_28_143_208.csv'\n",
    "url_wikipedia = 'https://pt.wikipedia.org/wiki/Lista_de_unidades_federativas_do_Brasil_por_popula%C3%A7%C3%A3o'\n",
    "\n",
    "populacao_teste, unida_teste = data_cleaning(url_dados, url_wikipedia)"
   ]
  },
  {
   "cell_type": "code",
   "execution_count": 45,
   "metadata": {},
   "outputs": [
    {
     "data": {
      "text/html": [
       "<div>\n",
       "<style scoped>\n",
       "    .dataframe tbody tr th:only-of-type {\n",
       "        vertical-align: middle;\n",
       "    }\n",
       "\n",
       "    .dataframe tbody tr th {\n",
       "        vertical-align: top;\n",
       "    }\n",
       "\n",
       "    .dataframe thead th {\n",
       "        text-align: right;\n",
       "    }\n",
       "</style>\n",
       "<table border=\"1\" class=\"dataframe\">\n",
       "  <thead>\n",
       "    <tr style=\"text-align: right;\">\n",
       "      <th></th>\n",
       "      <th>pop</th>\n",
       "    </tr>\n",
       "  </thead>\n",
       "  <tbody>\n",
       "    <tr>\n",
       "      <th>São Paulo</th>\n",
       "      <td>46289333</td>\n",
       "    </tr>\n",
       "    <tr>\n",
       "      <th>Minas Gerais</th>\n",
       "      <td>21292666</td>\n",
       "    </tr>\n",
       "    <tr>\n",
       "      <th>Rio de Janeiro</th>\n",
       "      <td>17366189</td>\n",
       "    </tr>\n",
       "    <tr>\n",
       "      <th>Bahia</th>\n",
       "      <td>14930634</td>\n",
       "    </tr>\n",
       "    <tr>\n",
       "      <th>Paraná</th>\n",
       "      <td>11516840</td>\n",
       "    </tr>\n",
       "  </tbody>\n",
       "</table>\n",
       "</div>"
      ],
      "text/plain": [
       "                     pop\n",
       "São Paulo       46289333\n",
       "Minas Gerais    21292666\n",
       "Rio de Janeiro  17366189\n",
       "Bahia           14930634\n",
       "Paraná          11516840"
      ]
     },
     "execution_count": 45,
     "metadata": {},
     "output_type": "execute_result"
    }
   ],
   "source": [
    "populacao_teste.head()"
   ]
  },
  {
   "cell_type": "code",
   "execution_count": 46,
   "metadata": {},
   "outputs": [
    {
     "data": {
      "text/html": [
       "<div>\n",
       "<style scoped>\n",
       "    .dataframe tbody tr th:only-of-type {\n",
       "        vertical-align: middle;\n",
       "    }\n",
       "\n",
       "    .dataframe tbody tr th {\n",
       "        vertical-align: top;\n",
       "    }\n",
       "\n",
       "    .dataframe thead th {\n",
       "        text-align: right;\n",
       "    }\n",
       "</style>\n",
       "<table border=\"1\" class=\"dataframe\">\n",
       "  <thead>\n",
       "    <tr style=\"text-align: right;\">\n",
       "      <th></th>\n",
       "      <th>pop</th>\n",
       "      <th>2020/Jul</th>\n",
       "    </tr>\n",
       "  </thead>\n",
       "  <tbody>\n",
       "    <tr>\n",
       "      <th>São Paulo</th>\n",
       "      <td>46289333</td>\n",
       "      <td>282.71</td>\n",
       "    </tr>\n",
       "    <tr>\n",
       "      <th>Minas Gerais</th>\n",
       "      <td>21292666</td>\n",
       "      <td>120.47</td>\n",
       "    </tr>\n",
       "    <tr>\n",
       "      <th>Rio de Janeiro</th>\n",
       "      <td>17366189</td>\n",
       "      <td>71.54</td>\n",
       "    </tr>\n",
       "    <tr>\n",
       "      <th>Bahia</th>\n",
       "      <td>14930634</td>\n",
       "      <td>58.90</td>\n",
       "    </tr>\n",
       "    <tr>\n",
       "      <th>Paraná</th>\n",
       "      <td>11516840</td>\n",
       "      <td>80.32</td>\n",
       "    </tr>\n",
       "  </tbody>\n",
       "</table>\n",
       "</div>"
      ],
      "text/plain": [
       "                     pop  2020/Jul\n",
       "São Paulo       46289333    282.71\n",
       "Minas Gerais    21292666    120.47\n",
       "Rio de Janeiro  17366189     71.54\n",
       "Bahia           14930634     58.90\n",
       "Paraná          11516840     80.32"
      ]
     },
     "execution_count": 46,
     "metadata": {},
     "output_type": "execute_result"
    }
   ],
   "source": [
    "unida_teste.head()"
   ]
  },
  {
   "cell_type": "markdown",
   "metadata": {},
   "source": [
    "### O que aprendemos nessa aula:\n",
    "- Como comparar os gastos em relação a determinado estado;\n",
    "- Como fazer a leitura de dados no formato Excel com Pandas;\n",
    "- Como tornar uma string em (com formato de tabela) legível em pandas usando o String.IO;\n",
    "- Como usar Join em Pandas."
   ]
  },
  {
   "cell_type": "markdown",
   "metadata": {},
   "source": [
    "## Aula 02 - Visualização, Seaborn e Proporcionalidades"
   ]
  },
  {
   "cell_type": "markdown",
   "metadata": {},
   "source": [
    "Começamos com uma discussão sobre práticas ruins que podem acontecer na plotagem de gráficos."
   ]
  },
  {
   "cell_type": "markdown",
   "metadata": {},
   "source": [
    "Temos o seguinte dataframe:"
   ]
  },
  {
   "cell_type": "code",
   "execution_count": 47,
   "metadata": {},
   "outputs": [
    {
     "data": {
      "text/html": [
       "<div>\n",
       "<style scoped>\n",
       "    .dataframe tbody tr th:only-of-type {\n",
       "        vertical-align: middle;\n",
       "    }\n",
       "\n",
       "    .dataframe tbody tr th {\n",
       "        vertical-align: top;\n",
       "    }\n",
       "\n",
       "    .dataframe thead th {\n",
       "        text-align: right;\n",
       "    }\n",
       "</style>\n",
       "<table border=\"1\" class=\"dataframe\">\n",
       "  <thead>\n",
       "    <tr style=\"text-align: right;\">\n",
       "      <th></th>\n",
       "      <th>habitantes</th>\n",
       "      <th>2020/Jul</th>\n",
       "    </tr>\n",
       "  </thead>\n",
       "  <tbody>\n",
       "    <tr>\n",
       "      <th>São Paulo</th>\n",
       "      <td>46289333</td>\n",
       "      <td>282.71</td>\n",
       "    </tr>\n",
       "    <tr>\n",
       "      <th>Minas Gerais</th>\n",
       "      <td>21292666</td>\n",
       "      <td>120.47</td>\n",
       "    </tr>\n",
       "    <tr>\n",
       "      <th>Rio de Janeiro</th>\n",
       "      <td>17366189</td>\n",
       "      <td>71.54</td>\n",
       "    </tr>\n",
       "    <tr>\n",
       "      <th>Bahia</th>\n",
       "      <td>14930634</td>\n",
       "      <td>58.90</td>\n",
       "    </tr>\n",
       "    <tr>\n",
       "      <th>Paraná</th>\n",
       "      <td>11516840</td>\n",
       "      <td>80.32</td>\n",
       "    </tr>\n",
       "  </tbody>\n",
       "</table>\n",
       "</div>"
      ],
      "text/plain": [
       "                habitantes  2020/Jul\n",
       "São Paulo         46289333    282.71\n",
       "Minas Gerais      21292666    120.47\n",
       "Rio de Janeiro    17366189     71.54\n",
       "Bahia             14930634     58.90\n",
       "Paraná            11516840     80.32"
      ]
     },
     "execution_count": 47,
     "metadata": {},
     "output_type": "execute_result"
    }
   ],
   "source": [
    "gastos_e_pop_recente.head()"
   ]
  },
  {
   "cell_type": "code",
   "execution_count": 48,
   "metadata": {},
   "outputs": [
    {
     "data": {
      "text/plain": [
       "<AxesSubplot:xlabel='uf'>"
      ]
     },
     "execution_count": 48,
     "metadata": {},
     "output_type": "execute_result"
    },
    {
     "data": {
      "image/png": "[encoded data removed]",
      "text/plain": [
       "<Figure size 432x288 with 1 Axes>"
      ]
     },
     "metadata": {
      "needs_background": "light"
     },
     "output_type": "display_data"
    }
   ],
   "source": [
    "# exemplo de péssimo gráfico\n",
    "gastos_e_populacao_recente[\"gastos\"] = gastos_e_populacao_recente[\"2020/Jul\"] * 1000000\n",
    "gastos_e_populacao_recente[[\"gastos\", \"populacao\"]].plot()"
   ]
  },
  {
   "cell_type": "code",
   "execution_count": 49,
   "metadata": {},
   "outputs": [
    {
     "data": {
      "text/html": [
       "<div>\n",
       "<style scoped>\n",
       "    .dataframe tbody tr th:only-of-type {\n",
       "        vertical-align: middle;\n",
       "    }\n",
       "\n",
       "    .dataframe tbody tr th {\n",
       "        vertical-align: top;\n",
       "    }\n",
       "\n",
       "    .dataframe thead th {\n",
       "        text-align: right;\n",
       "    }\n",
       "</style>\n",
       "<table border=\"1\" class=\"dataframe\">\n",
       "  <thead>\n",
       "    <tr style=\"text-align: right;\">\n",
       "      <th></th>\n",
       "      <th>populacao</th>\n",
       "      <th>2020/Jul</th>\n",
       "      <th>gastos</th>\n",
       "      <th>gasto_por_habitante</th>\n",
       "    </tr>\n",
       "    <tr>\n",
       "      <th>uf</th>\n",
       "      <th></th>\n",
       "      <th></th>\n",
       "      <th></th>\n",
       "      <th></th>\n",
       "    </tr>\n",
       "  </thead>\n",
       "  <tbody>\n",
       "    <tr>\n",
       "      <th>São Paulo</th>\n",
       "      <td>46289333</td>\n",
       "      <td>282.71</td>\n",
       "      <td>282709570.31</td>\n",
       "      <td>6.11</td>\n",
       "    </tr>\n",
       "    <tr>\n",
       "      <th>Minas Gerais</th>\n",
       "      <td>21292666</td>\n",
       "      <td>120.47</td>\n",
       "      <td>120467187.34</td>\n",
       "      <td>5.66</td>\n",
       "    </tr>\n",
       "    <tr>\n",
       "      <th>Rio de Janeiro</th>\n",
       "      <td>17366189</td>\n",
       "      <td>71.54</td>\n",
       "      <td>71540227.33</td>\n",
       "      <td>4.12</td>\n",
       "    </tr>\n",
       "    <tr>\n",
       "      <th>Bahia</th>\n",
       "      <td>14930634</td>\n",
       "      <td>58.90</td>\n",
       "      <td>58898100.40</td>\n",
       "      <td>3.94</td>\n",
       "    </tr>\n",
       "    <tr>\n",
       "      <th>Paraná</th>\n",
       "      <td>11516840</td>\n",
       "      <td>80.32</td>\n",
       "      <td>80320852.69</td>\n",
       "      <td>6.97</td>\n",
       "    </tr>\n",
       "  </tbody>\n",
       "</table>\n",
       "</div>"
      ],
      "text/plain": [
       "                populacao  2020/Jul       gastos  gasto_por_habitante\n",
       "uf                                                                   \n",
       "São Paulo        46289333    282.71 282709570.31                 6.11\n",
       "Minas Gerais     21292666    120.47 120467187.34                 5.66\n",
       "Rio de Janeiro   17366189     71.54  71540227.33                 4.12\n",
       "Bahia            14930634     58.90  58898100.40                 3.94\n",
       "Paraná           11516840     80.32  80320852.69                 6.97"
      ]
     },
     "execution_count": 49,
     "metadata": {},
     "output_type": "execute_result"
    }
   ],
   "source": [
    "gastos_e_populacao_recente[\"gasto_por_habitante\"] = gastos_e_populacao_recente[\"gastos\"] / gastos_e_populacao_recente[\"populacao\"]\n",
    "gastos_e_populacao_recente.head()"
   ]
  },
  {
   "cell_type": "code",
   "execution_count": 70,
   "metadata": {},
   "outputs": [
    {
     "name": "stdout",
     "output_type": "stream",
     "text": [
      "<class 'pandas.core.frame.DataFrame'>\n",
      "Index: 27 entries, São Paulo to Roraima\n",
      "Data columns (total 4 columns):\n",
      " #   Column               Non-Null Count  Dtype  \n",
      "---  ------               --------------  -----  \n",
      " 0   populacao            27 non-null     int64  \n",
      " 1   2020/Jul             27 non-null     float64\n",
      " 2   gastos               27 non-null     float64\n",
      " 3   gasto_por_habitante  27 non-null     float64\n",
      "dtypes: float64(3), int64(1)\n",
      "memory usage: 2.1+ KB\n"
     ]
    }
   ],
   "source": [
    "gastos_e_populacao_recente.info()"
   ]
  },
  {
   "cell_type": "code",
   "execution_count": 50,
   "metadata": {},
   "outputs": [
    {
     "data": {
      "text/plain": [
       "<AxesSubplot:xlabel='uf'>"
      ]
     },
     "execution_count": 50,
     "metadata": {},
     "output_type": "execute_result"
    },
    {
     "data": {
      "image/png": "[encoded data removed]",
      "text/plain": [
       "<Figure size 432x288 with 1 Axes>"
      ]
     },
     "metadata": {
      "needs_background": "light"
     },
     "output_type": "display_data"
    }
   ],
   "source": [
    "gastos_e_populacao_recente[\"gasto_por_habitante\"].plot(kind = 'bar')"
   ]
  },
  {
   "cell_type": "markdown",
   "metadata": {},
   "source": [
    "### Desafio 01: Ordenar o gráfico e criar uma visualização de gastos por habitantes ordenada. "
   ]
  },
  {
   "cell_type": "code",
   "execution_count": 80,
   "metadata": {},
   "outputs": [
    {
     "data": {
      "image/png": "[encoded data removed]",
      "text/plain": [
       "<Figure size 2520x576 with 3 Axes>"
      ]
     },
     "metadata": {
      "needs_background": "light"
     },
     "output_type": "display_data"
    }
   ],
   "source": [
    "fig, axes = plt.subplots(1, 3, sharex = False, sharey = False, figsize = (35, 8))\n",
    "\n",
    "gastos_e_populacao_recente[\"gasto_por_habitante\"].plot(ax = axes[0], kind = 'barh')\n",
    "axes[0].set_title('Gráfico Ordenado por Estado com Maior Valor Gasto')\n",
    "\n",
    "gastos_e_populacao_recente.sort_values(by = 'gasto_por_habitante')[\"gasto_por_habitante\"].plot(ax = axes[1], kind = 'barh')\n",
    "axes[1].set_title('Gráfico Ordenado por Estado com Maior Valor Gasto por Habitante')\n",
    "\n",
    "gastos_e_populacao_recente.sort_values(by = 'populacao')[\"gasto_por_habitante\"].plot(kind = 'barh', ax = axes[2])\n",
    "axes[2].set_title('Gráfico Ordenado por Estado com Maior População')\n",
    "\n",
    "\n",
    "plt.show()"
   ]
  },
  {
   "cell_type": "markdown",
   "metadata": {},
   "source": [
    "**To be continued...**"
   ]
  }
 ],
 "metadata": {
  "kernelspec": {
   "display_name": "Python 3",
   "language": "python",
   "name": "python3"
  },
  "language_info": {
   "codemirror_mode": {
    "name": "ipython",
    "version": 3
   },
   "file_extension": ".py",
   "mimetype": "text/x-python",
   "name": "python",
   "nbconvert_exporter": "python",
   "pygments_lexer": "ipython3",
   "version": "3.8.5"
  }
 },
 "nbformat": 4,
 "nbformat_minor": 4
}
