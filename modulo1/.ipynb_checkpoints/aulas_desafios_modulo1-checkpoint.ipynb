{
 "cells": [
  {
   "cell_type": "markdown",
   "metadata": {},
   "source": [
    "# Módulo 01 -  Analisando Dados da Saúde com Python e Pandas"
   ]
  },
  {
   "cell_type": "markdown",
   "metadata": {},
   "source": [
    "**Disclaimer**: nesse notebook temos os códigos utilizados nas aula que fui fazendo enquanto as acompanhava, e os desafios, não necessariamente numerados.\n",
    "\n",
    "Nesse módulo trabalhamos com dois datasets retirados do [site do próprio SUS](http://tabnet.datasus.gov.br/cgi/deftohtm.exe?sih/cnv/qiuf.def), um de **processamento** e outro de **atendimentos**. [Nesta nota técnica](http://tabnet.datasus.gov.br/cgi/sih/Proced_hosp_loc_int_2008.pdf) encontrada junto aos dados, temos uma descrição melhor do que é cada coisa.\n",
    "\n",
    "**Dataset Processamentos** (Ano e mês de processamento)\n",
    "Período do processamento da informação, sendo igual ao mês anterior ao da apresentação da AIH (Autorização de Internação Hospitalar) para faturamento. Corresponde, geralmente, ao mês da alta. Nas seguintes situações não é o mês da alta:\n",
    "- AIH reapresentada por ter sido rejeitada em algum processamento anterior;\n",
    "- AIH apresentada com atraso;\n",
    "- AIH referentes a internações de longa permanência; são apresentadas, neste caso, várias AIH para uma mesma internação em meses consecutivos.\n",
    "\n",
    "\n",
    "**Dataset Atendimentos** (Ano e mês de atendimento)\n",
    "Período correspondente à data de internação do paciente na unidade hospitalar."
   ]
  },
  {
   "cell_type": "markdown",
   "metadata": {},
   "source": [
    "## Aula 01 - Aquisição e Leitura de Dados Reais"
   ]
  },
  {
   "cell_type": "code",
   "execution_count": 1,
   "metadata": {},
   "outputs": [],
   "source": [
    "# importando as bibliotecas\n",
    "\n",
    "import pandas as pd\n",
    "import matplotlib.pyplot as plt\n",
    "import matplotlib.ticker as ticker\n",
    "from matplotlib.lines import Line2D\n",
    "\n",
    "# carregando algumas opções\n",
    "\n",
    "pd.options.display.float_format = '{:.2f}'.format"
   ]
  },
  {
   "cell_type": "code",
   "execution_count": 2,
   "metadata": {},
   "outputs": [],
   "source": [
    "# carregando os dados\n",
    "\n",
    "raw_data_process = pd.read_csv('../data/datasus_processamento.csv',\n",
    "                       sep = ';',\n",
    "                       encoding = 'ISO-8859-1', \n",
    "                       skiprows = 3,\n",
    "                       skipfooter = 12,\n",
    "                       thousands = '.',\n",
    "                       decimal = ',',\n",
    "                       engine = 'python')"
   ]
  },
  {
   "cell_type": "code",
   "execution_count": 3,
   "metadata": {},
   "outputs": [
    {
     "data": {
      "text/html": [
       "<div>\n",
       "<style scoped>\n",
       "    .dataframe tbody tr th:only-of-type {\n",
       "        vertical-align: middle;\n",
       "    }\n",
       "\n",
       "    .dataframe tbody tr th {\n",
       "        vertical-align: top;\n",
       "    }\n",
       "\n",
       "    .dataframe thead th {\n",
       "        text-align: right;\n",
       "    }\n",
       "</style>\n",
       "<table border=\"1\" class=\"dataframe\">\n",
       "  <thead>\n",
       "    <tr style=\"text-align: right;\">\n",
       "      <th></th>\n",
       "      <th>Unidade da Federação</th>\n",
       "      <th>2008/Jan</th>\n",
       "      <th>2008/Fev</th>\n",
       "      <th>2008/Mar</th>\n",
       "      <th>2008/Abr</th>\n",
       "      <th>2008/Mai</th>\n",
       "      <th>2008/Jun</th>\n",
       "      <th>2008/Jul</th>\n",
       "      <th>2008/Ago</th>\n",
       "      <th>2008/Set</th>\n",
       "      <th>...</th>\n",
       "      <th>2020/Jul</th>\n",
       "      <th>2020/Ago</th>\n",
       "      <th>2020/Set</th>\n",
       "      <th>2020/Out</th>\n",
       "      <th>2020/Nov</th>\n",
       "      <th>2020/Dez</th>\n",
       "      <th>2021/Jan</th>\n",
       "      <th>2021/Fev</th>\n",
       "      <th>2021/Mar</th>\n",
       "      <th>Total</th>\n",
       "    </tr>\n",
       "  </thead>\n",
       "  <tbody>\n",
       "    <tr>\n",
       "      <th>0</th>\n",
       "      <td>11 Rondônia</td>\n",
       "      <td>1388528.39</td>\n",
       "      <td>2931283.42</td>\n",
       "      <td>1541682.52</td>\n",
       "      <td>1525314.96</td>\n",
       "      <td>1645953.84</td>\n",
       "      <td>1406150.68</td>\n",
       "      <td>3065279.01</td>\n",
       "      <td>3231494.61</td>\n",
       "      <td>3117178.63</td>\n",
       "      <td>...</td>\n",
       "      <td>11824687.13</td>\n",
       "      <td>11733307.76</td>\n",
       "      <td>10201985.14</td>\n",
       "      <td>7955139.45</td>\n",
       "      <td>9357946.29</td>\n",
       "      <td>8880836.55</td>\n",
       "      <td>9266014.59</td>\n",
       "      <td>7730597.04</td>\n",
       "      <td>11023309.47</td>\n",
       "      <td>996411254.68</td>\n",
       "    </tr>\n",
       "    <tr>\n",
       "      <th>1</th>\n",
       "      <td>12 Acre</td>\n",
       "      <td>902416.00</td>\n",
       "      <td>1497206.26</td>\n",
       "      <td>1794028.48</td>\n",
       "      <td>1730469.42</td>\n",
       "      <td>1819443.92</td>\n",
       "      <td>1828496.00</td>\n",
       "      <td>2511754.59</td>\n",
       "      <td>2089107.14</td>\n",
       "      <td>2275708.53</td>\n",
       "      <td>...</td>\n",
       "      <td>3915193.20</td>\n",
       "      <td>3640142.82</td>\n",
       "      <td>3391242.21</td>\n",
       "      <td>4044321.44</td>\n",
       "      <td>3276590.10</td>\n",
       "      <td>3696997.31</td>\n",
       "      <td>3715723.12</td>\n",
       "      <td>3538427.92</td>\n",
       "      <td>4077045.92</td>\n",
       "      <td>450048530.47</td>\n",
       "    </tr>\n",
       "    <tr>\n",
       "      <th>2</th>\n",
       "      <td>13 Amazonas</td>\n",
       "      <td>4735529.42</td>\n",
       "      <td>7118990.57</td>\n",
       "      <td>8196635.49</td>\n",
       "      <td>8259378.42</td>\n",
       "      <td>7831399.90</td>\n",
       "      <td>8477273.62</td>\n",
       "      <td>9368858.72</td>\n",
       "      <td>9352532.70</td>\n",
       "      <td>9363099.35</td>\n",
       "      <td>...</td>\n",
       "      <td>19769460.14</td>\n",
       "      <td>18059931.43</td>\n",
       "      <td>17841015.63</td>\n",
       "      <td>16408315.10</td>\n",
       "      <td>19895617.91</td>\n",
       "      <td>17765167.69</td>\n",
       "      <td>21430289.17</td>\n",
       "      <td>25917134.55</td>\n",
       "      <td>22032176.22</td>\n",
       "      <td>1917247936.05</td>\n",
       "    </tr>\n",
       "    <tr>\n",
       "      <th>3</th>\n",
       "      <td>14 Roraima</td>\n",
       "      <td>657889.53</td>\n",
       "      <td>777939.31</td>\n",
       "      <td>718688.03</td>\n",
       "      <td>839994.39</td>\n",
       "      <td>862347.96</td>\n",
       "      <td>832440.66</td>\n",
       "      <td>996693.09</td>\n",
       "      <td>894271.18</td>\n",
       "      <td>910424.17</td>\n",
       "      <td>...</td>\n",
       "      <td>3015488.30</td>\n",
       "      <td>2826486.18</td>\n",
       "      <td>2928043.91</td>\n",
       "      <td>3090313.73</td>\n",
       "      <td>3621031.05</td>\n",
       "      <td>3454460.94</td>\n",
       "      <td>3266928.47</td>\n",
       "      <td>3519773.73</td>\n",
       "      <td>3985530.08</td>\n",
       "      <td>328876965.09</td>\n",
       "    </tr>\n",
       "    <tr>\n",
       "      <th>4</th>\n",
       "      <td>15 Pará</td>\n",
       "      <td>18864744.11</td>\n",
       "      <td>19553758.20</td>\n",
       "      <td>21937342.70</td>\n",
       "      <td>20842829.69</td>\n",
       "      <td>23249952.88</td>\n",
       "      <td>23240687.56</td>\n",
       "      <td>24002223.56</td>\n",
       "      <td>23341218.03</td>\n",
       "      <td>25172261.32</td>\n",
       "      <td>...</td>\n",
       "      <td>40804126.43</td>\n",
       "      <td>44385715.88</td>\n",
       "      <td>36820249.47</td>\n",
       "      <td>36965931.34</td>\n",
       "      <td>39004315.80</td>\n",
       "      <td>38015145.79</td>\n",
       "      <td>38354682.46</td>\n",
       "      <td>37688314.23</td>\n",
       "      <td>33276392.89</td>\n",
       "      <td>4705309002.29</td>\n",
       "    </tr>\n",
       "  </tbody>\n",
       "</table>\n",
       "<p>5 rows × 161 columns</p>\n",
       "</div>"
      ],
      "text/plain": [
       "  Unidade da Federação    2008/Jan    2008/Fev    2008/Mar    2008/Abr  \\\n",
       "0          11 Rondônia  1388528.39  2931283.42  1541682.52  1525314.96   \n",
       "1              12 Acre   902416.00  1497206.26  1794028.48  1730469.42   \n",
       "2          13 Amazonas  4735529.42  7118990.57  8196635.49  8259378.42   \n",
       "3           14 Roraima   657889.53   777939.31   718688.03   839994.39   \n",
       "4              15 Pará 18864744.11 19553758.20 21937342.70 20842829.69   \n",
       "\n",
       "     2008/Mai    2008/Jun    2008/Jul    2008/Ago    2008/Set  ...  \\\n",
       "0  1645953.84  1406150.68  3065279.01  3231494.61  3117178.63  ...   \n",
       "1  1819443.92  1828496.00  2511754.59  2089107.14  2275708.53  ...   \n",
       "2  7831399.90  8477273.62  9368858.72  9352532.70  9363099.35  ...   \n",
       "3   862347.96   832440.66   996693.09   894271.18   910424.17  ...   \n",
       "4 23249952.88 23240687.56 24002223.56 23341218.03 25172261.32  ...   \n",
       "\n",
       "     2020/Jul    2020/Ago    2020/Set    2020/Out    2020/Nov    2020/Dez  \\\n",
       "0 11824687.13 11733307.76 10201985.14  7955139.45  9357946.29  8880836.55   \n",
       "1  3915193.20  3640142.82  3391242.21  4044321.44  3276590.10  3696997.31   \n",
       "2 19769460.14 18059931.43 17841015.63 16408315.10 19895617.91 17765167.69   \n",
       "3  3015488.30  2826486.18  2928043.91  3090313.73  3621031.05  3454460.94   \n",
       "4 40804126.43 44385715.88 36820249.47 36965931.34 39004315.80 38015145.79   \n",
       "\n",
       "     2021/Jan    2021/Fev    2021/Mar         Total  \n",
       "0  9266014.59  7730597.04 11023309.47  996411254.68  \n",
       "1  3715723.12  3538427.92  4077045.92  450048530.47  \n",
       "2 21430289.17 25917134.55 22032176.22 1917247936.05  \n",
       "3  3266928.47  3519773.73  3985530.08  328876965.09  \n",
       "4 38354682.46 37688314.23 33276392.89 4705309002.29  \n",
       "\n",
       "[5 rows x 161 columns]"
      ]
     },
     "execution_count": 3,
     "metadata": {},
     "output_type": "execute_result"
    }
   ],
   "source": [
    "raw_data_process.head()"
   ]
  },
  {
   "cell_type": "code",
   "execution_count": 4,
   "metadata": {},
   "outputs": [
    {
     "data": {
      "text/plain": [
       "27800320.306666665"
      ]
     },
     "execution_count": 4,
     "metadata": {},
     "output_type": "execute_result"
    }
   ],
   "source": [
    "raw_data_process['2008/Ago'].mean()"
   ]
  },
  {
   "cell_type": "code",
   "execution_count": 5,
   "metadata": {},
   "outputs": [
    {
     "data": {
      "text/html": [
       "<div>\n",
       "<style scoped>\n",
       "    .dataframe tbody tr th:only-of-type {\n",
       "        vertical-align: middle;\n",
       "    }\n",
       "\n",
       "    .dataframe tbody tr th {\n",
       "        vertical-align: top;\n",
       "    }\n",
       "\n",
       "    .dataframe thead th {\n",
       "        text-align: right;\n",
       "    }\n",
       "</style>\n",
       "<table border=\"1\" class=\"dataframe\">\n",
       "  <thead>\n",
       "    <tr style=\"text-align: right;\">\n",
       "      <th></th>\n",
       "      <th>Unidade da Federação</th>\n",
       "      <th>2008/Jan</th>\n",
       "      <th>2008/Fev</th>\n",
       "      <th>2008/Mar</th>\n",
       "      <th>2008/Abr</th>\n",
       "      <th>2008/Mai</th>\n",
       "      <th>2008/Jun</th>\n",
       "      <th>2008/Jul</th>\n",
       "      <th>2008/Ago</th>\n",
       "      <th>2008/Set</th>\n",
       "      <th>...</th>\n",
       "      <th>2020/Jul</th>\n",
       "      <th>2020/Ago</th>\n",
       "      <th>2020/Set</th>\n",
       "      <th>2020/Out</th>\n",
       "      <th>2020/Nov</th>\n",
       "      <th>2020/Dez</th>\n",
       "      <th>2021/Jan</th>\n",
       "      <th>2021/Fev</th>\n",
       "      <th>2021/Mar</th>\n",
       "      <th>Total</th>\n",
       "    </tr>\n",
       "  </thead>\n",
       "  <tbody>\n",
       "    <tr>\n",
       "      <th>0</th>\n",
       "      <td>Rondônia</td>\n",
       "      <td>1388528.39</td>\n",
       "      <td>2931283.42</td>\n",
       "      <td>1541682.52</td>\n",
       "      <td>1525314.96</td>\n",
       "      <td>1645953.84</td>\n",
       "      <td>1406150.68</td>\n",
       "      <td>3065279.01</td>\n",
       "      <td>3231494.61</td>\n",
       "      <td>3117178.63</td>\n",
       "      <td>...</td>\n",
       "      <td>11824687.13</td>\n",
       "      <td>11733307.76</td>\n",
       "      <td>10201985.14</td>\n",
       "      <td>7955139.45</td>\n",
       "      <td>9357946.29</td>\n",
       "      <td>8880836.55</td>\n",
       "      <td>9266014.59</td>\n",
       "      <td>7730597.04</td>\n",
       "      <td>11023309.47</td>\n",
       "      <td>996411254.68</td>\n",
       "    </tr>\n",
       "    <tr>\n",
       "      <th>1</th>\n",
       "      <td>Acre</td>\n",
       "      <td>902416.00</td>\n",
       "      <td>1497206.26</td>\n",
       "      <td>1794028.48</td>\n",
       "      <td>1730469.42</td>\n",
       "      <td>1819443.92</td>\n",
       "      <td>1828496.00</td>\n",
       "      <td>2511754.59</td>\n",
       "      <td>2089107.14</td>\n",
       "      <td>2275708.53</td>\n",
       "      <td>...</td>\n",
       "      <td>3915193.20</td>\n",
       "      <td>3640142.82</td>\n",
       "      <td>3391242.21</td>\n",
       "      <td>4044321.44</td>\n",
       "      <td>3276590.10</td>\n",
       "      <td>3696997.31</td>\n",
       "      <td>3715723.12</td>\n",
       "      <td>3538427.92</td>\n",
       "      <td>4077045.92</td>\n",
       "      <td>450048530.47</td>\n",
       "    </tr>\n",
       "    <tr>\n",
       "      <th>2</th>\n",
       "      <td>Amazonas</td>\n",
       "      <td>4735529.42</td>\n",
       "      <td>7118990.57</td>\n",
       "      <td>8196635.49</td>\n",
       "      <td>8259378.42</td>\n",
       "      <td>7831399.90</td>\n",
       "      <td>8477273.62</td>\n",
       "      <td>9368858.72</td>\n",
       "      <td>9352532.70</td>\n",
       "      <td>9363099.35</td>\n",
       "      <td>...</td>\n",
       "      <td>19769460.14</td>\n",
       "      <td>18059931.43</td>\n",
       "      <td>17841015.63</td>\n",
       "      <td>16408315.10</td>\n",
       "      <td>19895617.91</td>\n",
       "      <td>17765167.69</td>\n",
       "      <td>21430289.17</td>\n",
       "      <td>25917134.55</td>\n",
       "      <td>22032176.22</td>\n",
       "      <td>1917247936.05</td>\n",
       "    </tr>\n",
       "    <tr>\n",
       "      <th>3</th>\n",
       "      <td>Roraima</td>\n",
       "      <td>657889.53</td>\n",
       "      <td>777939.31</td>\n",
       "      <td>718688.03</td>\n",
       "      <td>839994.39</td>\n",
       "      <td>862347.96</td>\n",
       "      <td>832440.66</td>\n",
       "      <td>996693.09</td>\n",
       "      <td>894271.18</td>\n",
       "      <td>910424.17</td>\n",
       "      <td>...</td>\n",
       "      <td>3015488.30</td>\n",
       "      <td>2826486.18</td>\n",
       "      <td>2928043.91</td>\n",
       "      <td>3090313.73</td>\n",
       "      <td>3621031.05</td>\n",
       "      <td>3454460.94</td>\n",
       "      <td>3266928.47</td>\n",
       "      <td>3519773.73</td>\n",
       "      <td>3985530.08</td>\n",
       "      <td>328876965.09</td>\n",
       "    </tr>\n",
       "    <tr>\n",
       "      <th>4</th>\n",
       "      <td>Pará</td>\n",
       "      <td>18864744.11</td>\n",
       "      <td>19553758.20</td>\n",
       "      <td>21937342.70</td>\n",
       "      <td>20842829.69</td>\n",
       "      <td>23249952.88</td>\n",
       "      <td>23240687.56</td>\n",
       "      <td>24002223.56</td>\n",
       "      <td>23341218.03</td>\n",
       "      <td>25172261.32</td>\n",
       "      <td>...</td>\n",
       "      <td>40804126.43</td>\n",
       "      <td>44385715.88</td>\n",
       "      <td>36820249.47</td>\n",
       "      <td>36965931.34</td>\n",
       "      <td>39004315.80</td>\n",
       "      <td>38015145.79</td>\n",
       "      <td>38354682.46</td>\n",
       "      <td>37688314.23</td>\n",
       "      <td>33276392.89</td>\n",
       "      <td>4705309002.29</td>\n",
       "    </tr>\n",
       "  </tbody>\n",
       "</table>\n",
       "<p>5 rows × 161 columns</p>\n",
       "</div>"
      ],
      "text/plain": [
       "  Unidade da Federação    2008/Jan    2008/Fev    2008/Mar    2008/Abr  \\\n",
       "0             Rondônia  1388528.39  2931283.42  1541682.52  1525314.96   \n",
       "1                 Acre   902416.00  1497206.26  1794028.48  1730469.42   \n",
       "2             Amazonas  4735529.42  7118990.57  8196635.49  8259378.42   \n",
       "3              Roraima   657889.53   777939.31   718688.03   839994.39   \n",
       "4                 Pará 18864744.11 19553758.20 21937342.70 20842829.69   \n",
       "\n",
       "     2008/Mai    2008/Jun    2008/Jul    2008/Ago    2008/Set  ...  \\\n",
       "0  1645953.84  1406150.68  3065279.01  3231494.61  3117178.63  ...   \n",
       "1  1819443.92  1828496.00  2511754.59  2089107.14  2275708.53  ...   \n",
       "2  7831399.90  8477273.62  9368858.72  9352532.70  9363099.35  ...   \n",
       "3   862347.96   832440.66   996693.09   894271.18   910424.17  ...   \n",
       "4 23249952.88 23240687.56 24002223.56 23341218.03 25172261.32  ...   \n",
       "\n",
       "     2020/Jul    2020/Ago    2020/Set    2020/Out    2020/Nov    2020/Dez  \\\n",
       "0 11824687.13 11733307.76 10201985.14  7955139.45  9357946.29  8880836.55   \n",
       "1  3915193.20  3640142.82  3391242.21  4044321.44  3276590.10  3696997.31   \n",
       "2 19769460.14 18059931.43 17841015.63 16408315.10 19895617.91 17765167.69   \n",
       "3  3015488.30  2826486.18  2928043.91  3090313.73  3621031.05  3454460.94   \n",
       "4 40804126.43 44385715.88 36820249.47 36965931.34 39004315.80 38015145.79   \n",
       "\n",
       "     2021/Jan    2021/Fev    2021/Mar         Total  \n",
       "0  9266014.59  7730597.04 11023309.47  996411254.68  \n",
       "1  3715723.12  3538427.92  4077045.92  450048530.47  \n",
       "2 21430289.17 25917134.55 22032176.22 1917247936.05  \n",
       "3  3266928.47  3519773.73  3985530.08  328876965.09  \n",
       "4 38354682.46 37688314.23 33276392.89 4705309002.29  \n",
       "\n",
       "[5 rows x 161 columns]"
      ]
     },
     "execution_count": 5,
     "metadata": {},
     "output_type": "execute_result"
    }
   ],
   "source": [
    "# cópia dos dados originais para garantir que eles não sejam sobrescritos\n",
    "processamento = raw_data_process.copy()\n",
    "\n",
    "# remove os números dos nomes das unidades da federação\n",
    "processamento['Unidade da Federação'] = processamento['Unidade da Federação'].str[3:]\n",
    "\n",
    "processamento.head()"
   ]
  },
  {
   "cell_type": "markdown",
   "metadata": {},
   "source": [
    "Aqui irei adicionar uma coluna extra ao dataframe com as siglas de cada UF. Isso nos auxiliará na visualização de gráficos.\n",
    "\n",
    "No livro _\"Storytelling With Data\"_, quase uma bíblia para a visualização de dados, é recomendado não deixar as \"labels\" dos eixos na diagonal, pois isso dificulta a leitura das informações. [Aqui](https://www.storytellingwithdata.com/blog/2020/4/22/alternatives-to-diagonal-axis-labels) são apresentadas algumas alternativas para resolvermos isso. Por isso escolhi utilizar as siglas de cada UF nos gráficos que precisarem disso."
   ]
  },
  {
   "cell_type": "code",
   "execution_count": 6,
   "metadata": {},
   "outputs": [],
   "source": [
    "siglas = ['RO', 'AC', 'AM', 'RR', 'PA', 'AP', 'TO', 'MA', 'PI', 'CE', 'RN', 'PB', 'PE', 'AL', 'SE', 'BA',\n",
    "          'MG', 'ES', 'RJ', 'SP', 'PR', 'SC', 'RS', 'MS', 'MT', 'GO', 'DF']\n",
    "\n",
    "processamento['UF'] = siglas"
   ]
  },
  {
   "cell_type": "code",
   "execution_count": 7,
   "metadata": {},
   "outputs": [
    {
     "data": {
      "image/png": "[encoded data removed]",
      "text/plain": [
       "<Figure size 864x576 with 1 Axes>"
      ]
     },
     "metadata": {
      "needs_background": "light"
     },
     "output_type": "display_data"
    }
   ],
   "source": [
    "ax = processamento.sort_values(by = '2008/Ago', ascending = False).plot(x = 'UF',\n",
    "                                                                        y = '2008/Ago',\n",
    "                                                                        kind = 'bar',\n",
    "                                                                        figsize = (12, 8),\n",
    "                                                                        color = 'lightseagreen')\n",
    "\n",
    "ax.yaxis.set_major_formatter(ticker.StrMethodFormatter('{x:,.2f}'))\n",
    "\n",
    "plt.xticks(rotation = 0)\n",
    "\n",
    "plt.title('Gastos Hospitalares por UF em Agosto de 2008', fontsize = 20)\n",
    "plt.xlabel('Unidade da Federação', fontsize = 16)\n",
    "plt.ylabel('Valores em Reais (R$)', fontsize = 16)\n",
    "\n",
    "plt.show()"
   ]
  },
  {
   "cell_type": "markdown",
   "metadata": {},
   "source": [
    "Qual o mês mais recente?"
   ]
  },
  {
   "cell_type": "code",
   "execution_count": 8,
   "metadata": {},
   "outputs": [
    {
     "data": {
      "text/plain": [
       "Index(['2021/Mar', 'Total', 'UF'], dtype='object')"
      ]
     },
     "execution_count": 8,
     "metadata": {},
     "output_type": "execute_result"
    }
   ],
   "source": [
    "# vamos pegar os nomes das 5 últimas colunas\n",
    "processamento.columns[-3:]"
   ]
  },
  {
   "cell_type": "markdown",
   "metadata": {},
   "source": [
    "Com isso, vemos que o mês mais recente é \"Março de 2021\"."
   ]
  },
  {
   "cell_type": "code",
   "execution_count": 15,
   "metadata": {},
   "outputs": [
    {
     "data": {
      "image/png": "[encoded data removed]",
      "text/plain": [
       "<Figure size 1080x576 with 1 Axes>"
      ]
     },
     "metadata": {
      "needs_background": "light"
     },
     "output_type": "display_data"
    }
   ],
   "source": [
    "cores = ['blue', 'blue', 'red', 'red', 'blue', 'green', 'green',\n",
    "         'red', 'green', 'pink', 'blue', 'green', 'green', 'pink',\n",
    "        'green', 'pink', 'green', 'green', 'black', 'green', 'pink',\n",
    "        'green', 'black', 'black', 'black', 'black', 'black']\n",
    "\n",
    "# blue = sudeste\n",
    "# red = sul\n",
    "# green = nordeste\n",
    "# pink = centro-oeste\n",
    "# black = norte\n",
    "\n",
    "ax = processamento.sort_values(by = '2021/Mar', ascending = False).plot(x = 'UF', \n",
    "                                                                        y = '2021/Mar',\n",
    "                                                                        kind = 'bar',\n",
    "                                                                        figsize = (15, 8),\n",
    "                                                                        color = cores)\n",
    "\n",
    "ax.yaxis.set_major_formatter(ticker.StrMethodFormatter('{x:,.2f}'))\n",
    "\n",
    "plt.xticks(rotation = 0)\n",
    "\n",
    "plt.title('Gastos Hospitalares por UF em Março de 2021', fontsize = 20)\n",
    "plt.xlabel('Unidade da Federação', fontsize = 16)\n",
    "plt.ylabel('Valores em Reais (R$)', fontsize = 16)\n",
    "\n",
    "plt.show()"
   ]
  },
  {
   "cell_type": "markdown",
   "metadata": {},
   "source": [
    "Logo de imediato percebemos que o gasto hospitalar aumentou bastante de 2008 pra 2021. A conclusão mais óbvia que podemos fazer é \"Covid-19\", mas para termos certeza devemos analisar o crescimento dos gastos ao longo dos meses para vermos alguma tendência de crescimento."
   ]
  },
  {
   "cell_type": "markdown",
   "metadata": {},
   "source": [
    "Uma outra observação que podemos fazer é que as Unidades da Federação estão ordenadas no dataframe por suas respectivas regiões. Usaremos esse fato futuramente para algumas análises."
   ]
  },
  {
   "cell_type": "markdown",
   "metadata": {},
   "source": [
    "O que aprendemos nessa aula:\n",
    "- Como utilizar o Tabnet para buscar dados da saúde Brasileira;\n",
    "- Como utilizar o google Colaboratory;\n",
    "- Como ler um arquivo CSV com Pandas;\n",
    "- Como ler um arquivo CSV com caracteres especiais do idioma português;\n",
    "- Como ignorar o cabeçalho de um arquivo CSV;\n",
    "- O que são DataFrame;\n",
    "- Os desafios de ler um arquivo do mundo real;\n",
    "- Como formatar a impressão dos dados de um DataFrame Pandas;\n",
    "- Como plotar um gráfico com o Pandas;\n",
    "- Como formatar a sua visualização;\n",
    "- Como alterar os ticks do seu gráfico utilizando o Matplotlib."
   ]
  },
  {
   "cell_type": "markdown",
   "metadata": {},
   "source": [
    "## Aula 02 - Primeiras Visualizações de Dados"
   ]
  },
  {
   "cell_type": "markdown",
   "metadata": {},
   "source": [
    "As bibliotecas já estão carregadas no início do notebook."
   ]
  },
  {
   "cell_type": "code",
   "execution_count": null,
   "metadata": {},
   "outputs": [],
   "source": [
    "# carregando os dados\n",
    "\n",
    "raw_data_atendimento = pd.read_csv('../data/datasus_atendimento.csv',\n",
    "                       sep = ';',\n",
    "                       encoding = 'ISO-8859-1', \n",
    "                       skiprows = 3,\n",
    "                       skipfooter = 12,\n",
    "                       thousands = '.',\n",
    "                       decimal = ',',\n",
    "                       engine = 'python')"
   ]
  },
  {
   "cell_type": "code",
   "execution_count": null,
   "metadata": {},
   "outputs": [],
   "source": [
    "raw_data_atendimento.head()"
   ]
  },
  {
   "cell_type": "code",
   "execution_count": null,
   "metadata": {},
   "outputs": [],
   "source": [
    "# cópia dos dados originais para garantir que eles não sejam sobrescritos\n",
    "atendimento = raw_data_atendimento.copy()\n",
    "\n",
    "# remove os números dos nomes das unidades da federação\n",
    "atendimento['Unidade da Federação'] = atendimento['Unidade da Federação'].str[3:]\n",
    "\n",
    "atendimento.head()"
   ]
  },
  {
   "cell_type": "code",
   "execution_count": null,
   "metadata": {},
   "outputs": [],
   "source": [
    "atendimento.mean()"
   ]
  },
  {
   "cell_type": "code",
   "execution_count": null,
   "metadata": {},
   "outputs": [],
   "source": [
    "colunas_usaveis = atendimento.mean().index.tolist()\n",
    "colunas_usaveis.insert(0, 'Unidade da Federação')"
   ]
  },
  {
   "cell_type": "code",
   "execution_count": null,
   "metadata": {},
   "outputs": [],
   "source": [
    "usaveis = atendimento[colunas_usaveis]\n",
    "usaveis.head()"
   ]
  },
  {
   "cell_type": "code",
   "execution_count": null,
   "metadata": {},
   "outputs": [],
   "source": [
    "usaveis = usaveis.set_index('Unidade da Federação')"
   ]
  },
  {
   "cell_type": "code",
   "execution_count": null,
   "metadata": {},
   "outputs": [],
   "source": [
    "usaveis.head()"
   ]
  },
  {
   "cell_type": "markdown",
   "metadata": {},
   "source": [
    "Após realizarmos essa operação de ```.set_index()``` é adicionada uma noma linha ao dataframe. [Aqui](https://stackoverflow.com/questions/43191342/pandas-set-index-creates-undesired-new-row-how-do-i-just-do-the-obvious-thing) vemos um solução pra isso."
   ]
  },
  {
   "cell_type": "code",
   "execution_count": null,
   "metadata": {},
   "outputs": [],
   "source": [
    "usaveis.index.name = None\n",
    "usaveis.head()"
   ]
  },
  {
   "cell_type": "code",
   "execution_count": null,
   "metadata": {},
   "outputs": [],
   "source": [
    "usaveis.T.tail()"
   ]
  },
  {
   "cell_type": "code",
   "execution_count": null,
   "metadata": {},
   "outputs": [],
   "source": [
    "usaveis = usaveis.drop(['Total'], axis = 1)"
   ]
  },
  {
   "cell_type": "code",
   "execution_count": null,
   "metadata": {},
   "outputs": [],
   "source": [
    "usaveis.T.plot(figsize = (10, 12))"
   ]
  },
  {
   "cell_type": "markdown",
   "metadata": {},
   "source": [
    "Esse pico no início do gráfico não está nada bonito. Creio que o motivo dele existir é que, como os dados só começaram a serem totalmente contabilizados a partir de Agosto de 2007, os dados anteriores a esse período podem ter sido adicionados à base de dados juntamente com os dados de 2007, e com isso criando esse pico. Para que esses dados não obfusquem nossa visualização, iremos removê-los e contar os anos apenas após 2008."
   ]
  },
  {
   "cell_type": "code",
   "execution_count": null,
   "metadata": {},
   "outputs": [],
   "source": [
    "usaveis = usaveis.drop(['2007/Ago', '2007/Set', '2007/Out', '2007/Nov', '2007/Dez'], axis = 1)"
   ]
  },
  {
   "cell_type": "code",
   "execution_count": null,
   "metadata": {},
   "outputs": [],
   "source": [
    "usaveis.T.plot(figsize = (10, 12))"
   ]
  },
  {
   "cell_type": "markdown",
   "metadata": {},
   "source": [
    "Opa! Removemos todo o ano de 2007 e parece que ainda restou um mês com valores altos, janeiro de 2008. Uma hipótese pra isso é que os dados de cada mês na verdade aparecem no mês seguinte, então janeiro de 2008 pode estar representando dezembro de 2007 (estamos apenas especulando)."
   ]
  },
  {
   "cell_type": "code",
   "execution_count": null,
   "metadata": {},
   "outputs": [],
   "source": [
    "# removendo janeiro de 2008\n",
    "usaveis = usaveis.drop('2008/Jan', axis = 1)"
   ]
  },
  {
   "cell_type": "code",
   "execution_count": null,
   "metadata": {},
   "outputs": [],
   "source": [
    "usaveis.T.plot(figsize = (10, 10))"
   ]
  },
  {
   "cell_type": "markdown",
   "metadata": {},
   "source": [
    "Aparentemente já temos um gráfico com valores mais comparáveis, e um notável aumento de atendimentos no ano de 2020, reforçando nossa hipótese da \"Covid-19\".\n",
    "\n",
    "Vamos melhorar esse gráfico."
   ]
  },
  {
   "cell_type": "code",
   "execution_count": null,
   "metadata": {},
   "outputs": [],
   "source": [
    "usaveis.index"
   ]
  },
  {
   "cell_type": "markdown",
   "metadata": {},
   "source": [
    "Vemos que as UFs estão ordenadas por região. Vamos usar isso a nosso favor."
   ]
  },
  {
   "cell_type": "code",
   "execution_count": null,
   "metadata": {},
   "outputs": [],
   "source": [
    "norte = usaveis.index[:7]\n",
    "nordeste = usaveis.index[7:16]\n",
    "sudeste = usaveis.index[16:20]\n",
    "sul = usaveis.index[20:23]\n",
    "centro_oeste = usaveis.index[23:]"
   ]
  },
  {
   "cell_type": "markdown",
   "metadata": {},
   "source": [
    "<a name=\"grafico-regioes\"></a>"
   ]
  },
  {
   "cell_type": "code",
   "execution_count": null,
   "metadata": {},
   "outputs": [],
   "source": [
    "fig, axes = plt.subplots(2, 3, sharex = False, sharey = True, figsize = (30, 20))\n",
    "\n",
    "plt.suptitle(\"Gastos Hospitalares (em R$) por Região do Brasil entre Fev/2008 e Mar/2021\", fontsize = 20, y = 0.93)\n",
    "\n",
    "axes[1, 2].set_visible(False)\n",
    "\n",
    "usaveis.loc[norte].T.plot(ax = axes[0, 0], colormap = 'tab10')\n",
    "axes[0, 0].set_title('Região Norte', fontsize = 15)\n",
    "axes[0, 0].yaxis.set_major_formatter(ticker.StrMethodFormatter('{x:,.2f}'))\n",
    "\n",
    "usaveis.loc[nordeste].T.plot(ax = axes[0, 1], colormap = 'Set1')\n",
    "axes[0, 1].set_title('Região Nordeste', fontsize = 15)\n",
    "\n",
    "usaveis.loc[sudeste].T.plot(ax = axes[0, 2], colormap = 'cool')\n",
    "axes[0, 2].set_title('Região Sudeste', fontsize = 15)\n",
    "\n",
    "usaveis.loc[sul].T.plot(ax = axes[1, 0], colormap = 'Dark2')\n",
    "axes[1, 0].set_title('Região Sul', fontsize = 15)\n",
    "\n",
    "usaveis.loc[centro_oeste].T.plot(ax = axes[1, 1], colormap = 'hsv')\n",
    "axes[1, 1].set_title('Região Centro-Oeste', fontsize = 15)\n",
    "\n",
    "axes[1][0].set_position([0.24, 0.125, 0.228, 0.343])\n",
    "axes[1][1].set_position([0.55, 0.125, 0.228, 0.343])\n",
    "\n",
    "# plt.savefig('estados.jpg')\n",
    "\n",
    "plt.show()"
   ]
  },
  {
   "cell_type": "markdown",
   "metadata": {},
   "source": [
    "Referência pras cores: https://matplotlib.org/stable/gallery/color/colormap_reference.html"
   ]
  },
  {
   "cell_type": "markdown",
   "metadata": {},
   "source": [
    "Ideia. Ordernar o dataframe ```usaveis``` por total antes de plotar os gráficos, para que as legendas fiquem na ordem."
   ]
  },
  {
   "cell_type": "markdown",
   "metadata": {},
   "source": [
    "O que aprendemos nessa aula:\n",
    "- Como realizar um slice no DataFrame com Pandas;\n",
    "- Formas de lidar com dados faltantes;\n",
    "- Utilizar o insert do Pandas;\n",
    "- Como transpor sua matriz de dados."
   ]
  },
  {
   "cell_type": "markdown",
   "metadata": {},
   "source": [
    "## Aula 03 - Manipulação de Dados"
   ]
  },
  {
   "cell_type": "markdown",
   "metadata": {},
   "source": [
    "Adicionando uma coluna com a região de cada UF."
   ]
  },
  {
   "cell_type": "code",
   "execution_count": null,
   "metadata": {},
   "outputs": [],
   "source": [
    "atend = raw_data_atendimento.copy()"
   ]
  },
  {
   "cell_type": "code",
   "execution_count": null,
   "metadata": {},
   "outputs": [],
   "source": [
    "atend = atend.set_index('Unidade da Federação').rename_axis(None)"
   ]
  },
  {
   "cell_type": "code",
   "execution_count": null,
   "metadata": {},
   "outputs": [],
   "source": [
    "regioes = {'1': 'Norte', '2': 'Nordeste', '3': 'Sudeste', '4': 'Sul', '5': 'Centro-Oeste'}\n",
    "estados = atend.index\n",
    "atend[\"Regioes\"] = list(map(lambda estado: regioes[estado[0]] , estados))\n",
    "atend.index = atend.index.str[3:]"
   ]
  },
  {
   "cell_type": "code",
   "execution_count": null,
   "metadata": {},
   "outputs": [],
   "source": [
    "colunas_usaveis = atend.mean().index.tolist()\n",
    "colunas_usaveis.insert(0, 'Regioes')"
   ]
  },
  {
   "cell_type": "code",
   "execution_count": null,
   "metadata": {},
   "outputs": [],
   "source": [
    "atend_usaveis = atend[colunas_usaveis]\n",
    "atend_usaveis.head()"
   ]
  },
  {
   "cell_type": "code",
   "execution_count": null,
   "metadata": {},
   "outputs": [],
   "source": [
    "atend_usaveis = atend_usaveis.drop(atend_usaveis.iloc[:, 1:7], axis = 1)"
   ]
  },
  {
   "cell_type": "code",
   "execution_count": null,
   "metadata": {},
   "outputs": [],
   "source": [
    "atend_usaveis = atend_usaveis.drop('Total', axis = 1)"
   ]
  },
  {
   "cell_type": "code",
   "execution_count": null,
   "metadata": {},
   "outputs": [],
   "source": [
    "atend_usaveis.head()"
   ]
  },
  {
   "cell_type": "code",
   "execution_count": null,
   "metadata": {},
   "outputs": [],
   "source": [
    "atend_usaveis['Total'] = atend_usaveis.sum(axis = 1)"
   ]
  },
  {
   "cell_type": "markdown",
   "metadata": {},
   "source": [
    "### Análise de Casos de Dengue e Gastos Hospitalares"
   ]
  },
  {
   "cell_type": "markdown",
   "metadata": {},
   "source": [
    "Vamos buscar os casos relacionados à dengue no mesmo site do [DataSUS](http://tabnet.datasus.gov.br/cgi/deftohtm.exe?sih/cnv/qiuf.def) que usamos anteriormente.\n",
    "\n",
    "Existe uma outra base de dados com informações mais detalhadas e específicas sobre a dengue no Brasil, mas devido a dificuldade de obter os dados separados por \"ano/mês\" optei por usar os dados de internações e procedimentos relacionados à dengue, visto que aqui estamos fazendo apenas uma análise mais superficial.\n",
    "\n",
    "Ou seja, temos os dados das \"Internações por Unidade da Federação e Ano/mês atendimento\" relacionados aos procedimentos\n",
    "- HISTOPATOLOGIA P/ IDENTIFICACAO DE DENGUE,\n",
    "- IMUNOHISTOQUIMICA P/ IDENTIFICACAO DO VÍRUS DA DENGUE,\n",
    "- TESTE RÁPIDO PARA DENGUE IGG/IGM,\n",
    "- TRATAMENTO DE DENGUE CLÁSSICA,\n",
    "- TRATAMENTO DE DENGUE HEMORRÁGICA.\n",
    "\n",
    "Com isso podemos ter uma visão geral do comportamento da dengue desde Julho de 2007."
   ]
  },
  {
   "cell_type": "code",
   "execution_count": null,
   "metadata": {},
   "outputs": [],
   "source": [
    "# importar os dados\n",
    "\n",
    "raw_data_dengue = pd.read_csv('../data/datasus_procedimentos_dengue.csv',\n",
    "                               sep = ';',\n",
    "                               encoding = 'ISO-8859-1', \n",
    "                               skiprows = 4,\n",
    "                               skipfooter = 12,\n",
    "                               thousands = '.',\n",
    "                               decimal = ',',\n",
    "                               engine = 'python')"
   ]
  },
  {
   "cell_type": "code",
   "execution_count": null,
   "metadata": {},
   "outputs": [],
   "source": [
    "raw_data_dengue.head()"
   ]
  },
  {
   "cell_type": "markdown",
   "metadata": {},
   "source": [
    "Vamos comparar esses dados da dengue com o dataset **atendimentos**, pois nele os dados correspondem ao próprio mês em questão, e não ao mês anterior, como no dataset **processamento**.\n",
    "\n",
    "\n",
    "Já temos os **atendimentos** organizados, como podemos ver abaixo."
   ]
  },
  {
   "cell_type": "code",
   "execution_count": null,
   "metadata": {},
   "outputs": [],
   "source": [
    "atend_usaveis.head()"
   ]
  },
  {
   "cell_type": "markdown",
   "metadata": {},
   "source": [
    "Existe algum valor nulo em atendimentos?"
   ]
  },
  {
   "cell_type": "code",
   "execution_count": null,
   "metadata": {},
   "outputs": [],
   "source": [
    "atend_usaveis.info()"
   ]
  },
  {
   "cell_type": "code",
   "execution_count": null,
   "metadata": {},
   "outputs": [],
   "source": [
    "atend_usaveis.isnull().sum().unique()"
   ]
  },
  {
   "cell_type": "markdown",
   "metadata": {},
   "source": [
    "Antes de trabalharmos com os dados da dengue, vamos melhorar o dataset e deixá-lo com um período de tempo compatível com os atendimentos."
   ]
  },
  {
   "cell_type": "code",
   "execution_count": null,
   "metadata": {},
   "outputs": [],
   "source": [
    "# cópia do dataset original\n",
    "dengue = raw_data_dengue.copy()"
   ]
  },
  {
   "cell_type": "code",
   "execution_count": null,
   "metadata": {},
   "outputs": [],
   "source": [
    "# coloca as UFs como índice\n",
    "dengue = dengue.set_index('Unidade da Federação').rename_axis(None)"
   ]
  },
  {
   "cell_type": "code",
   "execution_count": null,
   "metadata": {},
   "outputs": [],
   "source": [
    "# dropa os 6 primeiros meses, para ficar com o mesmo período de tempo de 'atendimentos'\n",
    "dengue = dengue.drop(dengue.iloc[:, 0:7], axis = 1)"
   ]
  },
  {
   "cell_type": "code",
   "execution_count": null,
   "metadata": {},
   "outputs": [],
   "source": [
    "dengue.head()"
   ]
  },
  {
   "cell_type": "code",
   "execution_count": null,
   "metadata": {},
   "outputs": [],
   "source": [
    "dengue.info()"
   ]
  },
  {
   "cell_type": "markdown",
   "metadata": {},
   "source": [
    "Observamos que existem 73 colunas com dados do tipo ```object```, quando queríamos que todas elas fossem do tipo ```int64```.\n",
    "\n",
    "Isso se dá pelo fato de termos dados faltantes que foram substituídos com '-' (hífen).\n",
    "\n",
    "Aqui precisamos tomar um decisão sobre o que faremos com esses dados.\n",
    "\n",
    "Observado novamente o dataset, percebemos que os dados faltantes aparecem em Estaddos onde existem poucos procedimentos sendo realizados por mês, o que me leva a entender que os dados faltantes são na verdade o valor \"zero\", ou seja, nenhum procedimento realizado.\n",
    "\n",
    "Então irei substituir os valores faltantes por zero.\n",
    "\n",
    "**Update**: Na própria legenda do site onde os dados foram obtido temos:\n",
    "```\"-\" Dado numérico igual a 0 não resultante de arredondamento.```"
   ]
  },
  {
   "cell_type": "code",
   "execution_count": null,
   "metadata": {},
   "outputs": [],
   "source": [
    "dengue = dengue.replace('-', '0')"
   ]
  },
  {
   "cell_type": "code",
   "execution_count": null,
   "metadata": {},
   "outputs": [],
   "source": [
    "dengue.head()"
   ]
  },
  {
   "cell_type": "code",
   "execution_count": null,
   "metadata": {},
   "outputs": [],
   "source": [
    "regioes = {'1': 'Norte', '2': 'Nordeste', '3': 'Sudeste', '4': 'Sul', '5': 'Centro-Oeste'}\n",
    "estados = dengue.index\n",
    "dengue.insert(0, 'Regioes', list(map(lambda estado: regioes[estado[0]] , estados)))\n",
    "dengue.index = dengue.index.str[3:]"
   ]
  },
  {
   "cell_type": "code",
   "execution_count": null,
   "metadata": {},
   "outputs": [],
   "source": [
    "dengue.head()"
   ]
  },
  {
   "cell_type": "code",
   "execution_count": null,
   "metadata": {},
   "outputs": [],
   "source": [
    "dengue.loc[:, dengue.columns != 'Regioes'] = dengue.apply(pd.to_numeric, errors = 'coerce')"
   ]
  },
  {
   "cell_type": "code",
   "execution_count": null,
   "metadata": {},
   "outputs": [],
   "source": [
    "dengue.info()"
   ]
  },
  {
   "cell_type": "markdown",
   "metadata": {},
   "source": [
    "Agora todas as colunas exceto 'Regiões' são do tipo 'int64'."
   ]
  },
  {
   "cell_type": "code",
   "execution_count": null,
   "metadata": {},
   "outputs": [],
   "source": [
    "if dengue.shape == atend_usaveis.shape:\n",
    "    print('Os dataframes já estão comparáveis!')\n",
    "else:\n",
    "    print('Os dataframes ainda não estão comparáveis.')"
   ]
  },
  {
   "cell_type": "markdown",
   "metadata": {},
   "source": [
    "Agora vamos tentar analisar graficamente para notar se há alguma relação entre a quantidade de casos de dengue e os gastos hospitalares ao longo do tempo.\n",
    "\n",
    "Aqui vale uma ressalva: como foi dito anteriormente, o dataset da dengue não traz a informação de quantos casos ocorreram, mas sim a informação de quantos procedimentos realizados tem relação com a dengue (como exames e consultas). Então, daqui pra frente, \"Casos de Dengue\" se refere a isso."
   ]
  },
  {
   "cell_type": "code",
   "execution_count": null,
   "metadata": {},
   "outputs": [],
   "source": [
    "# um gráfico inicial só para confirmar que está tudo funcionando\n",
    "dengue.drop(['Total', 'Regioes'], axis = 1).sample(3).T.plot(figsize = (15, 10))"
   ]
  },
  {
   "cell_type": "markdown",
   "metadata": {},
   "source": [
    "Nessa análise inicial dá pra notar que existe uma sazonalidade nos dados da dengue, como era de se esperar. "
   ]
  },
  {
   "cell_type": "markdown",
   "metadata": {},
   "source": [
    "Vamos plotar agora dois gráficos, um para os casos de dengue e outro para os gastos hospitalares. Vamos escolher um estado pra ser a \"cobaia\"."
   ]
  },
  {
   "cell_type": "code",
   "execution_count": null,
   "metadata": {},
   "outputs": [],
   "source": [
    "fig, axes = plt.subplots(1, 2, sharex = False, sharey = False, figsize = (25, 10))\n",
    "\n",
    "plt.subplots_adjust(wspace = 0.3)\n",
    "\n",
    "dengue.drop(['Total', 'Regioes'], axis = 1).loc['São Paulo'].T.plot(ax = axes[0], color = 'deeppink')\n",
    "\n",
    "axes[0].set_title('Casos de Dengue', fontsize = 15)\n",
    "axes[0].set_xlabel('Período de Tempo', fontdict = {'fontsize': 12})\n",
    "\n",
    "axes[0].set_ylabel('Quantidade de Casos', fontdict = {'fontsize': 12})\n",
    "\n",
    "atend_usaveis.drop(['Total', 'Regioes'], axis = 1).loc['São Paulo'].T.plot(ax = axes[1], color = 'darkgreen')\n",
    "axes[1].set_title('Gastos Hospitalares', fontsize = 15)\n",
    "axes[1].set_xlabel('Período de Tempo', fontdict = {'fontsize': 12})\n",
    "\n",
    "axes[1].set_ylabel('Valores (R$)', fontdict = {'fontsize': 12})\n",
    "\n",
    "axes[1].yaxis.set_major_formatter(ticker.StrMethodFormatter('{x:,.2f}'))\n",
    "\n",
    "\n",
    "plt.show()"
   ]
  },
  {
   "cell_type": "markdown",
   "metadata": {},
   "source": [
    "Colocando os gráficos lado a lado não é imediato comparar os picos que estão ocorrendo. Para resolver isso, vamos plotar os dados no mesmo gráficos, com dois eixos 'y'.\n",
    "\n",
    "Conferindo [nesses gráficos das regiões](#grafico-regioes) quais estados tiveram picos mais acentuados de gastos, vamos escolhê-los para realizar análises.\n",
    "\n",
    "Aparentemente, os estados com picos mais elevados de gastos são Pernambuco, Rio de Janeiro e São Paulo. Vamos nos concentrar nesses três por enquanto. "
   ]
  },
  {
   "cell_type": "code",
   "execution_count": null,
   "metadata": {},
   "outputs": [],
   "source": [
    "fig, axes = plt.subplots(figsize = (20, 10))\n",
    "\n",
    "plt.title('Casos de Dengue e Gastos Hospitalares em São Paulo de Fev/2008 a Mar/2021', fontsize = 15)\n",
    "\n",
    "atend_usaveis.drop(['Total', 'Regioes'], axis = 1).loc['São Paulo'].T.plot(color = 'darkgreen')\n",
    "axes.set_xlabel( 'Período de Tempo', fontdict = {'fontsize': 12})\n",
    "axes.set_ylabel('Valores (R$)', fontdict = {'fontsize': 12})\n",
    "\n",
    "axes2 = axes.twinx()\n",
    "dengue.drop(['Total', 'Regioes'], axis = 1).loc['São Paulo'].T.plot(color = 'deeppink')\n",
    "axes2.set_ylabel('Quantidade de Casos de Dengue', fontdict = {'fontsize': 12})\n",
    "\n",
    "axes.yaxis.set_major_formatter(ticker.StrMethodFormatter('{x:,.2f}'))\n",
    "\n",
    "custom_lines = [Line2D([0], [0], color = 'darkgreen', lw = 2), Line2D([0], [0], color = 'deeppink', lw = 2)]\n",
    "axes.legend(custom_lines, ['Gastos Hospitalares', 'Casos de Dengue'])\n",
    "\n",
    "plt.show()"
   ]
  },
  {
   "cell_type": "code",
   "execution_count": null,
   "metadata": {},
   "outputs": [],
   "source": [
    "fig, axes = plt.subplots(figsize = (20, 10))\n",
    "\n",
    "plt.title('Casos de Dengue e Gastos Hospitalares em Pernambuco de Fev/2008 a Mar/2021', fontsize = 15)\n",
    "\n",
    "atend_usaveis.drop(['Total', 'Regioes'], axis = 1).loc['Pernambuco'].T.plot(color = 'slateblue')\n",
    "axes.set_xlabel( 'Período de Tempo', fontdict = {'fontsize': 12})\n",
    "axes.set_ylabel('Valores (R$)', fontdict = {'fontsize': 12})\n",
    "\n",
    "axes2 = axes.twinx()\n",
    "dengue.drop(['Total', 'Regioes'], axis = 1).loc['Pernambuco'].T.plot(color = 'orangered')\n",
    "axes2.set_ylabel('Quantidade de Casos de Dengue', fontdict = {'fontsize': 12})\n",
    "\n",
    "axes.yaxis.set_major_formatter(ticker.StrMethodFormatter('{x:,.2f}'))\n",
    "\n",
    "custom_lines = [Line2D([0], [0], color = 'slateblue', lw = 2), Line2D([0], [0], color = 'orangered', lw = 2)]\n",
    "axes.legend(custom_lines, ['Gastos Hospitalares', 'Casos de Dengue'])\n",
    "\n",
    "plt.show()"
   ]
  },
  {
   "cell_type": "code",
   "execution_count": null,
   "metadata": {},
   "outputs": [],
   "source": [
    "fig, axes = plt.subplots(figsize = (20, 10))\n",
    "\n",
    "plt.title('Casos de Dengue e Gastos Hospitalares no Rio de Janeiro de Fev/2008 a Mar/2021', fontsize = 15)\n",
    "\n",
    "atend_usaveis.drop(['Total', 'Regioes'], axis = 1).loc['Rio de Janeiro'].T.plot(color = 'c')\n",
    "axes.set_xlabel( 'Período de Tempo', fontdict = {'fontsize': 12})\n",
    "axes.set_ylabel('Valores (R$)', fontdict = {'fontsize': 12})\n",
    "\n",
    "axes2 = axes.twinx()\n",
    "dengue.drop(['Total', 'Regioes'], axis = 1).loc['Rio de Janeiro'].T.plot(color = 'm')\n",
    "axes2.set_ylabel('Quantidade de Casos de Dengue', fontdict = {'fontsize': 12})\n",
    "\n",
    "axes.yaxis.set_major_formatter(ticker.StrMethodFormatter('{x:,.2f}'))\n",
    "\n",
    "custom_lines = [Line2D([0], [0], color = 'c', lw = 2), Line2D([0], [0], color = 'm', lw = 2)]\n",
    "axes.legend(custom_lines, ['Gastos Hospitalares', 'Casos de Dengue'])\n",
    "\n",
    "# plt.grid(color = 'grey', linestyle = '-', linewidth = 0.3, axis = 'y', alpha = 0.8)\n",
    "\n",
    "# plt.savefig('dengue_gastos.jpg')\n",
    "\n",
    "plt.show()"
   ]
  },
  {
   "cell_type": "markdown",
   "metadata": {},
   "source": [
    "Será que conseguimos chegar a alguma conclusão com esses gráficos?\n",
    "\n",
    "Aparentemente, os picos de gastos se antecipam aos picos de casos de dengue. Isso pode se dar por dois motivos:\n",
    "- O dataset sobre a dengue está com os dados de certo mês aparecendo apenas no mês seguinte ou\n",
    "- O governo já sabe que todo ano existem picos de casos de dengue e antecipa a distribuição de mais verbas nesses períodos.\n",
    "\n",
    "Uma melhor conclusão que foi apresentada pelo João Mirando no Discord é de que os picos dos gastos ocorrem antes do que os picos dos casos de dengue, \"indicando que ao perceberem que os casos estavam aumentando, eles aumentaram drasticamente os gastos e isso fez com que os casos diminuíssem.\"\n",
    "\n",
    "<hr>\n",
    "\n",
    "Tip: [Matplotlib - List of Named Colors](https://matplotlib.org/stable/gallery/color/named_colors.html)"
   ]
  },
  {
   "cell_type": "markdown",
   "metadata": {},
   "source": [
    "O que aprendemos nessa aula:\n",
    "- Como os números pseudo aleatórios são gerados;\n",
    "- Como obter uma amostra aleatória dos dados;\n",
    "- Como manipular os dados para plotar informações dos estados de desejo, através de ordenação;\n",
    "- O que são séries temporais."
   ]
  },
  {
   "cell_type": "markdown",
   "metadata": {},
   "source": [
    "# Aula 04 - Análise de Gráficos e Criação de Hipóteses"
   ]
  },
  {
   "cell_type": "markdown",
   "metadata": {},
   "source": [
    "O que temos é:"
   ]
  },
  {
   "cell_type": "code",
   "execution_count": null,
   "metadata": {},
   "outputs": [],
   "source": [
    "atend_usaveis.head()"
   ]
  },
  {
   "cell_type": "code",
   "execution_count": null,
   "metadata": {},
   "outputs": [],
   "source": [
    "# vamos ordenar esse dataframe pelo total\n",
    "atend_ord = atend_usaveis.drop('Regioes', axis = 1).sort_values(by = 'Total', ascending = False)"
   ]
  },
  {
   "cell_type": "code",
   "execution_count": null,
   "metadata": {},
   "outputs": [],
   "source": [
    "atend_ord.head()"
   ]
  },
  {
   "cell_type": "code",
   "execution_count": null,
   "metadata": {},
   "outputs": [],
   "source": [
    "atend_ord.head(5).drop('Total', axis = 1).T.plot(figsize = (10,6))"
   ]
  },
  {
   "cell_type": "code",
   "execution_count": null,
   "metadata": {},
   "outputs": [],
   "source": [
    "atend_ord = atend_ord / 1000000\n",
    "atend_ord = atend_ord.drop('Total', axis = 1)"
   ]
  },
  {
   "cell_type": "code",
   "execution_count": null,
   "metadata": {},
   "outputs": [],
   "source": [
    "atend_ord[atend_ord.columns[47:150]].head(3).T.plot(figsize = (10, 6))"
   ]
  },
  {
   "cell_type": "code",
   "execution_count": null,
   "metadata": {},
   "outputs": [],
   "source": [
    "atend_ord[atend_ord.columns[47:150]].head(3).T.plot(figsize = (10, 6))\n",
    "plt.ylim(0, 350)"
   ]
  },
  {
   "cell_type": "markdown",
   "metadata": {},
   "source": [
    "# Aula 05 - Manipulação e Interpretação dos Gráficos"
   ]
  },
  {
   "cell_type": "code",
   "execution_count": null,
   "metadata": {},
   "outputs": [],
   "source": [
    "mes_mais_recente = atend_ord.columns[-1]\n",
    "mes_mais_recente"
   ]
  },
  {
   "cell_type": "code",
   "execution_count": null,
   "metadata": {},
   "outputs": [],
   "source": [
    "atend_ord[mes_mais_recente].head()"
   ]
  },
  {
   "cell_type": "code",
   "execution_count": null,
   "metadata": {},
   "outputs": [],
   "source": [
    "# um gráfico sem sentido\n",
    "atend_ord[mes_mais_recente].plot()"
   ]
  },
  {
   "cell_type": "code",
   "execution_count": null,
   "metadata": {},
   "outputs": [],
   "source": [
    "# um gráfico horrível\n",
    "atend_ord[mes_mais_recente].plot(kind = 'pie')"
   ]
  },
  {
   "cell_type": "code",
   "execution_count": null,
   "metadata": {},
   "outputs": [],
   "source": [
    "(atend_ord[mes_mais_recente] / atend_ord[mes_mais_recente].loc['Ceará']).head(10)"
   ]
  },
  {
   "cell_type": "code",
   "execution_count": null,
   "metadata": {},
   "outputs": [],
   "source": [
    "(atend_ord[mes_mais_recente] / atend_ord[mes_mais_recente].loc['Ceará']).head(10).plot(kind = 'bar', figsize = (10, 6))\n",
    "plt.grid(color = 'grey', linestyle = '-', linewidth = 0.4, axis = 'y', alpha = 0.9)"
   ]
  },
  {
   "cell_type": "code",
   "execution_count": null,
   "metadata": {},
   "outputs": [],
   "source": [
    "gastos_do_mais_recente = atend_ord[mes_mais_recente]\n",
    "gastos_do_mais_recente = gastos_do_mais_recente.sort_values(ascending = False)\n",
    "gastos_do_mais_recente.plot(kind = 'bar', figsize = (10, 6))"
   ]
  },
  {
   "cell_type": "code",
   "execution_count": null,
   "metadata": {},
   "outputs": [],
   "source": []
  }
 ],
 "metadata": {
  "kernelspec": {
   "display_name": "Python 3",
   "language": "python",
   "name": "python3"
  },
  "language_info": {
   "codemirror_mode": {
    "name": "ipython",
    "version": 3
   },
   "file_extension": ".py",
   "mimetype": "text/x-python",
   "name": "python",
   "nbconvert_exporter": "python",
   "pygments_lexer": "ipython3",
   "version": "3.8.5"
  }
 },
 "nbformat": 4,
 "nbformat_minor": 4
}
